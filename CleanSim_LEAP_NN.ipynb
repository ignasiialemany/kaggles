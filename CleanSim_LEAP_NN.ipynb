{
 "cells": [
  {
   "cell_type": "code",
   "execution_count": 1,
   "id": "8ebcfe4b",
   "metadata": {
    "_cell_guid": "b1076dfc-b9ad-4769-8c92-a6c4dae69d19",
    "_uuid": "8f2839f25d086af736a60e9eeb907d3b93b6e0e5",
    "execution": {
     "iopub.execute_input": "2024-05-26T21:18:50.300530Z",
     "iopub.status.busy": "2024-05-26T21:18:50.299648Z",
     "iopub.status.idle": "2024-05-26T21:19:02.718472Z",
     "shell.execute_reply": "2024-05-26T21:19:02.717633Z"
    },
    "papermill": {
     "duration": 12.426172,
     "end_time": "2024-05-26T21:19:02.720863",
     "exception": false,
     "start_time": "2024-05-26T21:18:50.294691",
     "status": "completed"
    },
    "tags": []
   },
   "outputs": [
    {
     "name": "stderr",
     "output_type": "stream",
     "text": [
      "2024-05-26 21:18:52.061192: E external/local_xla/xla/stream_executor/cuda/cuda_dnn.cc:9261] Unable to register cuDNN factory: Attempting to register factory for plugin cuDNN when one has already been registered\n",
      "2024-05-26 21:18:52.061318: E external/local_xla/xla/stream_executor/cuda/cuda_fft.cc:607] Unable to register cuFFT factory: Attempting to register factory for plugin cuFFT when one has already been registered\n",
      "2024-05-26 21:18:52.199915: E external/local_xla/xla/stream_executor/cuda/cuda_blas.cc:1515] Unable to register cuBLAS factory: Attempting to register factory for plugin cuBLAS when one has already been registered\n"
     ]
    }
   ],
   "source": [
    "import tensorflow as tf\n",
    "import pandas as pd\n",
    "import os"
   ]
  },
  {
   "cell_type": "code",
   "execution_count": 2,
   "id": "538a6fa8",
   "metadata": {
    "execution": {
     "iopub.execute_input": "2024-05-26T21:19:02.729408Z",
     "iopub.status.busy": "2024-05-26T21:19:02.728876Z",
     "iopub.status.idle": "2024-05-26T21:19:02.734358Z",
     "shell.execute_reply": "2024-05-26T21:19:02.733614Z"
    },
    "papermill": {
     "duration": 0.011627,
     "end_time": "2024-05-26T21:19:02.736194",
     "exception": false,
     "start_time": "2024-05-26T21:19:02.724567",
     "status": "completed"
    },
    "tags": []
   },
   "outputs": [],
   "source": [
    "def parse_function(proto):\n",
    "    feature_description = {\n",
    "    'x': tf.io.FixedLenFeature([556], tf.float32),\n",
    "    'targets': tf.io.FixedLenFeature([368], tf.float32)\n",
    "    }     \n",
    "    parsed_features = tf.io.parse_single_example(proto, feature_description)\n",
    "    features = parsed_features['x']\n",
    "    targets = parsed_features['targets']\n",
    "    return features, targets"
   ]
  },
  {
   "cell_type": "code",
   "execution_count": 3,
   "id": "38e43dfb",
   "metadata": {
    "execution": {
     "iopub.execute_input": "2024-05-26T21:19:02.743367Z",
     "iopub.status.busy": "2024-05-26T21:19:02.743086Z",
     "iopub.status.idle": "2024-05-26T21:19:02.748104Z",
     "shell.execute_reply": "2024-05-26T21:19:02.747383Z"
    },
    "papermill": {
     "duration": 0.010631,
     "end_time": "2024-05-26T21:19:02.749955",
     "exception": false,
     "start_time": "2024-05-26T21:19:02.739324",
     "status": "completed"
    },
    "tags": []
   },
   "outputs": [],
   "source": [
    "N_elements_per_tfrecord = 100000\n",
    "file_path_data = \"/kaggle/input/leap-train-tfrecords/\"\n",
    "train_files = [os.path.join(file_path_data, \"train_%.3d.tfrec\" % i) for i in range(100)]\n",
    "valid_files = [os.path.join(file_path_data, \"train_%.3d.tfrec\" % i) for i in range(100, 101)]\n",
    "\n",
    "\n"
   ]
  },
  {
   "cell_type": "code",
   "execution_count": 4,
   "id": "c1862459",
   "metadata": {
    "execution": {
     "iopub.execute_input": "2024-05-26T21:19:02.757336Z",
     "iopub.status.busy": "2024-05-26T21:19:02.756865Z",
     "iopub.status.idle": "2024-05-26T21:19:03.525275Z",
     "shell.execute_reply": "2024-05-26T21:19:03.524502Z"
    },
    "papermill": {
     "duration": 0.774412,
     "end_time": "2024-05-26T21:19:03.527457",
     "exception": false,
     "start_time": "2024-05-26T21:19:02.753045",
     "status": "completed"
    },
    "tags": []
   },
   "outputs": [],
   "source": [
    "BATCH_SIZE=4024\n",
    "def build_dataset(filepaths):\n",
    "    return tf.data.TFRecordDataset(filepaths).shuffle(100).map(\n",
    "        map_func=parse_function,num_parallel_calls=tf.data.experimental.AUTOTUNE).batch(\n",
    "        batch_size=BATCH_SIZE).prefetch(buffer_size=tf.data.experimental.AUTOTUNE)\n",
    "\n",
    "\n",
    "train_set = build_dataset(train_files)\n",
    "valid_set = build_dataset(valid_files)\n",
    "\n"
   ]
  },
  {
   "cell_type": "code",
   "execution_count": 5,
   "id": "d3a04bb0",
   "metadata": {
    "execution": {
     "iopub.execute_input": "2024-05-26T21:19:03.535269Z",
     "iopub.status.busy": "2024-05-26T21:19:03.534985Z",
     "iopub.status.idle": "2024-05-26T21:19:12.619622Z",
     "shell.execute_reply": "2024-05-26T21:19:12.618613Z"
    },
    "papermill": {
     "duration": 9.091159,
     "end_time": "2024-05-26T21:19:12.622065",
     "exception": false,
     "start_time": "2024-05-26T21:19:03.530906",
     "status": "completed"
    },
    "tags": []
   },
   "outputs": [],
   "source": [
    "# Create normalization layer and adapt it to the training data\n",
    "normalization_layer = tf.keras.layers.Normalization()\n",
    "sample_data = train_set.map(lambda x, y: x).take(40)  # Take a sample of 20 batches to adapt the normalization layer\n",
    "normalization_layer.adapt(sample_data)\n",
    "\n",
    "# Define the model\n",
    "model = tf.keras.Sequential([\n",
    "    normalization_layer,\n",
    "    tf.keras.layers.Dense(2048, activation='relu'),\n",
    "    tf.keras.layers.Dense(1024, activation='relu'),\n",
    "    tf.keras.layers.Dense(512,activation=\"relu\"),\n",
    "    tf.keras.layers.Dense(368)  # Adjust the output shape as needed\n",
    "])\n"
   ]
  },
  {
   "cell_type": "code",
   "execution_count": 6,
   "id": "0e84d257",
   "metadata": {
    "execution": {
     "iopub.execute_input": "2024-05-26T21:19:12.630375Z",
     "iopub.status.busy": "2024-05-26T21:19:12.629647Z",
     "iopub.status.idle": "2024-05-26T21:19:12.641669Z",
     "shell.execute_reply": "2024-05-26T21:19:12.640794Z"
    },
    "papermill": {
     "duration": 0.018097,
     "end_time": "2024-05-26T21:19:12.643626",
     "exception": false,
     "start_time": "2024-05-26T21:19:12.625529",
     "status": "completed"
    },
    "tags": []
   },
   "outputs": [],
   "source": [
    "# Learning rate scheduler with warmup and cosine decay\n",
    "import numpy as np\n",
    "\n",
    "# Learning rate scheduler with exponential decay\n",
    "initial_learning_rate = 1e-3\n",
    "decay_steps = 100000  # Number of steps before the learning rate is decayed\n",
    "decay_rate = 0.96  # The rate at which the learning rate decays\n",
    "\n",
    "lr_scheduler = tf.keras.optimizers.schedules.ExponentialDecay(\n",
    "    initial_learning_rate=initial_learning_rate,\n",
    "    decay_steps=decay_steps,\n",
    "    decay_rate=decay_rate,\n",
    "    staircase=True  # If True, decay the learning rate at discrete intervals\n",
    ")\n",
    "\n",
    "model.compile(\n",
    "    optimizer=tf.keras.optimizers.Adam(learning_rate=lr_scheduler),\n",
    "    loss='mean_squared_error',\n",
    "    metrics=['mean_absolute_error']\n",
    ")\n"
   ]
  },
  {
   "cell_type": "code",
   "execution_count": 7,
   "id": "5497d0d0",
   "metadata": {
    "execution": {
     "iopub.execute_input": "2024-05-26T21:19:12.651339Z",
     "iopub.status.busy": "2024-05-26T21:19:12.650656Z",
     "iopub.status.idle": "2024-05-26T22:01:43.370337Z",
     "shell.execute_reply": "2024-05-26T22:01:43.369225Z"
    },
    "papermill": {
     "duration": 2550.725948,
     "end_time": "2024-05-26T22:01:43.372663",
     "exception": false,
     "start_time": "2024-05-26T21:19:12.646715",
     "status": "completed"
    },
    "tags": []
   },
   "outputs": [
    {
     "name": "stdout",
     "output_type": "stream",
     "text": [
      "Epoch 1/10\n",
      "\u001b[1m   6/2486\u001b[0m \u001b[37m━━━━━━━━━━━━━━━━━━━━\u001b[0m \u001b[1m1:11\u001b[0m 29ms/step - loss: 659.8342 - mean_absolute_error: 2.4289"
     ]
    },
    {
     "name": "stderr",
     "output_type": "stream",
     "text": [
      "WARNING: All log messages before absl::InitializeLog() is called are written to STDERR\n",
      "I0000 00:00:1716758355.794094      68 device_compiler.h:186] Compiled cluster using XLA!  This line is logged at most once for the lifetime of the process.\n",
      "W0000 00:00:1716758355.810990      68 graph_launch.cc:671] Fallback to op-by-op mode because memset node breaks graph update\n"
     ]
    },
    {
     "name": "stdout",
     "output_type": "stream",
     "text": [
      "\u001b[1m2486/2486\u001b[0m \u001b[32m━━━━━━━━━━━━━━━━━━━━\u001b[0m\u001b[37m\u001b[0m \u001b[1m0s\u001b[0m 238ms/step - loss: 31.8128 - mean_absolute_error: 0.7054"
     ]
    },
    {
     "name": "stderr",
     "output_type": "stream",
     "text": [
      "W0000 00:00:1716758947.095210      67 graph_launch.cc:671] Fallback to op-by-op mode because memset node breaks graph update\n",
      "W0000 00:00:1716758947.838164      66 graph_launch.cc:671] Fallback to op-by-op mode because memset node breaks graph update\n"
     ]
    },
    {
     "name": "stdout",
     "output_type": "stream",
     "text": [
      "\u001b[1m2486/2486\u001b[0m \u001b[32m━━━━━━━━━━━━━━━━━━━━\u001b[0m\u001b[37m\u001b[0m \u001b[1m601s\u001b[0m 240ms/step - loss: 31.8041 - mean_absolute_error: 0.7053 - val_loss: 5.3387 - val_mean_absolute_error: 0.5061\n",
      "Epoch 2/10\n"
     ]
    },
    {
     "name": "stderr",
     "output_type": "stream",
     "text": [
      "W0000 00:00:1716758953.410390      67 graph_launch.cc:671] Fallback to op-by-op mode because memset node breaks graph update\n",
      "/opt/conda/lib/python3.10/contextlib.py:153: UserWarning: Your input ran out of data; interrupting training. Make sure that your dataset or generator can generate at least `steps_per_epoch * epochs` batches. You may need to use the `.repeat()` function when building your dataset.\n",
      "  self.gen.throw(typ, value, traceback)\n"
     ]
    },
    {
     "name": "stdout",
     "output_type": "stream",
     "text": [
      "\u001b[1m2486/2486\u001b[0m \u001b[32m━━━━━━━━━━━━━━━━━━━━\u001b[0m\u001b[37m\u001b[0m \u001b[1m2s\u001b[0m 640us/step - loss: 0.0000e+00 - mean_absolute_error: 0.0000e+00 - val_loss: 5.3387 - val_mean_absolute_error: 0.5061\n",
      "Epoch 3/10\n",
      "\u001b[1m2486/2486\u001b[0m \u001b[32m━━━━━━━━━━━━━━━━━━━━\u001b[0m\u001b[37m\u001b[0m \u001b[1m485s\u001b[0m 195ms/step - loss: 6.9382 - mean_absolute_error: 0.4035 - val_loss: 5.7791 - val_mean_absolute_error: 0.3755\n",
      "Epoch 4/10\n",
      "\u001b[1m2486/2486\u001b[0m \u001b[32m━━━━━━━━━━━━━━━━━━━━\u001b[0m\u001b[37m\u001b[0m \u001b[1m3s\u001b[0m 1ms/step - loss: 0.0000e+00 - mean_absolute_error: 0.0000e+00 - val_loss: 5.7791 - val_mean_absolute_error: 0.3755\n",
      "Epoch 5/10\n",
      "\u001b[1m2486/2486\u001b[0m \u001b[32m━━━━━━━━━━━━━━━━━━━━\u001b[0m\u001b[37m\u001b[0m \u001b[1m476s\u001b[0m 192ms/step - loss: 5.5038 - mean_absolute_error: 0.3346 - val_loss: 4.8386 - val_mean_absolute_error: 0.2541\n",
      "Epoch 6/10\n",
      "\u001b[1m2486/2486\u001b[0m \u001b[32m━━━━━━━━━━━━━━━━━━━━\u001b[0m\u001b[37m\u001b[0m \u001b[1m3s\u001b[0m 1ms/step - loss: 0.0000e+00 - mean_absolute_error: 0.0000e+00 - val_loss: 4.8386 - val_mean_absolute_error: 0.2541\n",
      "Epoch 7/10\n",
      "\u001b[1m2486/2486\u001b[0m \u001b[32m━━━━━━━━━━━━━━━━━━━━\u001b[0m\u001b[37m\u001b[0m \u001b[1m478s\u001b[0m 192ms/step - loss: 4.8839 - mean_absolute_error: 0.2972 - val_loss: 4.1391 - val_mean_absolute_error: 0.2160\n",
      "Epoch 8/10\n",
      "\u001b[1m2486/2486\u001b[0m \u001b[32m━━━━━━━━━━━━━━━━━━━━\u001b[0m\u001b[37m\u001b[0m \u001b[1m2s\u001b[0m 612us/step - loss: 0.0000e+00 - mean_absolute_error: 0.0000e+00 - val_loss: 4.1391 - val_mean_absolute_error: 0.2160\n",
      "Epoch 9/10\n",
      "\u001b[1m2486/2486\u001b[0m \u001b[32m━━━━━━━━━━━━━━━━━━━━\u001b[0m\u001b[37m\u001b[0m \u001b[1m465s\u001b[0m 187ms/step - loss: 4.5010 - mean_absolute_error: 0.2746 - val_loss: 4.1752 - val_mean_absolute_error: 0.2013\n",
      "Epoch 10/10\n",
      "\u001b[1m2486/2486\u001b[0m \u001b[32m━━━━━━━━━━━━━━━━━━━━\u001b[0m\u001b[37m\u001b[0m \u001b[1m3s\u001b[0m 1ms/step - loss: 0.0000e+00 - mean_absolute_error: 0.0000e+00 - val_loss: 4.1752 - val_mean_absolute_error: 0.2013\n"
     ]
    }
   ],
   "source": [
    "steps_per_epoch = int(np.ceil(len(train_files) * 100000 / BATCH_SIZE))\n",
    "\n",
    "# Fit the model\n",
    "history = model.fit(\n",
    "    train_set,\n",
    "    validation_data=valid_set,\n",
    "    epochs=10,  # Total number of epochs\n",
    "    steps_per_epoch=steps_per_epoch,\n",
    "    validation_steps=steps_per_epoch // 10  # Adjust validation steps as needed\n",
    ")"
   ]
  },
  {
   "cell_type": "code",
   "execution_count": 8,
   "id": "05681ff9",
   "metadata": {
    "execution": {
     "iopub.execute_input": "2024-05-26T22:01:45.574115Z",
     "iopub.status.busy": "2024-05-26T22:01:45.573737Z",
     "iopub.status.idle": "2024-05-26T22:01:46.059087Z",
     "shell.execute_reply": "2024-05-26T22:01:46.058247Z"
    },
    "papermill": {
     "duration": 1.681727,
     "end_time": "2024-05-26T22:01:46.061150",
     "exception": false,
     "start_time": "2024-05-26T22:01:44.379423",
     "status": "completed"
    },
    "tags": []
   },
   "outputs": [
    {
     "data": {
      "image/png": "[encoded data removed]",
      "text/plain": [
       "<Figure size 640x480 with 1 Axes>"
      ]
     },
     "metadata": {},
     "output_type": "display_data"
    }
   ],
   "source": [
    "import matplotlib.pyplot as plt\n",
    "\n",
    "plt.plot(history.history['loss'], color='tab:blue')\n",
    "plt.plot(history.history['val_loss'], color='tab:red')\n",
    "plt.yscale('log')"
   ]
  }
 ],
 "metadata": {
  "kaggle": {
   "accelerator": "gpu",
   "dataSources": [
    {
     "databundleVersionId": 8015876,
     "sourceId": 56537,
     "sourceType": "competition"
    },
    {
     "datasetId": 5004471,
     "sourceId": 8409068,
     "sourceType": "datasetVersion"
    }
   ],
   "dockerImageVersionId": 30698,
   "isGpuEnabled": true,
   "isInternetEnabled": true,
   "language": "python",
   "sourceType": "notebook"
  },
  "kernelspec": {
   "display_name": "Python 3",
   "language": "python",
   "name": "python3"
  },
  "language_info": {
   "codemirror_mode": {
    "name": "ipython",
    "version": 3
   },
   "file_extension": ".py",
   "mimetype": "text/x-python",
   "name": "python",
   "nbconvert_exporter": "python",
   "pygments_lexer": "ipython3",
   "version": "3.10.13"
  },
  "papermill": {
   "default_parameters": {},
   "duration": 2581.998884,
   "end_time": "2024-05-26T22:01:49.525801",
   "environment_variables": {},
   "exception": null,
   "input_path": "__notebook__.ipynb",
   "output_path": "__notebook__.ipynb",
   "parameters": {},
   "start_time": "2024-05-26T21:18:47.526917",
   "version": "2.5.0"
  }
 },
 "nbformat": 4,
 "nbformat_minor": 5
}
