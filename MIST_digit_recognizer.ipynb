{
 "cells": [
  {
   "cell_type": "code",
   "execution_count": 1,
   "id": "a612f4c2",
   "metadata": {
    "_cell_guid": "b1076dfc-b9ad-4769-8c92-a6c4dae69d19",
    "_uuid": "8f2839f25d086af736a60e9eeb907d3b93b6e0e5",
    "execution": {
     "iopub.execute_input": "2024-05-22T07:41:53.649855Z",
     "iopub.status.busy": "2024-05-22T07:41:53.649476Z",
     "iopub.status.idle": "2024-05-22T07:42:06.743111Z",
     "shell.execute_reply": "2024-05-22T07:42:06.742110Z"
    },
    "papermill": {
     "duration": 13.104523,
     "end_time": "2024-05-22T07:42:06.745562",
     "exception": false,
     "start_time": "2024-05-22T07:41:53.641039",
     "status": "completed"
    },
    "tags": []
   },
   "outputs": [
    {
     "name": "stderr",
     "output_type": "stream",
     "text": [
      "2024-05-22 07:41:56.140452: E external/local_xla/xla/stream_executor/cuda/cuda_dnn.cc:9261] Unable to register cuDNN factory: Attempting to register factory for plugin cuDNN when one has already been registered\n",
      "2024-05-22 07:41:56.140593: E external/local_xla/xla/stream_executor/cuda/cuda_fft.cc:607] Unable to register cuFFT factory: Attempting to register factory for plugin cuFFT when one has already been registered\n",
      "2024-05-22 07:41:56.264899: E external/local_xla/xla/stream_executor/cuda/cuda_blas.cc:1515] Unable to register cuBLAS factory: Attempting to register factory for plugin cuBLAS when one has already been registered\n"
     ]
    }
   ],
   "source": [
    "import numpy as np\n",
    "import pandas as pd\n",
    "import matplotlib.pyplot as plt\n",
    "import tensorflow as tf"
   ]
  },
  {
   "cell_type": "code",
   "execution_count": 2,
   "id": "6c69d00b",
   "metadata": {
    "execution": {
     "iopub.execute_input": "2024-05-22T07:42:06.760419Z",
     "iopub.status.busy": "2024-05-22T07:42:06.759820Z",
     "iopub.status.idle": "2024-05-22T07:42:10.544382Z",
     "shell.execute_reply": "2024-05-22T07:42:10.543411Z"
    },
    "papermill": {
     "duration": 3.794665,
     "end_time": "2024-05-22T07:42:10.547054",
     "exception": false,
     "start_time": "2024-05-22T07:42:06.752389",
     "status": "completed"
    },
    "tags": []
   },
   "outputs": [],
   "source": [
    "data = pd.read_csv(\"/kaggle/input/digit-recognizer/train.csv\")"
   ]
  },
  {
   "cell_type": "code",
   "execution_count": 3,
   "id": "b12ab592",
   "metadata": {
    "execution": {
     "iopub.execute_input": "2024-05-22T07:42:10.562681Z",
     "iopub.status.busy": "2024-05-22T07:42:10.562045Z",
     "iopub.status.idle": "2024-05-22T07:42:12.763380Z",
     "shell.execute_reply": "2024-05-22T07:42:12.762307Z"
    },
    "papermill": {
     "duration": 2.211266,
     "end_time": "2024-05-22T07:42:12.765526",
     "exception": false,
     "start_time": "2024-05-22T07:42:10.554260",
     "status": "completed"
    },
    "tags": []
   },
   "outputs": [
    {
     "data": {
      "text/html": [
       "<div>\n",
       "<style scoped>\n",
       "    .dataframe tbody tr th:only-of-type {\n",
       "        vertical-align: middle;\n",
       "    }\n",
       "\n",
       "    .dataframe tbody tr th {\n",
       "        vertical-align: top;\n",
       "    }\n",
       "\n",
       "    .dataframe thead th {\n",
       "        text-align: right;\n",
       "    }\n",
       "</style>\n",
       "<table border=\"1\" class=\"dataframe\">\n",
       "  <thead>\n",
       "    <tr style=\"text-align: right;\">\n",
       "      <th></th>\n",
       "      <th>label</th>\n",
       "      <th>pixel0</th>\n",
       "      <th>pixel1</th>\n",
       "      <th>pixel2</th>\n",
       "      <th>pixel3</th>\n",
       "      <th>pixel4</th>\n",
       "      <th>pixel5</th>\n",
       "      <th>pixel6</th>\n",
       "      <th>pixel7</th>\n",
       "      <th>pixel8</th>\n",
       "      <th>...</th>\n",
       "      <th>pixel774</th>\n",
       "      <th>pixel775</th>\n",
       "      <th>pixel776</th>\n",
       "      <th>pixel777</th>\n",
       "      <th>pixel778</th>\n",
       "      <th>pixel779</th>\n",
       "      <th>pixel780</th>\n",
       "      <th>pixel781</th>\n",
       "      <th>pixel782</th>\n",
       "      <th>pixel783</th>\n",
       "    </tr>\n",
       "  </thead>\n",
       "  <tbody>\n",
       "    <tr>\n",
       "      <th>count</th>\n",
       "      <td>42000.000000</td>\n",
       "      <td>42000.0</td>\n",
       "      <td>42000.0</td>\n",
       "      <td>42000.0</td>\n",
       "      <td>42000.0</td>\n",
       "      <td>42000.0</td>\n",
       "      <td>42000.0</td>\n",
       "      <td>42000.0</td>\n",
       "      <td>42000.0</td>\n",
       "      <td>42000.0</td>\n",
       "      <td>...</td>\n",
       "      <td>42000.000000</td>\n",
       "      <td>42000.000000</td>\n",
       "      <td>42000.000000</td>\n",
       "      <td>42000.00000</td>\n",
       "      <td>42000.000000</td>\n",
       "      <td>42000.000000</td>\n",
       "      <td>42000.0</td>\n",
       "      <td>42000.0</td>\n",
       "      <td>42000.0</td>\n",
       "      <td>42000.0</td>\n",
       "    </tr>\n",
       "    <tr>\n",
       "      <th>mean</th>\n",
       "      <td>4.456643</td>\n",
       "      <td>0.0</td>\n",
       "      <td>0.0</td>\n",
       "      <td>0.0</td>\n",
       "      <td>0.0</td>\n",
       "      <td>0.0</td>\n",
       "      <td>0.0</td>\n",
       "      <td>0.0</td>\n",
       "      <td>0.0</td>\n",
       "      <td>0.0</td>\n",
       "      <td>...</td>\n",
       "      <td>0.219286</td>\n",
       "      <td>0.117095</td>\n",
       "      <td>0.059024</td>\n",
       "      <td>0.02019</td>\n",
       "      <td>0.017238</td>\n",
       "      <td>0.002857</td>\n",
       "      <td>0.0</td>\n",
       "      <td>0.0</td>\n",
       "      <td>0.0</td>\n",
       "      <td>0.0</td>\n",
       "    </tr>\n",
       "    <tr>\n",
       "      <th>std</th>\n",
       "      <td>2.887730</td>\n",
       "      <td>0.0</td>\n",
       "      <td>0.0</td>\n",
       "      <td>0.0</td>\n",
       "      <td>0.0</td>\n",
       "      <td>0.0</td>\n",
       "      <td>0.0</td>\n",
       "      <td>0.0</td>\n",
       "      <td>0.0</td>\n",
       "      <td>0.0</td>\n",
       "      <td>...</td>\n",
       "      <td>6.312890</td>\n",
       "      <td>4.633819</td>\n",
       "      <td>3.274488</td>\n",
       "      <td>1.75987</td>\n",
       "      <td>1.894498</td>\n",
       "      <td>0.414264</td>\n",
       "      <td>0.0</td>\n",
       "      <td>0.0</td>\n",
       "      <td>0.0</td>\n",
       "      <td>0.0</td>\n",
       "    </tr>\n",
       "    <tr>\n",
       "      <th>min</th>\n",
       "      <td>0.000000</td>\n",
       "      <td>0.0</td>\n",
       "      <td>0.0</td>\n",
       "      <td>0.0</td>\n",
       "      <td>0.0</td>\n",
       "      <td>0.0</td>\n",
       "      <td>0.0</td>\n",
       "      <td>0.0</td>\n",
       "      <td>0.0</td>\n",
       "      <td>0.0</td>\n",
       "      <td>...</td>\n",
       "      <td>0.000000</td>\n",
       "      <td>0.000000</td>\n",
       "      <td>0.000000</td>\n",
       "      <td>0.00000</td>\n",
       "      <td>0.000000</td>\n",
       "      <td>0.000000</td>\n",
       "      <td>0.0</td>\n",
       "      <td>0.0</td>\n",
       "      <td>0.0</td>\n",
       "      <td>0.0</td>\n",
       "    </tr>\n",
       "    <tr>\n",
       "      <th>25%</th>\n",
       "      <td>2.000000</td>\n",
       "      <td>0.0</td>\n",
       "      <td>0.0</td>\n",
       "      <td>0.0</td>\n",
       "      <td>0.0</td>\n",
       "      <td>0.0</td>\n",
       "      <td>0.0</td>\n",
       "      <td>0.0</td>\n",
       "      <td>0.0</td>\n",
       "      <td>0.0</td>\n",
       "      <td>...</td>\n",
       "      <td>0.000000</td>\n",
       "      <td>0.000000</td>\n",
       "      <td>0.000000</td>\n",
       "      <td>0.00000</td>\n",
       "      <td>0.000000</td>\n",
       "      <td>0.000000</td>\n",
       "      <td>0.0</td>\n",
       "      <td>0.0</td>\n",
       "      <td>0.0</td>\n",
       "      <td>0.0</td>\n",
       "    </tr>\n",
       "    <tr>\n",
       "      <th>50%</th>\n",
       "      <td>4.000000</td>\n",
       "      <td>0.0</td>\n",
       "      <td>0.0</td>\n",
       "      <td>0.0</td>\n",
       "      <td>0.0</td>\n",
       "      <td>0.0</td>\n",
       "      <td>0.0</td>\n",
       "      <td>0.0</td>\n",
       "      <td>0.0</td>\n",
       "      <td>0.0</td>\n",
       "      <td>...</td>\n",
       "      <td>0.000000</td>\n",
       "      <td>0.000000</td>\n",
       "      <td>0.000000</td>\n",
       "      <td>0.00000</td>\n",
       "      <td>0.000000</td>\n",
       "      <td>0.000000</td>\n",
       "      <td>0.0</td>\n",
       "      <td>0.0</td>\n",
       "      <td>0.0</td>\n",
       "      <td>0.0</td>\n",
       "    </tr>\n",
       "    <tr>\n",
       "      <th>75%</th>\n",
       "      <td>7.000000</td>\n",
       "      <td>0.0</td>\n",
       "      <td>0.0</td>\n",
       "      <td>0.0</td>\n",
       "      <td>0.0</td>\n",
       "      <td>0.0</td>\n",
       "      <td>0.0</td>\n",
       "      <td>0.0</td>\n",
       "      <td>0.0</td>\n",
       "      <td>0.0</td>\n",
       "      <td>...</td>\n",
       "      <td>0.000000</td>\n",
       "      <td>0.000000</td>\n",
       "      <td>0.000000</td>\n",
       "      <td>0.00000</td>\n",
       "      <td>0.000000</td>\n",
       "      <td>0.000000</td>\n",
       "      <td>0.0</td>\n",
       "      <td>0.0</td>\n",
       "      <td>0.0</td>\n",
       "      <td>0.0</td>\n",
       "    </tr>\n",
       "    <tr>\n",
       "      <th>max</th>\n",
       "      <td>9.000000</td>\n",
       "      <td>0.0</td>\n",
       "      <td>0.0</td>\n",
       "      <td>0.0</td>\n",
       "      <td>0.0</td>\n",
       "      <td>0.0</td>\n",
       "      <td>0.0</td>\n",
       "      <td>0.0</td>\n",
       "      <td>0.0</td>\n",
       "      <td>0.0</td>\n",
       "      <td>...</td>\n",
       "      <td>254.000000</td>\n",
       "      <td>254.000000</td>\n",
       "      <td>253.000000</td>\n",
       "      <td>253.00000</td>\n",
       "      <td>254.000000</td>\n",
       "      <td>62.000000</td>\n",
       "      <td>0.0</td>\n",
       "      <td>0.0</td>\n",
       "      <td>0.0</td>\n",
       "      <td>0.0</td>\n",
       "    </tr>\n",
       "  </tbody>\n",
       "</table>\n",
       "<p>8 rows × 785 columns</p>\n",
       "</div>"
      ],
      "text/plain": [
       "              label   pixel0   pixel1   pixel2   pixel3   pixel4   pixel5  \\\n",
       "count  42000.000000  42000.0  42000.0  42000.0  42000.0  42000.0  42000.0   \n",
       "mean       4.456643      0.0      0.0      0.0      0.0      0.0      0.0   \n",
       "std        2.887730      0.0      0.0      0.0      0.0      0.0      0.0   \n",
       "min        0.000000      0.0      0.0      0.0      0.0      0.0      0.0   \n",
       "25%        2.000000      0.0      0.0      0.0      0.0      0.0      0.0   \n",
       "50%        4.000000      0.0      0.0      0.0      0.0      0.0      0.0   \n",
       "75%        7.000000      0.0      0.0      0.0      0.0      0.0      0.0   \n",
       "max        9.000000      0.0      0.0      0.0      0.0      0.0      0.0   \n",
       "\n",
       "        pixel6   pixel7   pixel8  ...      pixel774      pixel775  \\\n",
       "count  42000.0  42000.0  42000.0  ...  42000.000000  42000.000000   \n",
       "mean       0.0      0.0      0.0  ...      0.219286      0.117095   \n",
       "std        0.0      0.0      0.0  ...      6.312890      4.633819   \n",
       "min        0.0      0.0      0.0  ...      0.000000      0.000000   \n",
       "25%        0.0      0.0      0.0  ...      0.000000      0.000000   \n",
       "50%        0.0      0.0      0.0  ...      0.000000      0.000000   \n",
       "75%        0.0      0.0      0.0  ...      0.000000      0.000000   \n",
       "max        0.0      0.0      0.0  ...    254.000000    254.000000   \n",
       "\n",
       "           pixel776     pixel777      pixel778      pixel779  pixel780  \\\n",
       "count  42000.000000  42000.00000  42000.000000  42000.000000   42000.0   \n",
       "mean       0.059024      0.02019      0.017238      0.002857       0.0   \n",
       "std        3.274488      1.75987      1.894498      0.414264       0.0   \n",
       "min        0.000000      0.00000      0.000000      0.000000       0.0   \n",
       "25%        0.000000      0.00000      0.000000      0.000000       0.0   \n",
       "50%        0.000000      0.00000      0.000000      0.000000       0.0   \n",
       "75%        0.000000      0.00000      0.000000      0.000000       0.0   \n",
       "max      253.000000    253.00000    254.000000     62.000000       0.0   \n",
       "\n",
       "       pixel781  pixel782  pixel783  \n",
       "count   42000.0   42000.0   42000.0  \n",
       "mean        0.0       0.0       0.0  \n",
       "std         0.0       0.0       0.0  \n",
       "min         0.0       0.0       0.0  \n",
       "25%         0.0       0.0       0.0  \n",
       "50%         0.0       0.0       0.0  \n",
       "75%         0.0       0.0       0.0  \n",
       "max         0.0       0.0       0.0  \n",
       "\n",
       "[8 rows x 785 columns]"
      ]
     },
     "execution_count": 3,
     "metadata": {},
     "output_type": "execute_result"
    }
   ],
   "source": [
    "data.describe()"
   ]
  },
  {
   "cell_type": "code",
   "execution_count": 4,
   "id": "0b197b91",
   "metadata": {
    "execution": {
     "iopub.execute_input": "2024-05-22T07:42:12.780733Z",
     "iopub.status.busy": "2024-05-22T07:42:12.780213Z",
     "iopub.status.idle": "2024-05-22T07:42:13.208566Z",
     "shell.execute_reply": "2024-05-22T07:42:13.207730Z"
    },
    "papermill": {
     "duration": 0.43848,
     "end_time": "2024-05-22T07:42:13.210894",
     "exception": false,
     "start_time": "2024-05-22T07:42:12.772414",
     "status": "completed"
    },
    "tags": []
   },
   "outputs": [],
   "source": [
    "#normalized pixel values\n",
    "pixel_vars = [var for var in data.columns if var.startswith(\"pixel\")]\n",
    "for var in pixel_vars:\n",
    "    data[var] /= 255"
   ]
  },
  {
   "cell_type": "code",
   "execution_count": 5,
   "id": "d850cfb9",
   "metadata": {
    "execution": {
     "iopub.execute_input": "2024-05-22T07:42:13.226728Z",
     "iopub.status.busy": "2024-05-22T07:42:13.226413Z",
     "iopub.status.idle": "2024-05-22T07:42:13.630281Z",
     "shell.execute_reply": "2024-05-22T07:42:13.629233Z"
    },
    "papermill": {
     "duration": 0.414732,
     "end_time": "2024-05-22T07:42:13.633076",
     "exception": false,
     "start_time": "2024-05-22T07:42:13.218344",
     "status": "completed"
    },
    "tags": []
   },
   "outputs": [],
   "source": [
    "features = data.iloc[:, 1:].values  # Excludes the label if it's the first column\n",
    "labels = data.iloc[:,0].values"
   ]
  },
  {
   "cell_type": "code",
   "execution_count": 6,
   "id": "4c5e5d0f",
   "metadata": {
    "execution": {
     "iopub.execute_input": "2024-05-22T07:42:13.649472Z",
     "iopub.status.busy": "2024-05-22T07:42:13.649126Z",
     "iopub.status.idle": "2024-05-22T07:42:13.880128Z",
     "shell.execute_reply": "2024-05-22T07:42:13.879081Z"
    },
    "papermill": {
     "duration": 0.241383,
     "end_time": "2024-05-22T07:42:13.882308",
     "exception": false,
     "start_time": "2024-05-22T07:42:13.640925",
     "status": "completed"
    },
    "tags": []
   },
   "outputs": [
    {
     "data": {
      "text/plain": [
       "<matplotlib.image.AxesImage at 0x78112a5b5270>"
      ]
     },
     "execution_count": 6,
     "metadata": {},
     "output_type": "execute_result"
    },
    {
     "data": {
      "image/png": "[encoded data removed]",
      "text/plain": [
       "<Figure size 640x480 with 1 Axes>"
      ]
     },
     "metadata": {},
     "output_type": "display_data"
    }
   ],
   "source": [
    "features_reshaped = features.reshape(-1,28,28,1)\n",
    "\n",
    "#plot one dataset\n",
    "plt.imshow(features_reshaped[10,:,:])"
   ]
  },
  {
   "cell_type": "code",
   "execution_count": 7,
   "id": "d83332f2",
   "metadata": {
    "execution": {
     "iopub.execute_input": "2024-05-22T07:42:13.900075Z",
     "iopub.status.busy": "2024-05-22T07:42:13.899716Z",
     "iopub.status.idle": "2024-05-22T07:42:14.878951Z",
     "shell.execute_reply": "2024-05-22T07:42:14.878060Z"
    },
    "papermill": {
     "duration": 0.991538,
     "end_time": "2024-05-22T07:42:14.881467",
     "exception": false,
     "start_time": "2024-05-22T07:42:13.889929",
     "status": "completed"
    },
    "tags": []
   },
   "outputs": [],
   "source": [
    "#convert dataset to tensor\n",
    "features_tensor = tf.convert_to_tensor(features_reshaped, dtype=tf.float32)\n",
    "labels_tensor = tf.convert_to_tensor(labels, dtype=tf.int32)\n"
   ]
  },
  {
   "cell_type": "code",
   "execution_count": 8,
   "id": "0926b595",
   "metadata": {
    "execution": {
     "iopub.execute_input": "2024-05-22T07:42:14.899784Z",
     "iopub.status.busy": "2024-05-22T07:42:14.899441Z",
     "iopub.status.idle": "2024-05-22T07:42:14.943086Z",
     "shell.execute_reply": "2024-05-22T07:42:14.941975Z"
    },
    "papermill": {
     "duration": 0.056267,
     "end_time": "2024-05-22T07:42:14.945632",
     "exception": false,
     "start_time": "2024-05-22T07:42:14.889365",
     "status": "completed"
    },
    "tags": []
   },
   "outputs": [],
   "source": [
    "# Assuming features_tensor and labels_tensor are your datasets\n",
    "N_exp = features_tensor.shape[0]\n",
    "indices = tf.range(start=0, limit=N_exp, dtype=tf.int32)\n",
    "shuffled_indices = tf.random.shuffle(indices)\n",
    "\n",
    "features_tensor = tf.gather(features_tensor, shuffled_indices)\n",
    "labels_tensor = tf.gather(labels_tensor, shuffled_indices)\n",
    "\n",
    "# Calculate the number of training examples\n",
    "train_size = int(0.8 * N_exp)\n",
    "\n",
    "# Split the features and labels into training and validation sets\n",
    "X_train = features_tensor[:train_size]\n",
    "y_train = labels_tensor[:train_size]\n",
    "X_valid = features_tensor[train_size:]\n",
    "y_valid = labels_tensor[train_size:]"
   ]
  },
  {
   "cell_type": "code",
   "execution_count": 9,
   "id": "3ac57d61",
   "metadata": {
    "execution": {
     "iopub.execute_input": "2024-05-22T07:42:14.962664Z",
     "iopub.status.busy": "2024-05-22T07:42:14.961906Z",
     "iopub.status.idle": "2024-05-22T07:42:15.080337Z",
     "shell.execute_reply": "2024-05-22T07:42:15.079274Z"
    },
    "papermill": {
     "duration": 0.129753,
     "end_time": "2024-05-22T07:42:15.082893",
     "exception": false,
     "start_time": "2024-05-22T07:42:14.953140",
     "status": "completed"
    },
    "tags": []
   },
   "outputs": [],
   "source": [
    "from tensorflow.keras.preprocessing.image import ImageDataGenerator\n",
    "\n",
    "# Training data generator with augmentation\n",
    "augmented_data_gen = ImageDataGenerator(\n",
    "    rotation_range=30,\n",
    "    width_shift_range=0.1,\n",
    "    height_shift_range=0.1,\n",
    "    shear_range=0.15,\n",
    "    zoom_range=0.2,\n",
    "    fill_mode='nearest'\n",
    ")\n",
    "\n",
    "# Training data without augmentation for comparison (only in debug mode set Shuffle to False for comparison in next cell)\n",
    "train_data_gen = ImageDataGenerator()\n",
    "\n",
    "# Validation data generator without augmentation\n",
    "validation_datagen = ImageDataGenerator()  # No augmentation for validation data\n",
    "\n",
    "# Configure generators to load data\n",
    "train_generator = train_data_gen.flow(X_train, y_train, batch_size=32)\n",
    "augmented_data_gen = augmented_data_gen.flow(X_train, y_train, batch_size=32)\n",
    "validation_generator = validation_datagen.flow(X_valid, y_valid, batch_size=32)\n"
   ]
  },
  {
   "cell_type": "code",
   "execution_count": 10,
   "id": "4fbcae5f",
   "metadata": {
    "execution": {
     "iopub.execute_input": "2024-05-22T07:42:15.099177Z",
     "iopub.status.busy": "2024-05-22T07:42:15.098845Z",
     "iopub.status.idle": "2024-05-22T07:42:15.605414Z",
     "shell.execute_reply": "2024-05-22T07:42:15.604361Z"
    },
    "papermill": {
     "duration": 0.519706,
     "end_time": "2024-05-22T07:42:15.610143",
     "exception": false,
     "start_time": "2024-05-22T07:42:15.090437",
     "status": "completed"
    },
    "tags": []
   },
   "outputs": [
    {
     "data": {
      "image/png": "[encoded data removed]",
      "text/plain": [
       "<Figure size 2000x500 with 5 Axes>"
      ]
     },
     "metadata": {},
     "output_type": "display_data"
    },
    {
     "data": {
      "image/png": "[encoded data removed]",
      "text/plain": [
       "<Figure size 2000x500 with 5 Axes>"
      ]
     },
     "metadata": {},
     "output_type": "display_data"
    }
   ],
   "source": [
    "# Get a batch of images\n",
    "x_batch, y_batch = next(train_generator)\n",
    "x_batch2, y_batch2 = next(augmented_data_gen)\n",
    "\n",
    "# Function to plot images in a grid\n",
    "def plot_images(images_arr):\n",
    "    fig, axes = plt.subplots(1, 5, figsize=(20, 5))\n",
    "    axes = axes.flatten()\n",
    "    for img, ax in zip(images_arr, axes):\n",
    "        ax.imshow(img.squeeze(), cmap='gray')  # Assuming grayscale images; remove 'cmap' for RGB\n",
    "        ax.axis('off')\n",
    "    plt.show()\n",
    "\n",
    "# Plot the images\n",
    "plot_images(x_batch[:5])  # Plot the first 5 images from the batch\n",
    "plot_images(x_batch2[:5])  # Plot the first 5 images from the batch\n"
   ]
  },
  {
   "cell_type": "code",
   "execution_count": 11,
   "id": "5333ce16",
   "metadata": {
    "execution": {
     "iopub.execute_input": "2024-05-22T07:42:15.659269Z",
     "iopub.status.busy": "2024-05-22T07:42:15.657368Z",
     "iopub.status.idle": "2024-05-22T07:42:15.809337Z",
     "shell.execute_reply": "2024-05-22T07:42:15.808345Z"
    },
    "papermill": {
     "duration": 0.178582,
     "end_time": "2024-05-22T07:42:15.811738",
     "exception": false,
     "start_time": "2024-05-22T07:42:15.633156",
     "status": "completed"
    },
    "tags": []
   },
   "outputs": [
    {
     "name": "stderr",
     "output_type": "stream",
     "text": [
      "/opt/conda/lib/python3.10/site-packages/keras/src/layers/convolutional/base_conv.py:99: UserWarning: Do not pass an `input_shape`/`input_dim` argument to a layer. When using Sequential models, prefer using an `Input(shape)` object as the first layer in the model instead.\n",
      "  super().__init__(\n"
     ]
    }
   ],
   "source": [
    "from tensorflow.keras.models import Sequential\n",
    "from tensorflow.keras.layers import Conv2D, MaxPooling2D, Flatten, Dense, Dropout, Activation\n",
    "from tensorflow.keras.preprocessing.image import ImageDataGenerator\n",
    "from tensorflow.keras.layers import BatchNormalization\n",
    "\n",
    "# Create a Sequential model\n",
    "model = Sequential([\n",
    "    # Convolutional layer: 32 filters, kernel size of 3x3\n",
    "    Conv2D(64, kernel_size=(3, 3), input_shape=(28, 28, 1)),\n",
    "    BatchNormalization(),\n",
    "    Activation('relu'),\n",
    "    # MaxPooling layer: Pooling size of 2x2\n",
    "    MaxPooling2D(pool_size=(2, 2)),\n",
    "    \n",
    "    Conv2D(32, kernel_size=(3, 3)),\n",
    "    BatchNormalization(),\n",
    "    Activation('relu'),\n",
    "    \n",
    "    Conv2D(16, kernel_size=(3, 3)),\n",
    "    BatchNormalization(),\n",
    "    Activation('relu'),\n",
    "    \n",
    "    # Flatten layer to flatten the output of the previous layers into a single vector\n",
    "    Flatten(),\n",
    "    # Dense layer with increased capacity\n",
    "    Dense(128, activation='relu'),\n",
    "    BatchNormalization(),\n",
    "    # Dropout layer to reduce overfitting\n",
    "    Dropout(0.5),\n",
    "    # Output layer with 10 units (for 10 classes of digits 0-9) and softmax activation\n",
    "    Dense(10, activation='softmax')\n",
    "])\n",
    "\n",
    "\n",
    "# Compile the model\n",
    "model.compile(optimizer='adam', loss='sparse_categorical_crossentropy', metrics=['accuracy'])"
   ]
  },
  {
   "cell_type": "code",
   "execution_count": 12,
   "id": "c381c7fe",
   "metadata": {
    "execution": {
     "iopub.execute_input": "2024-05-22T07:42:15.829272Z",
     "iopub.status.busy": "2024-05-22T07:42:15.828897Z",
     "iopub.status.idle": "2024-05-22T07:42:15.835273Z",
     "shell.execute_reply": "2024-05-22T07:42:15.834373Z"
    },
    "papermill": {
     "duration": 0.017694,
     "end_time": "2024-05-22T07:42:15.837588",
     "exception": false,
     "start_time": "2024-05-22T07:42:15.819894",
     "status": "completed"
    },
    "tags": []
   },
   "outputs": [
    {
     "data": {
      "text/plain": [
       "1050"
      ]
     },
     "execution_count": 12,
     "metadata": {},
     "output_type": "execute_result"
    }
   ],
   "source": [
    "len(X_train)//32"
   ]
  },
  {
   "cell_type": "code",
   "execution_count": 13,
   "id": "14fe31f5",
   "metadata": {
    "execution": {
     "iopub.execute_input": "2024-05-22T07:42:15.855642Z",
     "iopub.status.busy": "2024-05-22T07:42:15.855308Z",
     "iopub.status.idle": "2024-05-22T07:52:56.680375Z",
     "shell.execute_reply": "2024-05-22T07:52:56.679167Z"
    },
    "papermill": {
     "duration": 640.837141,
     "end_time": "2024-05-22T07:52:56.683122",
     "exception": false,
     "start_time": "2024-05-22T07:42:15.845981",
     "status": "completed"
    },
    "tags": []
   },
   "outputs": [
    {
     "name": "stdout",
     "output_type": "stream",
     "text": [
      "Epoch 1/40\n"
     ]
    },
    {
     "name": "stderr",
     "output_type": "stream",
     "text": [
      "/opt/conda/lib/python3.10/site-packages/keras/src/trainers/data_adapters/py_dataset_adapter.py:120: UserWarning: Your `PyDataset` class should call `super().__init__(**kwargs)` in its constructor. `**kwargs` can include `workers`, `use_multiprocessing`, `max_queue_size`. Do not pass these arguments to `fit()`, as they will be ignored.\n",
      "  self._warn_if_super_not_called()\n"
     ]
    },
    {
     "name": "stdout",
     "output_type": "stream",
     "text": [
      "\u001b[1m  14/1050\u001b[0m \u001b[37m━━━━━━━━━━━━━━━━━━━━\u001b[0m \u001b[1m13s\u001b[0m 13ms/step - accuracy: 0.1583 - loss: 3.1515"
     ]
    },
    {
     "name": "stderr",
     "output_type": "stream",
     "text": [
      "WARNING: All log messages before absl::InitializeLog() is called are written to STDERR\n",
      "I0000 00:00:1716363744.767625      66 device_compiler.h:186] Compiled cluster using XLA!  This line is logged at most once for the lifetime of the process.\n"
     ]
    },
    {
     "name": "stdout",
     "output_type": "stream",
     "text": [
      "\u001b[1m1050/1050\u001b[0m \u001b[32m━━━━━━━━━━━━━━━━━━━━\u001b[0m\u001b[37m\u001b[0m \u001b[1m25s\u001b[0m 15ms/step - accuracy: 0.6916 - loss: 1.0202 - val_accuracy: 0.9746 - val_loss: 0.0827\n",
      "Epoch 2/40\n",
      "\u001b[1m1050/1050\u001b[0m \u001b[32m━━━━━━━━━━━━━━━━━━━━\u001b[0m\u001b[37m\u001b[0m \u001b[1m15s\u001b[0m 14ms/step - accuracy: 0.9260 - loss: 0.2456 - val_accuracy: 0.9831 - val_loss: 0.0574\n",
      "Epoch 3/40\n",
      "\u001b[1m1050/1050\u001b[0m \u001b[32m━━━━━━━━━━━━━━━━━━━━\u001b[0m\u001b[37m\u001b[0m \u001b[1m15s\u001b[0m 14ms/step - accuracy: 0.9397 - loss: 0.2010 - val_accuracy: 0.9757 - val_loss: 0.0815\n",
      "Epoch 4/40\n",
      "\u001b[1m1050/1050\u001b[0m \u001b[32m━━━━━━━━━━━━━━━━━━━━\u001b[0m\u001b[37m\u001b[0m \u001b[1m15s\u001b[0m 14ms/step - accuracy: 0.9462 - loss: 0.1773 - val_accuracy: 0.9830 - val_loss: 0.0540\n",
      "Epoch 5/40\n",
      "\u001b[1m1050/1050\u001b[0m \u001b[32m━━━━━━━━━━━━━━━━━━━━\u001b[0m\u001b[37m\u001b[0m \u001b[1m21s\u001b[0m 14ms/step - accuracy: 0.9556 - loss: 0.1474 - val_accuracy: 0.9865 - val_loss: 0.0400\n",
      "Epoch 6/40\n",
      "\u001b[1m1050/1050\u001b[0m \u001b[32m━━━━━━━━━━━━━━━━━━━━\u001b[0m\u001b[37m\u001b[0m \u001b[1m15s\u001b[0m 14ms/step - accuracy: 0.9601 - loss: 0.1321 - val_accuracy: 0.9843 - val_loss: 0.0502\n",
      "Epoch 7/40\n",
      "\u001b[1m1050/1050\u001b[0m \u001b[32m━━━━━━━━━━━━━━━━━━━━\u001b[0m\u001b[37m\u001b[0m \u001b[1m15s\u001b[0m 14ms/step - accuracy: 0.9629 - loss: 0.1276 - val_accuracy: 0.9770 - val_loss: 0.0687\n",
      "Epoch 8/40\n",
      "\u001b[1m1050/1050\u001b[0m \u001b[32m━━━━━━━━━━━━━━━━━━━━\u001b[0m\u001b[37m\u001b[0m \u001b[1m15s\u001b[0m 14ms/step - accuracy: 0.9601 - loss: 0.1295 - val_accuracy: 0.9806 - val_loss: 0.0577\n",
      "Epoch 9/40\n",
      "\u001b[1m1050/1050\u001b[0m \u001b[32m━━━━━━━━━━━━━━━━━━━━\u001b[0m\u001b[37m\u001b[0m \u001b[1m20s\u001b[0m 14ms/step - accuracy: 0.9651 - loss: 0.1150 - val_accuracy: 0.9892 - val_loss: 0.0333\n",
      "Epoch 10/40\n",
      "\u001b[1m1050/1050\u001b[0m \u001b[32m━━━━━━━━━━━━━━━━━━━━\u001b[0m\u001b[37m\u001b[0m \u001b[1m15s\u001b[0m 14ms/step - accuracy: 0.9668 - loss: 0.1096 - val_accuracy: 0.9882 - val_loss: 0.0423\n",
      "Epoch 11/40\n",
      "\u001b[1m1050/1050\u001b[0m \u001b[32m━━━━━━━━━━━━━━━━━━━━\u001b[0m\u001b[37m\u001b[0m \u001b[1m15s\u001b[0m 14ms/step - accuracy: 0.9672 - loss: 0.1046 - val_accuracy: 0.9845 - val_loss: 0.0446\n",
      "Epoch 12/40\n",
      "\u001b[1m1050/1050\u001b[0m \u001b[32m━━━━━━━━━━━━━━━━━━━━\u001b[0m\u001b[37m\u001b[0m \u001b[1m15s\u001b[0m 14ms/step - accuracy: 0.9692 - loss: 0.1059 - val_accuracy: 0.9896 - val_loss: 0.0307\n",
      "Epoch 13/40\n",
      "\u001b[1m1050/1050\u001b[0m \u001b[32m━━━━━━━━━━━━━━━━━━━━\u001b[0m\u001b[37m\u001b[0m \u001b[1m15s\u001b[0m 14ms/step - accuracy: 0.9693 - loss: 0.1015 - val_accuracy: 0.9844 - val_loss: 0.0465\n",
      "Epoch 14/40\n",
      "\u001b[1m1050/1050\u001b[0m \u001b[32m━━━━━━━━━━━━━━━━━━━━\u001b[0m\u001b[37m\u001b[0m \u001b[1m15s\u001b[0m 14ms/step - accuracy: 0.9683 - loss: 0.1044 - val_accuracy: 0.9783 - val_loss: 0.0687\n",
      "Epoch 15/40\n",
      "\u001b[1m1050/1050\u001b[0m \u001b[32m━━━━━━━━━━━━━━━━━━━━\u001b[0m\u001b[37m\u001b[0m \u001b[1m15s\u001b[0m 14ms/step - accuracy: 0.9729 - loss: 0.0940 - val_accuracy: 0.9899 - val_loss: 0.0306\n",
      "Epoch 16/40\n",
      "\u001b[1m1050/1050\u001b[0m \u001b[32m━━━━━━━━━━━━━━━━━━━━\u001b[0m\u001b[37m\u001b[0m \u001b[1m15s\u001b[0m 14ms/step - accuracy: 0.9709 - loss: 0.0952 - val_accuracy: 0.9904 - val_loss: 0.0302\n",
      "Epoch 17/40\n",
      "\u001b[1m1050/1050\u001b[0m \u001b[32m━━━━━━━━━━━━━━━━━━━━\u001b[0m\u001b[37m\u001b[0m \u001b[1m15s\u001b[0m 14ms/step - accuracy: 0.9744 - loss: 0.0880 - val_accuracy: 0.9913 - val_loss: 0.0246\n",
      "Epoch 18/40\n",
      "\u001b[1m1050/1050\u001b[0m \u001b[32m━━━━━━━━━━━━━━━━━━━━\u001b[0m\u001b[37m\u001b[0m \u001b[1m15s\u001b[0m 14ms/step - accuracy: 0.9764 - loss: 0.0795 - val_accuracy: 0.9885 - val_loss: 0.0356\n",
      "Epoch 19/40\n",
      "\u001b[1m1050/1050\u001b[0m \u001b[32m━━━━━━━━━━━━━━━━━━━━\u001b[0m\u001b[37m\u001b[0m \u001b[1m15s\u001b[0m 14ms/step - accuracy: 0.9735 - loss: 0.0885 - val_accuracy: 0.9927 - val_loss: 0.0247\n",
      "Epoch 20/40\n",
      "\u001b[1m1050/1050\u001b[0m \u001b[32m━━━━━━━━━━━━━━━━━━━━\u001b[0m\u001b[37m\u001b[0m \u001b[1m15s\u001b[0m 14ms/step - accuracy: 0.9715 - loss: 0.0933 - val_accuracy: 0.9914 - val_loss: 0.0272\n",
      "Epoch 21/40\n",
      "\u001b[1m1050/1050\u001b[0m \u001b[32m━━━━━━━━━━━━━━━━━━━━\u001b[0m\u001b[37m\u001b[0m \u001b[1m21s\u001b[0m 14ms/step - accuracy: 0.9776 - loss: 0.0748 - val_accuracy: 0.9901 - val_loss: 0.0297\n",
      "Epoch 22/40\n",
      "\u001b[1m1050/1050\u001b[0m \u001b[32m━━━━━━━━━━━━━━━━━━━━\u001b[0m\u001b[37m\u001b[0m \u001b[1m15s\u001b[0m 15ms/step - accuracy: 0.9752 - loss: 0.0817 - val_accuracy: 0.9930 - val_loss: 0.0208\n",
      "Epoch 23/40\n",
      "\u001b[1m1050/1050\u001b[0m \u001b[32m━━━━━━━━━━━━━━━━━━━━\u001b[0m\u001b[37m\u001b[0m \u001b[1m20s\u001b[0m 14ms/step - accuracy: 0.9767 - loss: 0.0783 - val_accuracy: 0.9937 - val_loss: 0.0204\n",
      "Epoch 24/40\n",
      "\u001b[1m1050/1050\u001b[0m \u001b[32m━━━━━━━━━━━━━━━━━━━━\u001b[0m\u001b[37m\u001b[0m \u001b[1m16s\u001b[0m 15ms/step - accuracy: 0.9782 - loss: 0.0739 - val_accuracy: 0.9920 - val_loss: 0.0269\n",
      "Epoch 25/40\n",
      "\u001b[1m1050/1050\u001b[0m \u001b[32m━━━━━━━━━━━━━━━━━━━━\u001b[0m\u001b[37m\u001b[0m \u001b[1m15s\u001b[0m 14ms/step - accuracy: 0.9766 - loss: 0.0818 - val_accuracy: 0.9924 - val_loss: 0.0223\n",
      "Epoch 26/40\n",
      "\u001b[1m1050/1050\u001b[0m \u001b[32m━━━━━━━━━━━━━━━━━━━━\u001b[0m\u001b[37m\u001b[0m \u001b[1m21s\u001b[0m 15ms/step - accuracy: 0.9771 - loss: 0.0743 - val_accuracy: 0.9938 - val_loss: 0.0211\n",
      "Epoch 27/40\n",
      "\u001b[1m1050/1050\u001b[0m \u001b[32m━━━━━━━━━━━━━━━━━━━━\u001b[0m\u001b[37m\u001b[0m \u001b[1m20s\u001b[0m 14ms/step - accuracy: 0.9782 - loss: 0.0716 - val_accuracy: 0.9926 - val_loss: 0.0247\n",
      "Epoch 28/40\n",
      "\u001b[1m1050/1050\u001b[0m \u001b[32m━━━━━━━━━━━━━━━━━━━━\u001b[0m\u001b[37m\u001b[0m \u001b[1m15s\u001b[0m 15ms/step - accuracy: 0.9787 - loss: 0.0721 - val_accuracy: 0.9932 - val_loss: 0.0238\n",
      "Epoch 29/40\n",
      "\u001b[1m1050/1050\u001b[0m \u001b[32m━━━━━━━━━━━━━━━━━━━━\u001b[0m\u001b[37m\u001b[0m \u001b[1m15s\u001b[0m 14ms/step - accuracy: 0.9773 - loss: 0.0745 - val_accuracy: 0.9912 - val_loss: 0.0258\n",
      "Epoch 30/40\n",
      "\u001b[1m1050/1050\u001b[0m \u001b[32m━━━━━━━━━━━━━━━━━━━━\u001b[0m\u001b[37m\u001b[0m \u001b[1m15s\u001b[0m 14ms/step - accuracy: 0.9787 - loss: 0.0732 - val_accuracy: 0.9944 - val_loss: 0.0216\n",
      "Epoch 31/40\n",
      "\u001b[1m1050/1050\u001b[0m \u001b[32m━━━━━━━━━━━━━━━━━━━━\u001b[0m\u001b[37m\u001b[0m \u001b[1m15s\u001b[0m 14ms/step - accuracy: 0.9796 - loss: 0.0694 - val_accuracy: 0.9908 - val_loss: 0.0289\n",
      "Epoch 32/40\n",
      "\u001b[1m1050/1050\u001b[0m \u001b[32m━━━━━━━━━━━━━━━━━━━━\u001b[0m\u001b[37m\u001b[0m \u001b[1m15s\u001b[0m 14ms/step - accuracy: 0.9804 - loss: 0.0642 - val_accuracy: 0.9938 - val_loss: 0.0226\n",
      "Epoch 33/40\n",
      "\u001b[1m1050/1050\u001b[0m \u001b[32m━━━━━━━━━━━━━━━━━━━━\u001b[0m\u001b[37m\u001b[0m \u001b[1m15s\u001b[0m 14ms/step - accuracy: 0.9799 - loss: 0.0660 - val_accuracy: 0.9940 - val_loss: 0.0224\n",
      "Epoch 34/40\n",
      "\u001b[1m1050/1050\u001b[0m \u001b[32m━━━━━━━━━━━━━━━━━━━━\u001b[0m\u001b[37m\u001b[0m \u001b[1m15s\u001b[0m 14ms/step - accuracy: 0.9776 - loss: 0.0721 - val_accuracy: 0.9931 - val_loss: 0.0207\n",
      "Epoch 35/40\n",
      "\u001b[1m1050/1050\u001b[0m \u001b[32m━━━━━━━━━━━━━━━━━━━━\u001b[0m\u001b[37m\u001b[0m \u001b[1m15s\u001b[0m 14ms/step - accuracy: 0.9799 - loss: 0.0658 - val_accuracy: 0.9939 - val_loss: 0.0209\n",
      "Epoch 36/40\n",
      "\u001b[1m1050/1050\u001b[0m \u001b[32m━━━━━━━━━━━━━━━━━━━━\u001b[0m\u001b[37m\u001b[0m \u001b[1m15s\u001b[0m 14ms/step - accuracy: 0.9806 - loss: 0.0636 - val_accuracy: 0.9936 - val_loss: 0.0239\n",
      "Epoch 37/40\n",
      "\u001b[1m1050/1050\u001b[0m \u001b[32m━━━━━━━━━━━━━━━━━━━━\u001b[0m\u001b[37m\u001b[0m \u001b[1m15s\u001b[0m 14ms/step - accuracy: 0.9811 - loss: 0.0634 - val_accuracy: 0.9929 - val_loss: 0.0249\n",
      "Epoch 38/40\n",
      "\u001b[1m1050/1050\u001b[0m \u001b[32m━━━━━━━━━━━━━━━━━━━━\u001b[0m\u001b[37m\u001b[0m \u001b[1m15s\u001b[0m 14ms/step - accuracy: 0.9800 - loss: 0.0611 - val_accuracy: 0.9930 - val_loss: 0.0235\n",
      "Epoch 39/40\n",
      "\u001b[1m1050/1050\u001b[0m \u001b[32m━━━━━━━━━━━━━━━━━━━━\u001b[0m\u001b[37m\u001b[0m \u001b[1m15s\u001b[0m 14ms/step - accuracy: 0.9813 - loss: 0.0623 - val_accuracy: 0.9946 - val_loss: 0.0184\n",
      "Epoch 40/40\n",
      "\u001b[1m1050/1050\u001b[0m \u001b[32m━━━━━━━━━━━━━━━━━━━━\u001b[0m\u001b[37m\u001b[0m \u001b[1m15s\u001b[0m 14ms/step - accuracy: 0.9808 - loss: 0.0653 - val_accuracy: 0.9912 - val_loss: 0.0270\n"
     ]
    }
   ],
   "source": [
    "# Model setup as previously defined\n",
    "history = model.fit(\n",
    "    augmented_data_gen,\n",
    "    epochs=40,\n",
    "    validation_data=validation_generator)"
   ]
  },
  {
   "cell_type": "code",
   "execution_count": 14,
   "id": "c165dbeb",
   "metadata": {
    "execution": {
     "iopub.execute_input": "2024-05-22T07:52:58.673477Z",
     "iopub.status.busy": "2024-05-22T07:52:58.673099Z",
     "iopub.status.idle": "2024-05-22T07:52:59.294516Z",
     "shell.execute_reply": "2024-05-22T07:52:59.293468Z"
    },
    "papermill": {
     "duration": 1.606471,
     "end_time": "2024-05-22T07:52:59.297184",
     "exception": false,
     "start_time": "2024-05-22T07:52:57.690713",
     "status": "completed"
    },
    "tags": []
   },
   "outputs": [
    {
     "data": {
      "image/png": "[encoded data removed]",
      "text/plain": [
       "<Figure size 1200x500 with 2 Axes>"
      ]
     },
     "metadata": {},
     "output_type": "display_data"
    }
   ],
   "source": [
    "import matplotlib.pyplot as plt\n",
    "\n",
    "# Accessing the history data\n",
    "acc = history.history['accuracy']\n",
    "val_acc = history.history['val_accuracy']\n",
    "loss = history.history['loss']\n",
    "val_loss = history.history['val_loss']\n",
    "epochs = range(1, len(acc) + 1)\n",
    "\n",
    "# Plot training and validation accuracy\n",
    "plt.figure(figsize=(12, 5))\n",
    "plt.subplot(1, 2, 1)\n",
    "plt.plot(epochs, acc, 'bo', label='Training accuracy')\n",
    "plt.plot(epochs, val_acc, 'b', label='Validation accuracy')\n",
    "plt.title('Training and Validation accuracy')\n",
    "plt.xlabel('Epochs')\n",
    "plt.ylabel('Accuracy')\n",
    "plt.legend()\n",
    "\n",
    "# Plot training and validation loss\n",
    "plt.subplot(1, 2, 2)\n",
    "plt.plot(epochs, loss, 'bo', label='Training loss')\n",
    "plt.plot(epochs, val_loss, 'b', label='Validation loss')\n",
    "plt.title('Training and Validation loss')\n",
    "plt.xlabel('Epochs')\n",
    "plt.ylabel('Loss')\n",
    "plt.legend()\n",
    "\n",
    "plt.show()"
   ]
  },
  {
   "cell_type": "code",
   "execution_count": 15,
   "id": "0a0c028a",
   "metadata": {
    "execution": {
     "iopub.execute_input": "2024-05-22T07:53:01.264534Z",
     "iopub.status.busy": "2024-05-22T07:53:01.263788Z",
     "iopub.status.idle": "2024-05-22T07:53:03.743584Z",
     "shell.execute_reply": "2024-05-22T07:53:03.742567Z"
    },
    "papermill": {
     "duration": 3.423373,
     "end_time": "2024-05-22T07:53:03.745783",
     "exception": false,
     "start_time": "2024-05-22T07:53:00.322410",
     "status": "completed"
    },
    "tags": []
   },
   "outputs": [
    {
     "data": {
      "text/html": [
       "<div>\n",
       "<style scoped>\n",
       "    .dataframe tbody tr th:only-of-type {\n",
       "        vertical-align: middle;\n",
       "    }\n",
       "\n",
       "    .dataframe tbody tr th {\n",
       "        vertical-align: top;\n",
       "    }\n",
       "\n",
       "    .dataframe thead th {\n",
       "        text-align: right;\n",
       "    }\n",
       "</style>\n",
       "<table border=\"1\" class=\"dataframe\">\n",
       "  <thead>\n",
       "    <tr style=\"text-align: right;\">\n",
       "      <th></th>\n",
       "      <th>pixel0</th>\n",
       "      <th>pixel1</th>\n",
       "      <th>pixel2</th>\n",
       "      <th>pixel3</th>\n",
       "      <th>pixel4</th>\n",
       "      <th>pixel5</th>\n",
       "      <th>pixel6</th>\n",
       "      <th>pixel7</th>\n",
       "      <th>pixel8</th>\n",
       "      <th>pixel9</th>\n",
       "      <th>...</th>\n",
       "      <th>pixel774</th>\n",
       "      <th>pixel775</th>\n",
       "      <th>pixel776</th>\n",
       "      <th>pixel777</th>\n",
       "      <th>pixel778</th>\n",
       "      <th>pixel779</th>\n",
       "      <th>pixel780</th>\n",
       "      <th>pixel781</th>\n",
       "      <th>pixel782</th>\n",
       "      <th>pixel783</th>\n",
       "    </tr>\n",
       "  </thead>\n",
       "  <tbody>\n",
       "    <tr>\n",
       "      <th>0</th>\n",
       "      <td>0</td>\n",
       "      <td>0</td>\n",
       "      <td>0</td>\n",
       "      <td>0</td>\n",
       "      <td>0</td>\n",
       "      <td>0</td>\n",
       "      <td>0</td>\n",
       "      <td>0</td>\n",
       "      <td>0</td>\n",
       "      <td>0</td>\n",
       "      <td>...</td>\n",
       "      <td>0</td>\n",
       "      <td>0</td>\n",
       "      <td>0</td>\n",
       "      <td>0</td>\n",
       "      <td>0</td>\n",
       "      <td>0</td>\n",
       "      <td>0</td>\n",
       "      <td>0</td>\n",
       "      <td>0</td>\n",
       "      <td>0</td>\n",
       "    </tr>\n",
       "    <tr>\n",
       "      <th>1</th>\n",
       "      <td>0</td>\n",
       "      <td>0</td>\n",
       "      <td>0</td>\n",
       "      <td>0</td>\n",
       "      <td>0</td>\n",
       "      <td>0</td>\n",
       "      <td>0</td>\n",
       "      <td>0</td>\n",
       "      <td>0</td>\n",
       "      <td>0</td>\n",
       "      <td>...</td>\n",
       "      <td>0</td>\n",
       "      <td>0</td>\n",
       "      <td>0</td>\n",
       "      <td>0</td>\n",
       "      <td>0</td>\n",
       "      <td>0</td>\n",
       "      <td>0</td>\n",
       "      <td>0</td>\n",
       "      <td>0</td>\n",
       "      <td>0</td>\n",
       "    </tr>\n",
       "    <tr>\n",
       "      <th>2</th>\n",
       "      <td>0</td>\n",
       "      <td>0</td>\n",
       "      <td>0</td>\n",
       "      <td>0</td>\n",
       "      <td>0</td>\n",
       "      <td>0</td>\n",
       "      <td>0</td>\n",
       "      <td>0</td>\n",
       "      <td>0</td>\n",
       "      <td>0</td>\n",
       "      <td>...</td>\n",
       "      <td>0</td>\n",
       "      <td>0</td>\n",
       "      <td>0</td>\n",
       "      <td>0</td>\n",
       "      <td>0</td>\n",
       "      <td>0</td>\n",
       "      <td>0</td>\n",
       "      <td>0</td>\n",
       "      <td>0</td>\n",
       "      <td>0</td>\n",
       "    </tr>\n",
       "    <tr>\n",
       "      <th>3</th>\n",
       "      <td>0</td>\n",
       "      <td>0</td>\n",
       "      <td>0</td>\n",
       "      <td>0</td>\n",
       "      <td>0</td>\n",
       "      <td>0</td>\n",
       "      <td>0</td>\n",
       "      <td>0</td>\n",
       "      <td>0</td>\n",
       "      <td>0</td>\n",
       "      <td>...</td>\n",
       "      <td>0</td>\n",
       "      <td>0</td>\n",
       "      <td>0</td>\n",
       "      <td>0</td>\n",
       "      <td>0</td>\n",
       "      <td>0</td>\n",
       "      <td>0</td>\n",
       "      <td>0</td>\n",
       "      <td>0</td>\n",
       "      <td>0</td>\n",
       "    </tr>\n",
       "    <tr>\n",
       "      <th>4</th>\n",
       "      <td>0</td>\n",
       "      <td>0</td>\n",
       "      <td>0</td>\n",
       "      <td>0</td>\n",
       "      <td>0</td>\n",
       "      <td>0</td>\n",
       "      <td>0</td>\n",
       "      <td>0</td>\n",
       "      <td>0</td>\n",
       "      <td>0</td>\n",
       "      <td>...</td>\n",
       "      <td>0</td>\n",
       "      <td>0</td>\n",
       "      <td>0</td>\n",
       "      <td>0</td>\n",
       "      <td>0</td>\n",
       "      <td>0</td>\n",
       "      <td>0</td>\n",
       "      <td>0</td>\n",
       "      <td>0</td>\n",
       "      <td>0</td>\n",
       "    </tr>\n",
       "  </tbody>\n",
       "</table>\n",
       "<p>5 rows × 784 columns</p>\n",
       "</div>"
      ],
      "text/plain": [
       "   pixel0  pixel1  pixel2  pixel3  pixel4  pixel5  pixel6  pixel7  pixel8  \\\n",
       "0       0       0       0       0       0       0       0       0       0   \n",
       "1       0       0       0       0       0       0       0       0       0   \n",
       "2       0       0       0       0       0       0       0       0       0   \n",
       "3       0       0       0       0       0       0       0       0       0   \n",
       "4       0       0       0       0       0       0       0       0       0   \n",
       "\n",
       "   pixel9  ...  pixel774  pixel775  pixel776  pixel777  pixel778  pixel779  \\\n",
       "0       0  ...         0         0         0         0         0         0   \n",
       "1       0  ...         0         0         0         0         0         0   \n",
       "2       0  ...         0         0         0         0         0         0   \n",
       "3       0  ...         0         0         0         0         0         0   \n",
       "4       0  ...         0         0         0         0         0         0   \n",
       "\n",
       "   pixel780  pixel781  pixel782  pixel783  \n",
       "0         0         0         0         0  \n",
       "1         0         0         0         0  \n",
       "2         0         0         0         0  \n",
       "3         0         0         0         0  \n",
       "4         0         0         0         0  \n",
       "\n",
       "[5 rows x 784 columns]"
      ]
     },
     "execution_count": 15,
     "metadata": {},
     "output_type": "execute_result"
    }
   ],
   "source": [
    "data_test = pd.read_csv(\"/kaggle/input/digit-recognizer/test.csv\")\n",
    "data_test.head()\n"
   ]
  },
  {
   "cell_type": "code",
   "execution_count": 16,
   "id": "8a41d64c",
   "metadata": {
    "execution": {
     "iopub.execute_input": "2024-05-22T07:53:05.694544Z",
     "iopub.status.busy": "2024-05-22T07:53:05.694167Z",
     "iopub.status.idle": "2024-05-22T07:53:05.768982Z",
     "shell.execute_reply": "2024-05-22T07:53:05.767958Z"
    },
    "papermill": {
     "duration": 1.016343,
     "end_time": "2024-05-22T07:53:05.771116",
     "exception": false,
     "start_time": "2024-05-22T07:53:04.754773",
     "status": "completed"
    },
    "tags": []
   },
   "outputs": [
    {
     "data": {
      "text/plain": [
       "(28000, 28, 28)"
      ]
     },
     "execution_count": 16,
     "metadata": {},
     "output_type": "execute_result"
    }
   ],
   "source": [
    "features_test = data_test.iloc[:,:].values\n",
    "features_test = features_test/255\n",
    "features_test = features_test.reshape(-1,28,28)\n",
    "features_test.shape"
   ]
  },
  {
   "cell_type": "code",
   "execution_count": 17,
   "id": "1c993a8d",
   "metadata": {
    "execution": {
     "iopub.execute_input": "2024-05-22T07:53:07.694968Z",
     "iopub.status.busy": "2024-05-22T07:53:07.694565Z",
     "iopub.status.idle": "2024-05-22T07:53:10.359903Z",
     "shell.execute_reply": "2024-05-22T07:53:10.358826Z"
    },
    "papermill": {
     "duration": 3.606797,
     "end_time": "2024-05-22T07:53:10.362544",
     "exception": false,
     "start_time": "2024-05-22T07:53:06.755747",
     "status": "completed"
    },
    "tags": []
   },
   "outputs": [
    {
     "name": "stdout",
     "output_type": "stream",
     "text": [
      "\u001b[1m875/875\u001b[0m \u001b[32m━━━━━━━━━━━━━━━━━━━━\u001b[0m\u001b[37m\u001b[0m \u001b[1m2s\u001b[0m 2ms/step\n"
     ]
    }
   ],
   "source": [
    "predictions = model.predict(features_test)"
   ]
  },
  {
   "cell_type": "code",
   "execution_count": 18,
   "id": "57529b7d",
   "metadata": {
    "execution": {
     "iopub.execute_input": "2024-05-22T07:53:12.304906Z",
     "iopub.status.busy": "2024-05-22T07:53:12.304111Z",
     "iopub.status.idle": "2024-05-22T07:53:12.309851Z",
     "shell.execute_reply": "2024-05-22T07:53:12.308970Z"
    },
    "papermill": {
     "duration": 1.00486,
     "end_time": "2024-05-22T07:53:12.312053",
     "exception": false,
     "start_time": "2024-05-22T07:53:11.307193",
     "status": "completed"
    },
    "tags": []
   },
   "outputs": [],
   "source": [
    "predictions = np.argmax(predictions, axis=1)"
   ]
  },
  {
   "cell_type": "code",
   "execution_count": 19,
   "id": "02c78465",
   "metadata": {
    "execution": {
     "iopub.execute_input": "2024-05-22T07:53:14.242779Z",
     "iopub.status.busy": "2024-05-22T07:53:14.241718Z",
     "iopub.status.idle": "2024-05-22T07:53:14.248886Z",
     "shell.execute_reply": "2024-05-22T07:53:14.247854Z"
    },
    "papermill": {
     "duration": 1.003733,
     "end_time": "2024-05-22T07:53:14.251048",
     "exception": false,
     "start_time": "2024-05-22T07:53:13.247315",
     "status": "completed"
    },
    "tags": []
   },
   "outputs": [
    {
     "data": {
      "text/plain": [
       "array([2, 0, 9, ..., 3, 9, 2])"
      ]
     },
     "execution_count": 19,
     "metadata": {},
     "output_type": "execute_result"
    }
   ],
   "source": [
    "predictions"
   ]
  },
  {
   "cell_type": "code",
   "execution_count": 20,
   "id": "a5803629",
   "metadata": {
    "execution": {
     "iopub.execute_input": "2024-05-22T07:53:16.177168Z",
     "iopub.status.busy": "2024-05-22T07:53:16.176339Z",
     "iopub.status.idle": "2024-05-22T07:53:16.220731Z",
     "shell.execute_reply": "2024-05-22T07:53:16.219602Z"
    },
    "papermill": {
     "duration": 1.00043,
     "end_time": "2024-05-22T07:53:16.223366",
     "exception": false,
     "start_time": "2024-05-22T07:53:15.222936",
     "status": "completed"
    },
    "tags": []
   },
   "outputs": [],
   "source": [
    "submission = pd.DataFrame({'ImageId': range(1, len(predictions) + 1), 'Label': predictions})\n",
    "submission.to_csv('submission.csv', index=False)"
   ]
  }
 ],
 "metadata": {
  "kaggle": {
   "accelerator": "none",
   "dataSources": [
    {
     "databundleVersionId": 861823,
     "sourceId": 3004,
     "sourceType": "competition"
    }
   ],
   "dockerImageVersionId": 30698,
   "isGpuEnabled": false,
   "isInternetEnabled": true,
   "language": "python",
   "sourceType": "notebook"
  },
  "kernelspec": {
   "display_name": "Python 3",
   "language": "python",
   "name": "python3"
  },
  "language_info": {
   "codemirror_mode": {
    "name": "ipython",
    "version": 3
   },
   "file_extension": ".py",
   "mimetype": "text/x-python",
   "name": "python",
   "nbconvert_exporter": "python",
   "pygments_lexer": "ipython3",
   "version": "3.10.13"
  },
  "papermill": {
   "default_parameters": {},
   "duration": 688.821366,
   "end_time": "2024-05-22T07:53:19.394173",
   "environment_variables": {},
   "exception": null,
   "input_path": "__notebook__.ipynb",
   "output_path": "__notebook__.ipynb",
   "parameters": {},
   "start_time": "2024-05-22T07:41:50.572807",
   "version": "2.5.0"
  }
 },
 "nbformat": 4,
 "nbformat_minor": 5
}
