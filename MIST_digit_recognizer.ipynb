{
 "cells": [
  {
   "cell_type": "code",
   "execution_count": 1,
   "id": "0a405b4b",
   "metadata": {
    "_cell_guid": "b1076dfc-b9ad-4769-8c92-a6c4dae69d19",
    "_uuid": "8f2839f25d086af736a60e9eeb907d3b93b6e0e5",
    "execution": {
     "iopub.execute_input": "2024-05-22T10:31:07.109102Z",
     "iopub.status.busy": "2024-05-22T10:31:07.108742Z",
     "iopub.status.idle": "2024-05-22T10:31:18.655495Z",
     "shell.execute_reply": "2024-05-22T10:31:18.654699Z"
    },
    "papermill": {
     "duration": 11.556784,
     "end_time": "2024-05-22T10:31:18.657760",
     "exception": false,
     "start_time": "2024-05-22T10:31:07.100976",
     "status": "completed"
    },
    "tags": []
   },
   "outputs": [
    {
     "name": "stderr",
     "output_type": "stream",
     "text": [
      "2024-05-22 10:31:09.321132: E external/local_xla/xla/stream_executor/cuda/cuda_dnn.cc:9261] Unable to register cuDNN factory: Attempting to register factory for plugin cuDNN when one has already been registered\n",
      "2024-05-22 10:31:09.321229: E external/local_xla/xla/stream_executor/cuda/cuda_fft.cc:607] Unable to register cuFFT factory: Attempting to register factory for plugin cuFFT when one has already been registered\n",
      "2024-05-22 10:31:09.435701: E external/local_xla/xla/stream_executor/cuda/cuda_blas.cc:1515] Unable to register cuBLAS factory: Attempting to register factory for plugin cuBLAS when one has already been registered\n"
     ]
    }
   ],
   "source": [
    "import numpy as np\n",
    "import pandas as pd\n",
    "import matplotlib.pyplot as plt\n",
    "import tensorflow as tf"
   ]
  },
  {
   "cell_type": "code",
   "execution_count": 2,
   "id": "41c6f8a2",
   "metadata": {
    "execution": {
     "iopub.execute_input": "2024-05-22T10:31:18.671400Z",
     "iopub.status.busy": "2024-05-22T10:31:18.670840Z",
     "iopub.status.idle": "2024-05-22T10:31:22.284025Z",
     "shell.execute_reply": "2024-05-22T10:31:22.283002Z"
    },
    "papermill": {
     "duration": 3.622475,
     "end_time": "2024-05-22T10:31:22.286456",
     "exception": false,
     "start_time": "2024-05-22T10:31:18.663981",
     "status": "completed"
    },
    "tags": []
   },
   "outputs": [],
   "source": [
    "data = pd.read_csv(\"/kaggle/input/digit-recognizer/train.csv\")"
   ]
  },
  {
   "cell_type": "code",
   "execution_count": 3,
   "id": "41d26918",
   "metadata": {
    "execution": {
     "iopub.execute_input": "2024-05-22T10:31:22.306586Z",
     "iopub.status.busy": "2024-05-22T10:31:22.306259Z",
     "iopub.status.idle": "2024-05-22T10:31:24.300164Z",
     "shell.execute_reply": "2024-05-22T10:31:24.299194Z"
    },
    "papermill": {
     "duration": 2.003956,
     "end_time": "2024-05-22T10:31:24.302416",
     "exception": false,
     "start_time": "2024-05-22T10:31:22.298460",
     "status": "completed"
    },
    "tags": []
   },
   "outputs": [
    {
     "data": {
      "text/html": [
       "<div>\n",
       "<style scoped>\n",
       "    .dataframe tbody tr th:only-of-type {\n",
       "        vertical-align: middle;\n",
       "    }\n",
       "\n",
       "    .dataframe tbody tr th {\n",
       "        vertical-align: top;\n",
       "    }\n",
       "\n",
       "    .dataframe thead th {\n",
       "        text-align: right;\n",
       "    }\n",
       "</style>\n",
       "<table border=\"1\" class=\"dataframe\">\n",
       "  <thead>\n",
       "    <tr style=\"text-align: right;\">\n",
       "      <th></th>\n",
       "      <th>label</th>\n",
       "      <th>pixel0</th>\n",
       "      <th>pixel1</th>\n",
       "      <th>pixel2</th>\n",
       "      <th>pixel3</th>\n",
       "      <th>pixel4</th>\n",
       "      <th>pixel5</th>\n",
       "      <th>pixel6</th>\n",
       "      <th>pixel7</th>\n",
       "      <th>pixel8</th>\n",
       "      <th>...</th>\n",
       "      <th>pixel774</th>\n",
       "      <th>pixel775</th>\n",
       "      <th>pixel776</th>\n",
       "      <th>pixel777</th>\n",
       "      <th>pixel778</th>\n",
       "      <th>pixel779</th>\n",
       "      <th>pixel780</th>\n",
       "      <th>pixel781</th>\n",
       "      <th>pixel782</th>\n",
       "      <th>pixel783</th>\n",
       "    </tr>\n",
       "  </thead>\n",
       "  <tbody>\n",
       "    <tr>\n",
       "      <th>count</th>\n",
       "      <td>42000.000000</td>\n",
       "      <td>42000.0</td>\n",
       "      <td>42000.0</td>\n",
       "      <td>42000.0</td>\n",
       "      <td>42000.0</td>\n",
       "      <td>42000.0</td>\n",
       "      <td>42000.0</td>\n",
       "      <td>42000.0</td>\n",
       "      <td>42000.0</td>\n",
       "      <td>42000.0</td>\n",
       "      <td>...</td>\n",
       "      <td>42000.000000</td>\n",
       "      <td>42000.000000</td>\n",
       "      <td>42000.000000</td>\n",
       "      <td>42000.00000</td>\n",
       "      <td>42000.000000</td>\n",
       "      <td>42000.000000</td>\n",
       "      <td>42000.0</td>\n",
       "      <td>42000.0</td>\n",
       "      <td>42000.0</td>\n",
       "      <td>42000.0</td>\n",
       "    </tr>\n",
       "    <tr>\n",
       "      <th>mean</th>\n",
       "      <td>4.456643</td>\n",
       "      <td>0.0</td>\n",
       "      <td>0.0</td>\n",
       "      <td>0.0</td>\n",
       "      <td>0.0</td>\n",
       "      <td>0.0</td>\n",
       "      <td>0.0</td>\n",
       "      <td>0.0</td>\n",
       "      <td>0.0</td>\n",
       "      <td>0.0</td>\n",
       "      <td>...</td>\n",
       "      <td>0.219286</td>\n",
       "      <td>0.117095</td>\n",
       "      <td>0.059024</td>\n",
       "      <td>0.02019</td>\n",
       "      <td>0.017238</td>\n",
       "      <td>0.002857</td>\n",
       "      <td>0.0</td>\n",
       "      <td>0.0</td>\n",
       "      <td>0.0</td>\n",
       "      <td>0.0</td>\n",
       "    </tr>\n",
       "    <tr>\n",
       "      <th>std</th>\n",
       "      <td>2.887730</td>\n",
       "      <td>0.0</td>\n",
       "      <td>0.0</td>\n",
       "      <td>0.0</td>\n",
       "      <td>0.0</td>\n",
       "      <td>0.0</td>\n",
       "      <td>0.0</td>\n",
       "      <td>0.0</td>\n",
       "      <td>0.0</td>\n",
       "      <td>0.0</td>\n",
       "      <td>...</td>\n",
       "      <td>6.312890</td>\n",
       "      <td>4.633819</td>\n",
       "      <td>3.274488</td>\n",
       "      <td>1.75987</td>\n",
       "      <td>1.894498</td>\n",
       "      <td>0.414264</td>\n",
       "      <td>0.0</td>\n",
       "      <td>0.0</td>\n",
       "      <td>0.0</td>\n",
       "      <td>0.0</td>\n",
       "    </tr>\n",
       "    <tr>\n",
       "      <th>min</th>\n",
       "      <td>0.000000</td>\n",
       "      <td>0.0</td>\n",
       "      <td>0.0</td>\n",
       "      <td>0.0</td>\n",
       "      <td>0.0</td>\n",
       "      <td>0.0</td>\n",
       "      <td>0.0</td>\n",
       "      <td>0.0</td>\n",
       "      <td>0.0</td>\n",
       "      <td>0.0</td>\n",
       "      <td>...</td>\n",
       "      <td>0.000000</td>\n",
       "      <td>0.000000</td>\n",
       "      <td>0.000000</td>\n",
       "      <td>0.00000</td>\n",
       "      <td>0.000000</td>\n",
       "      <td>0.000000</td>\n",
       "      <td>0.0</td>\n",
       "      <td>0.0</td>\n",
       "      <td>0.0</td>\n",
       "      <td>0.0</td>\n",
       "    </tr>\n",
       "    <tr>\n",
       "      <th>25%</th>\n",
       "      <td>2.000000</td>\n",
       "      <td>0.0</td>\n",
       "      <td>0.0</td>\n",
       "      <td>0.0</td>\n",
       "      <td>0.0</td>\n",
       "      <td>0.0</td>\n",
       "      <td>0.0</td>\n",
       "      <td>0.0</td>\n",
       "      <td>0.0</td>\n",
       "      <td>0.0</td>\n",
       "      <td>...</td>\n",
       "      <td>0.000000</td>\n",
       "      <td>0.000000</td>\n",
       "      <td>0.000000</td>\n",
       "      <td>0.00000</td>\n",
       "      <td>0.000000</td>\n",
       "      <td>0.000000</td>\n",
       "      <td>0.0</td>\n",
       "      <td>0.0</td>\n",
       "      <td>0.0</td>\n",
       "      <td>0.0</td>\n",
       "    </tr>\n",
       "    <tr>\n",
       "      <th>50%</th>\n",
       "      <td>4.000000</td>\n",
       "      <td>0.0</td>\n",
       "      <td>0.0</td>\n",
       "      <td>0.0</td>\n",
       "      <td>0.0</td>\n",
       "      <td>0.0</td>\n",
       "      <td>0.0</td>\n",
       "      <td>0.0</td>\n",
       "      <td>0.0</td>\n",
       "      <td>0.0</td>\n",
       "      <td>...</td>\n",
       "      <td>0.000000</td>\n",
       "      <td>0.000000</td>\n",
       "      <td>0.000000</td>\n",
       "      <td>0.00000</td>\n",
       "      <td>0.000000</td>\n",
       "      <td>0.000000</td>\n",
       "      <td>0.0</td>\n",
       "      <td>0.0</td>\n",
       "      <td>0.0</td>\n",
       "      <td>0.0</td>\n",
       "    </tr>\n",
       "    <tr>\n",
       "      <th>75%</th>\n",
       "      <td>7.000000</td>\n",
       "      <td>0.0</td>\n",
       "      <td>0.0</td>\n",
       "      <td>0.0</td>\n",
       "      <td>0.0</td>\n",
       "      <td>0.0</td>\n",
       "      <td>0.0</td>\n",
       "      <td>0.0</td>\n",
       "      <td>0.0</td>\n",
       "      <td>0.0</td>\n",
       "      <td>...</td>\n",
       "      <td>0.000000</td>\n",
       "      <td>0.000000</td>\n",
       "      <td>0.000000</td>\n",
       "      <td>0.00000</td>\n",
       "      <td>0.000000</td>\n",
       "      <td>0.000000</td>\n",
       "      <td>0.0</td>\n",
       "      <td>0.0</td>\n",
       "      <td>0.0</td>\n",
       "      <td>0.0</td>\n",
       "    </tr>\n",
       "    <tr>\n",
       "      <th>max</th>\n",
       "      <td>9.000000</td>\n",
       "      <td>0.0</td>\n",
       "      <td>0.0</td>\n",
       "      <td>0.0</td>\n",
       "      <td>0.0</td>\n",
       "      <td>0.0</td>\n",
       "      <td>0.0</td>\n",
       "      <td>0.0</td>\n",
       "      <td>0.0</td>\n",
       "      <td>0.0</td>\n",
       "      <td>...</td>\n",
       "      <td>254.000000</td>\n",
       "      <td>254.000000</td>\n",
       "      <td>253.000000</td>\n",
       "      <td>253.00000</td>\n",
       "      <td>254.000000</td>\n",
       "      <td>62.000000</td>\n",
       "      <td>0.0</td>\n",
       "      <td>0.0</td>\n",
       "      <td>0.0</td>\n",
       "      <td>0.0</td>\n",
       "    </tr>\n",
       "  </tbody>\n",
       "</table>\n",
       "<p>8 rows × 785 columns</p>\n",
       "</div>"
      ],
      "text/plain": [
       "              label   pixel0   pixel1   pixel2   pixel3   pixel4   pixel5  \\\n",
       "count  42000.000000  42000.0  42000.0  42000.0  42000.0  42000.0  42000.0   \n",
       "mean       4.456643      0.0      0.0      0.0      0.0      0.0      0.0   \n",
       "std        2.887730      0.0      0.0      0.0      0.0      0.0      0.0   \n",
       "min        0.000000      0.0      0.0      0.0      0.0      0.0      0.0   \n",
       "25%        2.000000      0.0      0.0      0.0      0.0      0.0      0.0   \n",
       "50%        4.000000      0.0      0.0      0.0      0.0      0.0      0.0   \n",
       "75%        7.000000      0.0      0.0      0.0      0.0      0.0      0.0   \n",
       "max        9.000000      0.0      0.0      0.0      0.0      0.0      0.0   \n",
       "\n",
       "        pixel6   pixel7   pixel8  ...      pixel774      pixel775  \\\n",
       "count  42000.0  42000.0  42000.0  ...  42000.000000  42000.000000   \n",
       "mean       0.0      0.0      0.0  ...      0.219286      0.117095   \n",
       "std        0.0      0.0      0.0  ...      6.312890      4.633819   \n",
       "min        0.0      0.0      0.0  ...      0.000000      0.000000   \n",
       "25%        0.0      0.0      0.0  ...      0.000000      0.000000   \n",
       "50%        0.0      0.0      0.0  ...      0.000000      0.000000   \n",
       "75%        0.0      0.0      0.0  ...      0.000000      0.000000   \n",
       "max        0.0      0.0      0.0  ...    254.000000    254.000000   \n",
       "\n",
       "           pixel776     pixel777      pixel778      pixel779  pixel780  \\\n",
       "count  42000.000000  42000.00000  42000.000000  42000.000000   42000.0   \n",
       "mean       0.059024      0.02019      0.017238      0.002857       0.0   \n",
       "std        3.274488      1.75987      1.894498      0.414264       0.0   \n",
       "min        0.000000      0.00000      0.000000      0.000000       0.0   \n",
       "25%        0.000000      0.00000      0.000000      0.000000       0.0   \n",
       "50%        0.000000      0.00000      0.000000      0.000000       0.0   \n",
       "75%        0.000000      0.00000      0.000000      0.000000       0.0   \n",
       "max      253.000000    253.00000    254.000000     62.000000       0.0   \n",
       "\n",
       "       pixel781  pixel782  pixel783  \n",
       "count   42000.0   42000.0   42000.0  \n",
       "mean        0.0       0.0       0.0  \n",
       "std         0.0       0.0       0.0  \n",
       "min         0.0       0.0       0.0  \n",
       "25%         0.0       0.0       0.0  \n",
       "50%         0.0       0.0       0.0  \n",
       "75%         0.0       0.0       0.0  \n",
       "max         0.0       0.0       0.0  \n",
       "\n",
       "[8 rows x 785 columns]"
      ]
     },
     "execution_count": 3,
     "metadata": {},
     "output_type": "execute_result"
    }
   ],
   "source": [
    "data.describe()"
   ]
  },
  {
   "cell_type": "code",
   "execution_count": 4,
   "id": "4e93c6ff",
   "metadata": {
    "execution": {
     "iopub.execute_input": "2024-05-22T10:31:24.316547Z",
     "iopub.status.busy": "2024-05-22T10:31:24.316239Z",
     "iopub.status.idle": "2024-05-22T10:31:24.723346Z",
     "shell.execute_reply": "2024-05-22T10:31:24.722560Z"
    },
    "papermill": {
     "duration": 0.416688,
     "end_time": "2024-05-22T10:31:24.725666",
     "exception": false,
     "start_time": "2024-05-22T10:31:24.308978",
     "status": "completed"
    },
    "tags": []
   },
   "outputs": [],
   "source": [
    "#normalized pixel values\n",
    "pixel_vars = [var for var in data.columns if var.startswith(\"pixel\")]\n",
    "for var in pixel_vars:\n",
    "    data[var] /= 255"
   ]
  },
  {
   "cell_type": "code",
   "execution_count": 5,
   "id": "645cec41",
   "metadata": {
    "execution": {
     "iopub.execute_input": "2024-05-22T10:31:24.740736Z",
     "iopub.status.busy": "2024-05-22T10:31:24.739945Z",
     "iopub.status.idle": "2024-05-22T10:31:25.096161Z",
     "shell.execute_reply": "2024-05-22T10:31:25.095113Z"
    },
    "papermill": {
     "duration": 0.366147,
     "end_time": "2024-05-22T10:31:25.098576",
     "exception": false,
     "start_time": "2024-05-22T10:31:24.732429",
     "status": "completed"
    },
    "tags": []
   },
   "outputs": [],
   "source": [
    "features = data.iloc[:, 1:].values  # Excludes the label if it's the first column\n",
    "labels = data.iloc[:,0].values"
   ]
  },
  {
   "cell_type": "code",
   "execution_count": 6,
   "id": "247a0511",
   "metadata": {
    "execution": {
     "iopub.execute_input": "2024-05-22T10:31:25.112648Z",
     "iopub.status.busy": "2024-05-22T10:31:25.112347Z",
     "iopub.status.idle": "2024-05-22T10:31:25.377125Z",
     "shell.execute_reply": "2024-05-22T10:31:25.376176Z"
    },
    "papermill": {
     "duration": 0.27394,
     "end_time": "2024-05-22T10:31:25.379093",
     "exception": false,
     "start_time": "2024-05-22T10:31:25.105153",
     "status": "completed"
    },
    "tags": []
   },
   "outputs": [
    {
     "data": {
      "text/plain": [
       "<matplotlib.image.AxesImage at 0x7f32eba63d00>"
      ]
     },
     "execution_count": 6,
     "metadata": {},
     "output_type": "execute_result"
    },
    {
     "data": {
      "image/png": "[encoded data removed]",
      "text/plain": [
       "<Figure size 640x480 with 1 Axes>"
      ]
     },
     "metadata": {},
     "output_type": "display_data"
    }
   ],
   "source": [
    "features_reshaped = features.reshape(-1,28,28,1)\n",
    "\n",
    "#plot one dataset\n",
    "plt.imshow(features_reshaped[10,:,:])"
   ]
  },
  {
   "cell_type": "code",
   "execution_count": 7,
   "id": "c340c135",
   "metadata": {
    "execution": {
     "iopub.execute_input": "2024-05-22T10:31:25.394113Z",
     "iopub.status.busy": "2024-05-22T10:31:25.393382Z",
     "iopub.status.idle": "2024-05-22T10:31:26.279360Z",
     "shell.execute_reply": "2024-05-22T10:31:26.278342Z"
    },
    "papermill": {
     "duration": 0.896038,
     "end_time": "2024-05-22T10:31:26.281942",
     "exception": false,
     "start_time": "2024-05-22T10:31:25.385904",
     "status": "completed"
    },
    "tags": []
   },
   "outputs": [],
   "source": [
    "#convert dataset to tensor\n",
    "features_tensor = tf.convert_to_tensor(features_reshaped, dtype=tf.float32)\n",
    "labels_tensor = tf.convert_to_tensor(labels, dtype=tf.int32)\n"
   ]
  },
  {
   "cell_type": "code",
   "execution_count": 8,
   "id": "91ac5390",
   "metadata": {
    "execution": {
     "iopub.execute_input": "2024-05-22T10:31:26.296900Z",
     "iopub.status.busy": "2024-05-22T10:31:26.296575Z",
     "iopub.status.idle": "2024-05-22T10:31:26.328443Z",
     "shell.execute_reply": "2024-05-22T10:31:26.327719Z"
    },
    "papermill": {
     "duration": 0.041534,
     "end_time": "2024-05-22T10:31:26.330365",
     "exception": false,
     "start_time": "2024-05-22T10:31:26.288831",
     "status": "completed"
    },
    "tags": []
   },
   "outputs": [],
   "source": [
    "# Assuming features_tensor and labels_tensor are your datasets\n",
    "N_exp = features_tensor.shape[0]\n",
    "indices = tf.range(start=0, limit=N_exp, dtype=tf.int32)\n",
    "shuffled_indices = tf.random.shuffle(indices)\n",
    "\n",
    "features_tensor = tf.gather(features_tensor, shuffled_indices)\n",
    "labels_tensor = tf.gather(labels_tensor, shuffled_indices)\n",
    "\n",
    "# Calculate the number of training examples\n",
    "train_size = int(0.8 * N_exp)\n",
    "\n",
    "# Split the features and labels into training and validation sets\n",
    "X_train = features_tensor[:train_size]\n",
    "y_train = labels_tensor[:train_size]\n",
    "X_valid = features_tensor[train_size:]\n",
    "y_valid = labels_tensor[train_size:]"
   ]
  },
  {
   "cell_type": "code",
   "execution_count": 9,
   "id": "31c13ca3",
   "metadata": {
    "execution": {
     "iopub.execute_input": "2024-05-22T10:31:26.344957Z",
     "iopub.status.busy": "2024-05-22T10:31:26.344572Z",
     "iopub.status.idle": "2024-05-22T10:31:26.459290Z",
     "shell.execute_reply": "2024-05-22T10:31:26.458347Z"
    },
    "papermill": {
     "duration": 0.124616,
     "end_time": "2024-05-22T10:31:26.461745",
     "exception": false,
     "start_time": "2024-05-22T10:31:26.337129",
     "status": "completed"
    },
    "tags": []
   },
   "outputs": [],
   "source": [
    "from tensorflow.keras.preprocessing.image import ImageDataGenerator\n",
    "\n",
    "# Training data generator with augmentation\n",
    "augmented_data_gen = ImageDataGenerator(\n",
    "    rotation_range=30,\n",
    "    width_shift_range=0.1,\n",
    "    height_shift_range=0.1,\n",
    "    shear_range=0.15,\n",
    "    zoom_range=0.2,\n",
    "    fill_mode='nearest'\n",
    ")\n",
    "\n",
    "# Training data without augmentation for comparison (only in debug mode set Shuffle to False for comparison in next cell)\n",
    "train_data_gen = ImageDataGenerator()\n",
    "\n",
    "# Validation data generator without augmentation\n",
    "validation_datagen = ImageDataGenerator()  # No augmentation for validation data\n",
    "\n",
    "# Configure generators to load data\n",
    "train_generator = train_data_gen.flow(X_train, y_train, batch_size=50)\n",
    "augmented_data_gen = augmented_data_gen.flow(X_train, y_train, batch_size=50)\n",
    "validation_generator = validation_datagen.flow(X_valid, y_valid, batch_size=50)\n"
   ]
  },
  {
   "cell_type": "code",
   "execution_count": 10,
   "id": "a2d07842",
   "metadata": {
    "execution": {
     "iopub.execute_input": "2024-05-22T10:31:26.476779Z",
     "iopub.status.busy": "2024-05-22T10:31:26.476449Z",
     "iopub.status.idle": "2024-05-22T10:31:27.034527Z",
     "shell.execute_reply": "2024-05-22T10:31:27.033129Z"
    },
    "papermill": {
     "duration": 0.569741,
     "end_time": "2024-05-22T10:31:27.038411",
     "exception": false,
     "start_time": "2024-05-22T10:31:26.468670",
     "status": "completed"
    },
    "tags": []
   },
   "outputs": [
    {
     "data": {
      "image/png": "[encoded data removed]",
      "text/plain": [
       "<Figure size 2000x500 with 5 Axes>"
      ]
     },
     "metadata": {},
     "output_type": "display_data"
    },
    {
     "data": {
      "image/png": "[encoded data removed]",
      "text/plain": [
       "<Figure size 2000x500 with 5 Axes>"
      ]
     },
     "metadata": {},
     "output_type": "display_data"
    }
   ],
   "source": [
    "# Get a batch of images\n",
    "x_batch, y_batch = next(train_generator)\n",
    "x_batch2, y_batch2 = next(augmented_data_gen)\n",
    "\n",
    "# Function to plot images in a grid\n",
    "def plot_images(images_arr):\n",
    "    fig, axes = plt.subplots(1, 5, figsize=(20, 5))\n",
    "    axes = axes.flatten()\n",
    "    for img, ax in zip(images_arr, axes):\n",
    "        ax.imshow(img.squeeze(), cmap='gray')  # Assuming grayscale images; remove 'cmap' for RGB\n",
    "        ax.axis('off')\n",
    "    plt.show()\n",
    "\n",
    "# Plot the images\n",
    "plot_images(x_batch[:5])  # Plot the first 5 images from the batch\n",
    "plot_images(x_batch2[:5])  # Plot the first 5 images from the batch\n"
   ]
  },
  {
   "cell_type": "code",
   "execution_count": 11,
   "id": "f53d3d34",
   "metadata": {
    "execution": {
     "iopub.execute_input": "2024-05-22T10:31:27.072154Z",
     "iopub.status.busy": "2024-05-22T10:31:27.071844Z",
     "iopub.status.idle": "2024-05-22T10:31:27.207487Z",
     "shell.execute_reply": "2024-05-22T10:31:27.206489Z"
    },
    "papermill": {
     "duration": 0.154688,
     "end_time": "2024-05-22T10:31:27.209680",
     "exception": false,
     "start_time": "2024-05-22T10:31:27.054992",
     "status": "completed"
    },
    "tags": []
   },
   "outputs": [
    {
     "name": "stderr",
     "output_type": "stream",
     "text": [
      "/opt/conda/lib/python3.10/site-packages/keras/src/layers/convolutional/base_conv.py:99: UserWarning: Do not pass an `input_shape`/`input_dim` argument to a layer. When using Sequential models, prefer using an `Input(shape)` object as the first layer in the model instead.\n",
      "  super().__init__(\n"
     ]
    }
   ],
   "source": [
    "from tensorflow.keras.models import Sequential\n",
    "from tensorflow.keras.layers import Conv2D, MaxPooling2D, Flatten, Dense, Dropout, Activation\n",
    "from tensorflow.keras.preprocessing.image import ImageDataGenerator\n",
    "from tensorflow.keras.layers import BatchNormalization\n",
    "\n",
    "# Create a Sequential model\n",
    "model = Sequential([\n",
    "    # Convolutional layer: 32 filters, kernel size of 3x3\n",
    "    Conv2D(64, kernel_size=(3, 3), input_shape=(28, 28, 1)),\n",
    "    BatchNormalization(),\n",
    "    Activation('relu'),\n",
    "    # MaxPooling layer: Pooling size of 2x2\n",
    "    MaxPooling2D(pool_size=(2, 2)),\n",
    "    \n",
    "    Conv2D(32, kernel_size=(3, 3)),\n",
    "    BatchNormalization(),\n",
    "    Activation('relu'),\n",
    "    \n",
    "    Conv2D(16, kernel_size=(3, 3)),\n",
    "    BatchNormalization(),\n",
    "    Activation('relu'),\n",
    "    \n",
    "    # Flatten layer to flatten the output of the previous layers into a single vector\n",
    "    Flatten(),\n",
    "    # Dense layer with increased capacity\n",
    "    Dense(128, activation='relu'),\n",
    "    BatchNormalization(),\n",
    "    # Dropout layer to reduce overfitting\n",
    "    Dropout(0.5),\n",
    "    # Output layer with 10 units (for 10 classes of digits 0-9) and softmax activation\n",
    "    Dense(10, activation='softmax')\n",
    "])\n",
    "\n",
    "\n",
    "# Compile the model\n",
    "model.compile(optimizer='adam', loss='sparse_categorical_crossentropy', metrics=['accuracy'])"
   ]
  },
  {
   "cell_type": "code",
   "execution_count": 12,
   "id": "398e5128",
   "metadata": {
    "execution": {
     "iopub.execute_input": "2024-05-22T10:31:27.225536Z",
     "iopub.status.busy": "2024-05-22T10:31:27.225231Z",
     "iopub.status.idle": "2024-05-22T10:31:27.230764Z",
     "shell.execute_reply": "2024-05-22T10:31:27.229925Z"
    },
    "papermill": {
     "duration": 0.015298,
     "end_time": "2024-05-22T10:31:27.232562",
     "exception": false,
     "start_time": "2024-05-22T10:31:27.217264",
     "status": "completed"
    },
    "tags": []
   },
   "outputs": [
    {
     "data": {
      "text/plain": [
       "1050"
      ]
     },
     "execution_count": 12,
     "metadata": {},
     "output_type": "execute_result"
    }
   ],
   "source": [
    "len(X_train)//32"
   ]
  },
  {
   "cell_type": "code",
   "execution_count": 13,
   "id": "ea147b6e",
   "metadata": {
    "execution": {
     "iopub.execute_input": "2024-05-22T10:31:27.248257Z",
     "iopub.status.busy": "2024-05-22T10:31:27.247793Z",
     "iopub.status.idle": "2024-05-22T10:40:05.183117Z",
     "shell.execute_reply": "2024-05-22T10:40:05.181991Z"
    },
    "papermill": {
     "duration": 517.945478,
     "end_time": "2024-05-22T10:40:05.185294",
     "exception": false,
     "start_time": "2024-05-22T10:31:27.239816",
     "status": "completed"
    },
    "tags": []
   },
   "outputs": [
    {
     "name": "stdout",
     "output_type": "stream",
     "text": [
      "Epoch 1/40\n"
     ]
    },
    {
     "name": "stderr",
     "output_type": "stream",
     "text": [
      "/opt/conda/lib/python3.10/site-packages/keras/src/trainers/data_adapters/py_dataset_adapter.py:120: UserWarning: Your `PyDataset` class should call `super().__init__(**kwargs)` in its constructor. `**kwargs` can include `workers`, `use_multiprocessing`, `max_queue_size`. Do not pass these arguments to `fit()`, as they will be ignored.\n",
      "  self._warn_if_super_not_called()\n"
     ]
    },
    {
     "name": "stdout",
     "output_type": "stream",
     "text": [
      "\u001b[1m 12/672\u001b[0m \u001b[37m━━━━━━━━━━━━━━━━━━━━\u001b[0m \u001b[1m10s\u001b[0m 16ms/step - accuracy: 0.1718 - loss: 3.1616"
     ]
    },
    {
     "name": "stderr",
     "output_type": "stream",
     "text": [
      "WARNING: All log messages before absl::InitializeLog() is called are written to STDERR\n",
      "I0000 00:00:1716373895.564114      65 device_compiler.h:186] Compiled cluster using XLA!  This line is logged at most once for the lifetime of the process.\n"
     ]
    },
    {
     "name": "stdout",
     "output_type": "stream",
     "text": [
      "\u001b[1m672/672\u001b[0m \u001b[32m━━━━━━━━━━━━━━━━━━━━\u001b[0m\u001b[37m\u001b[0m \u001b[1m21s\u001b[0m 19ms/step - accuracy: 0.6744 - loss: 1.0660 - val_accuracy: 0.9557 - val_loss: 0.1492\n",
      "Epoch 2/40\n",
      "\u001b[1m672/672\u001b[0m \u001b[32m━━━━━━━━━━━━━━━━━━━━\u001b[0m\u001b[37m\u001b[0m \u001b[1m12s\u001b[0m 17ms/step - accuracy: 0.9253 - loss: 0.2411 - val_accuracy: 0.9536 - val_loss: 0.1457\n",
      "Epoch 3/40\n",
      "\u001b[1m672/672\u001b[0m \u001b[32m━━━━━━━━━━━━━━━━━━━━\u001b[0m\u001b[37m\u001b[0m \u001b[1m12s\u001b[0m 18ms/step - accuracy: 0.9462 - loss: 0.1786 - val_accuracy: 0.9675 - val_loss: 0.1085\n",
      "Epoch 4/40\n",
      "\u001b[1m672/672\u001b[0m \u001b[32m━━━━━━━━━━━━━━━━━━━━\u001b[0m\u001b[37m\u001b[0m \u001b[1m12s\u001b[0m 18ms/step - accuracy: 0.9540 - loss: 0.1518 - val_accuracy: 0.9686 - val_loss: 0.1046\n",
      "Epoch 5/40\n",
      "\u001b[1m672/672\u001b[0m \u001b[32m━━━━━━━━━━━━━━━━━━━━\u001b[0m\u001b[37m\u001b[0m \u001b[1m12s\u001b[0m 18ms/step - accuracy: 0.9590 - loss: 0.1332 - val_accuracy: 0.9467 - val_loss: 0.1678\n",
      "Epoch 6/40\n",
      "\u001b[1m672/672\u001b[0m \u001b[32m━━━━━━━━━━━━━━━━━━━━\u001b[0m\u001b[37m\u001b[0m \u001b[1m12s\u001b[0m 18ms/step - accuracy: 0.9592 - loss: 0.1284 - val_accuracy: 0.9826 - val_loss: 0.0591\n",
      "Epoch 7/40\n",
      "\u001b[1m672/672\u001b[0m \u001b[32m━━━━━━━━━━━━━━━━━━━━\u001b[0m\u001b[37m\u001b[0m \u001b[1m12s\u001b[0m 17ms/step - accuracy: 0.9655 - loss: 0.1134 - val_accuracy: 0.9851 - val_loss: 0.0488\n",
      "Epoch 8/40\n",
      "\u001b[1m672/672\u001b[0m \u001b[32m━━━━━━━━━━━━━━━━━━━━\u001b[0m\u001b[37m\u001b[0m \u001b[1m21s\u001b[0m 18ms/step - accuracy: 0.9675 - loss: 0.1074 - val_accuracy: 0.9876 - val_loss: 0.0387\n",
      "Epoch 9/40\n",
      "\u001b[1m672/672\u001b[0m \u001b[32m━━━━━━━━━━━━━━━━━━━━\u001b[0m\u001b[37m\u001b[0m \u001b[1m12s\u001b[0m 17ms/step - accuracy: 0.9690 - loss: 0.1020 - val_accuracy: 0.9724 - val_loss: 0.0917\n",
      "Epoch 10/40\n",
      "\u001b[1m672/672\u001b[0m \u001b[32m━━━━━━━━━━━━━━━━━━━━\u001b[0m\u001b[37m\u001b[0m \u001b[1m21s\u001b[0m 18ms/step - accuracy: 0.9697 - loss: 0.0988 - val_accuracy: 0.9652 - val_loss: 0.1102\n",
      "Epoch 11/40\n",
      "\u001b[1m672/672\u001b[0m \u001b[32m━━━━━━━━━━━━━━━━━━━━\u001b[0m\u001b[37m\u001b[0m \u001b[1m12s\u001b[0m 18ms/step - accuracy: 0.9712 - loss: 0.0939 - val_accuracy: 0.9854 - val_loss: 0.0454\n",
      "Epoch 12/40\n",
      "\u001b[1m672/672\u001b[0m \u001b[32m━━━━━━━━━━━━━━━━━━━━\u001b[0m\u001b[37m\u001b[0m \u001b[1m12s\u001b[0m 17ms/step - accuracy: 0.9715 - loss: 0.0964 - val_accuracy: 0.9726 - val_loss: 0.0814\n",
      "Epoch 13/40\n",
      "\u001b[1m672/672\u001b[0m \u001b[32m━━━━━━━━━━━━━━━━━━━━\u001b[0m\u001b[37m\u001b[0m \u001b[1m12s\u001b[0m 17ms/step - accuracy: 0.9721 - loss: 0.0919 - val_accuracy: 0.9839 - val_loss: 0.0480\n",
      "Epoch 14/40\n",
      "\u001b[1m672/672\u001b[0m \u001b[32m━━━━━━━━━━━━━━━━━━━━\u001b[0m\u001b[37m\u001b[0m \u001b[1m12s\u001b[0m 17ms/step - accuracy: 0.9708 - loss: 0.0934 - val_accuracy: 0.9886 - val_loss: 0.0351\n",
      "Epoch 15/40\n",
      "\u001b[1m672/672\u001b[0m \u001b[32m━━━━━━━━━━━━━━━━━━━━\u001b[0m\u001b[37m\u001b[0m \u001b[1m21s\u001b[0m 17ms/step - accuracy: 0.9750 - loss: 0.0842 - val_accuracy: 0.9868 - val_loss: 0.0423\n",
      "Epoch 16/40\n",
      "\u001b[1m672/672\u001b[0m \u001b[32m━━━━━━━━━━━━━━━━━━━━\u001b[0m\u001b[37m\u001b[0m \u001b[1m12s\u001b[0m 17ms/step - accuracy: 0.9739 - loss: 0.0835 - val_accuracy: 0.9857 - val_loss: 0.0459\n",
      "Epoch 17/40\n",
      "\u001b[1m672/672\u001b[0m \u001b[32m━━━━━━━━━━━━━━━━━━━━\u001b[0m\u001b[37m\u001b[0m \u001b[1m12s\u001b[0m 18ms/step - accuracy: 0.9738 - loss: 0.0811 - val_accuracy: 0.9894 - val_loss: 0.0381\n",
      "Epoch 18/40\n",
      "\u001b[1m672/672\u001b[0m \u001b[32m━━━━━━━━━━━━━━━━━━━━\u001b[0m\u001b[37m\u001b[0m \u001b[1m12s\u001b[0m 17ms/step - accuracy: 0.9756 - loss: 0.0802 - val_accuracy: 0.9888 - val_loss: 0.0376\n",
      "Epoch 19/40\n",
      "\u001b[1m672/672\u001b[0m \u001b[32m━━━━━━━━━━━━━━━━━━━━\u001b[0m\u001b[37m\u001b[0m \u001b[1m12s\u001b[0m 17ms/step - accuracy: 0.9760 - loss: 0.0800 - val_accuracy: 0.9633 - val_loss: 0.1147\n",
      "Epoch 20/40\n",
      "\u001b[1m672/672\u001b[0m \u001b[32m━━━━━━━━━━━━━━━━━━━━\u001b[0m\u001b[37m\u001b[0m \u001b[1m12s\u001b[0m 18ms/step - accuracy: 0.9771 - loss: 0.0793 - val_accuracy: 0.9870 - val_loss: 0.0420\n",
      "Epoch 21/40\n",
      "\u001b[1m672/672\u001b[0m \u001b[32m━━━━━━━━━━━━━━━━━━━━\u001b[0m\u001b[37m\u001b[0m \u001b[1m12s\u001b[0m 18ms/step - accuracy: 0.9800 - loss: 0.0664 - val_accuracy: 0.9868 - val_loss: 0.0451\n",
      "Epoch 22/40\n",
      "\u001b[1m672/672\u001b[0m \u001b[32m━━━━━━━━━━━━━━━━━━━━\u001b[0m\u001b[37m\u001b[0m \u001b[1m12s\u001b[0m 18ms/step - accuracy: 0.9785 - loss: 0.0706 - val_accuracy: 0.9867 - val_loss: 0.0443\n",
      "Epoch 23/40\n",
      "\u001b[1m672/672\u001b[0m \u001b[32m━━━━━━━━━━━━━━━━━━━━\u001b[0m\u001b[37m\u001b[0m \u001b[1m12s\u001b[0m 18ms/step - accuracy: 0.9776 - loss: 0.0749 - val_accuracy: 0.9867 - val_loss: 0.0451\n",
      "Epoch 24/40\n",
      "\u001b[1m672/672\u001b[0m \u001b[32m━━━━━━━━━━━━━━━━━━━━\u001b[0m\u001b[37m\u001b[0m \u001b[1m20s\u001b[0m 17ms/step - accuracy: 0.9801 - loss: 0.0700 - val_accuracy: 0.9883 - val_loss: 0.0398\n",
      "Epoch 25/40\n",
      "\u001b[1m672/672\u001b[0m \u001b[32m━━━━━━━━━━━━━━━━━━━━\u001b[0m\u001b[37m\u001b[0m \u001b[1m12s\u001b[0m 17ms/step - accuracy: 0.9794 - loss: 0.0657 - val_accuracy: 0.9893 - val_loss: 0.0345\n",
      "Epoch 26/40\n",
      "\u001b[1m672/672\u001b[0m \u001b[32m━━━━━━━━━━━━━━━━━━━━\u001b[0m\u001b[37m\u001b[0m \u001b[1m12s\u001b[0m 17ms/step - accuracy: 0.9802 - loss: 0.0638 - val_accuracy: 0.9902 - val_loss: 0.0338\n",
      "Epoch 27/40\n",
      "\u001b[1m672/672\u001b[0m \u001b[32m━━━━━━━━━━━━━━━━━━━━\u001b[0m\u001b[37m\u001b[0m \u001b[1m12s\u001b[0m 18ms/step - accuracy: 0.9798 - loss: 0.0638 - val_accuracy: 0.9899 - val_loss: 0.0361\n",
      "Epoch 28/40\n",
      "\u001b[1m672/672\u001b[0m \u001b[32m━━━━━━━━━━━━━━━━━━━━\u001b[0m\u001b[37m\u001b[0m \u001b[1m12s\u001b[0m 17ms/step - accuracy: 0.9789 - loss: 0.0682 - val_accuracy: 0.9844 - val_loss: 0.0549\n",
      "Epoch 29/40\n",
      "\u001b[1m672/672\u001b[0m \u001b[32m━━━━━━━━━━━━━━━━━━━━\u001b[0m\u001b[37m\u001b[0m \u001b[1m12s\u001b[0m 17ms/step - accuracy: 0.9795 - loss: 0.0660 - val_accuracy: 0.9877 - val_loss: 0.0401\n",
      "Epoch 30/40\n",
      "\u001b[1m672/672\u001b[0m \u001b[32m━━━━━━━━━━━━━━━━━━━━\u001b[0m\u001b[37m\u001b[0m \u001b[1m12s\u001b[0m 17ms/step - accuracy: 0.9809 - loss: 0.0617 - val_accuracy: 0.9895 - val_loss: 0.0362\n",
      "Epoch 31/40\n",
      "\u001b[1m672/672\u001b[0m \u001b[32m━━━━━━━━━━━━━━━━━━━━\u001b[0m\u001b[37m\u001b[0m \u001b[1m12s\u001b[0m 17ms/step - accuracy: 0.9809 - loss: 0.0608 - val_accuracy: 0.9917 - val_loss: 0.0292\n",
      "Epoch 32/40\n",
      "\u001b[1m672/672\u001b[0m \u001b[32m━━━━━━━━━━━━━━━━━━━━\u001b[0m\u001b[37m\u001b[0m \u001b[1m12s\u001b[0m 17ms/step - accuracy: 0.9804 - loss: 0.0664 - val_accuracy: 0.9907 - val_loss: 0.0339\n",
      "Epoch 33/40\n",
      "\u001b[1m672/672\u001b[0m \u001b[32m━━━━━━━━━━━━━━━━━━━━\u001b[0m\u001b[37m\u001b[0m \u001b[1m12s\u001b[0m 18ms/step - accuracy: 0.9813 - loss: 0.0600 - val_accuracy: 0.9921 - val_loss: 0.0270\n",
      "Epoch 34/40\n",
      "\u001b[1m672/672\u001b[0m \u001b[32m━━━━━━━━━━━━━━━━━━━━\u001b[0m\u001b[37m\u001b[0m \u001b[1m12s\u001b[0m 17ms/step - accuracy: 0.9822 - loss: 0.0587 - val_accuracy: 0.9910 - val_loss: 0.0310\n",
      "Epoch 35/40\n",
      "\u001b[1m672/672\u001b[0m \u001b[32m━━━━━━━━━━━━━━━━━━━━\u001b[0m\u001b[37m\u001b[0m \u001b[1m12s\u001b[0m 18ms/step - accuracy: 0.9815 - loss: 0.0597 - val_accuracy: 0.9868 - val_loss: 0.0423\n",
      "Epoch 36/40\n",
      "\u001b[1m672/672\u001b[0m \u001b[32m━━━━━━━━━━━━━━━━━━━━\u001b[0m\u001b[37m\u001b[0m \u001b[1m12s\u001b[0m 17ms/step - accuracy: 0.9832 - loss: 0.0553 - val_accuracy: 0.9899 - val_loss: 0.0356\n",
      "Epoch 37/40\n",
      "\u001b[1m672/672\u001b[0m \u001b[32m━━━━━━━━━━━━━━━━━━━━\u001b[0m\u001b[37m\u001b[0m \u001b[1m12s\u001b[0m 17ms/step - accuracy: 0.9806 - loss: 0.0610 - val_accuracy: 0.9898 - val_loss: 0.0317\n",
      "Epoch 38/40\n",
      "\u001b[1m672/672\u001b[0m \u001b[32m━━━━━━━━━━━━━━━━━━━━\u001b[0m\u001b[37m\u001b[0m \u001b[1m12s\u001b[0m 17ms/step - accuracy: 0.9840 - loss: 0.0526 - val_accuracy: 0.9914 - val_loss: 0.0261\n",
      "Epoch 39/40\n",
      "\u001b[1m672/672\u001b[0m \u001b[32m━━━━━━━━━━━━━━━━━━━━\u001b[0m\u001b[37m\u001b[0m \u001b[1m12s\u001b[0m 17ms/step - accuracy: 0.9810 - loss: 0.0604 - val_accuracy: 0.9882 - val_loss: 0.0422\n",
      "Epoch 40/40\n",
      "\u001b[1m672/672\u001b[0m \u001b[32m━━━━━━━━━━━━━━━━━━━━\u001b[0m\u001b[37m\u001b[0m \u001b[1m12s\u001b[0m 18ms/step - accuracy: 0.9847 - loss: 0.0523 - val_accuracy: 0.9893 - val_loss: 0.0333\n"
     ]
    }
   ],
   "source": [
    "# Model setup as previously defined\n",
    "history = model.fit(\n",
    "    augmented_data_gen,\n",
    "    epochs=40,\n",
    "    validation_data=validation_generator)"
   ]
  },
  {
   "cell_type": "code",
   "execution_count": 14,
   "id": "dd2e8c90",
   "metadata": {
    "execution": {
     "iopub.execute_input": "2024-05-22T10:40:06.499883Z",
     "iopub.status.busy": "2024-05-22T10:40:06.498943Z",
     "iopub.status.idle": "2024-05-22T10:40:06.968977Z",
     "shell.execute_reply": "2024-05-22T10:40:06.968019Z"
    },
    "papermill": {
     "duration": 1.150572,
     "end_time": "2024-05-22T10:40:06.970930",
     "exception": false,
     "start_time": "2024-05-22T10:40:05.820358",
     "status": "completed"
    },
    "tags": []
   },
   "outputs": [
    {
     "data": {
      "image/png": "[encoded data removed]",
      "text/plain": [
       "<Figure size 1200x500 with 2 Axes>"
      ]
     },
     "metadata": {},
     "output_type": "display_data"
    }
   ],
   "source": [
    "import matplotlib.pyplot as plt\n",
    "\n",
    "# Accessing the history data\n",
    "acc = history.history['accuracy']\n",
    "val_acc = history.history['val_accuracy']\n",
    "loss = history.history['loss']\n",
    "val_loss = history.history['val_loss']\n",
    "epochs = range(1, len(acc) + 1)\n",
    "\n",
    "# Plot training and validation accuracy\n",
    "plt.figure(figsize=(12, 5))\n",
    "plt.subplot(1, 2, 1)\n",
    "plt.plot(epochs, acc, 'bo', label='Training accuracy')\n",
    "plt.plot(epochs, val_acc, 'b', label='Validation accuracy')\n",
    "plt.title('Training and Validation accuracy')\n",
    "plt.xlabel('Epochs')\n",
    "plt.ylabel('Accuracy')\n",
    "plt.legend()\n",
    "\n",
    "# Plot training and validation loss\n",
    "plt.subplot(1, 2, 2)\n",
    "plt.plot(epochs, loss, 'bo', label='Training loss')\n",
    "plt.plot(epochs, val_loss, 'b', label='Validation loss')\n",
    "plt.title('Training and Validation loss')\n",
    "plt.xlabel('Epochs')\n",
    "plt.ylabel('Loss')\n",
    "plt.legend()\n",
    "\n",
    "plt.show()"
   ]
  },
  {
   "cell_type": "code",
   "execution_count": 15,
   "id": "477cbe1e",
   "metadata": {
    "execution": {
     "iopub.execute_input": "2024-05-22T10:40:08.293625Z",
     "iopub.status.busy": "2024-05-22T10:40:08.293257Z",
     "iopub.status.idle": "2024-05-22T10:40:10.586894Z",
     "shell.execute_reply": "2024-05-22T10:40:10.585993Z"
    },
    "papermill": {
     "duration": 2.934296,
     "end_time": "2024-05-22T10:40:10.588934",
     "exception": false,
     "start_time": "2024-05-22T10:40:07.654638",
     "status": "completed"
    },
    "tags": []
   },
   "outputs": [
    {
     "data": {
      "text/html": [
       "<div>\n",
       "<style scoped>\n",
       "    .dataframe tbody tr th:only-of-type {\n",
       "        vertical-align: middle;\n",
       "    }\n",
       "\n",
       "    .dataframe tbody tr th {\n",
       "        vertical-align: top;\n",
       "    }\n",
       "\n",
       "    .dataframe thead th {\n",
       "        text-align: right;\n",
       "    }\n",
       "</style>\n",
       "<table border=\"1\" class=\"dataframe\">\n",
       "  <thead>\n",
       "    <tr style=\"text-align: right;\">\n",
       "      <th></th>\n",
       "      <th>pixel0</th>\n",
       "      <th>pixel1</th>\n",
       "      <th>pixel2</th>\n",
       "      <th>pixel3</th>\n",
       "      <th>pixel4</th>\n",
       "      <th>pixel5</th>\n",
       "      <th>pixel6</th>\n",
       "      <th>pixel7</th>\n",
       "      <th>pixel8</th>\n",
       "      <th>pixel9</th>\n",
       "      <th>...</th>\n",
       "      <th>pixel774</th>\n",
       "      <th>pixel775</th>\n",
       "      <th>pixel776</th>\n",
       "      <th>pixel777</th>\n",
       "      <th>pixel778</th>\n",
       "      <th>pixel779</th>\n",
       "      <th>pixel780</th>\n",
       "      <th>pixel781</th>\n",
       "      <th>pixel782</th>\n",
       "      <th>pixel783</th>\n",
       "    </tr>\n",
       "  </thead>\n",
       "  <tbody>\n",
       "    <tr>\n",
       "      <th>0</th>\n",
       "      <td>0</td>\n",
       "      <td>0</td>\n",
       "      <td>0</td>\n",
       "      <td>0</td>\n",
       "      <td>0</td>\n",
       "      <td>0</td>\n",
       "      <td>0</td>\n",
       "      <td>0</td>\n",
       "      <td>0</td>\n",
       "      <td>0</td>\n",
       "      <td>...</td>\n",
       "      <td>0</td>\n",
       "      <td>0</td>\n",
       "      <td>0</td>\n",
       "      <td>0</td>\n",
       "      <td>0</td>\n",
       "      <td>0</td>\n",
       "      <td>0</td>\n",
       "      <td>0</td>\n",
       "      <td>0</td>\n",
       "      <td>0</td>\n",
       "    </tr>\n",
       "    <tr>\n",
       "      <th>1</th>\n",
       "      <td>0</td>\n",
       "      <td>0</td>\n",
       "      <td>0</td>\n",
       "      <td>0</td>\n",
       "      <td>0</td>\n",
       "      <td>0</td>\n",
       "      <td>0</td>\n",
       "      <td>0</td>\n",
       "      <td>0</td>\n",
       "      <td>0</td>\n",
       "      <td>...</td>\n",
       "      <td>0</td>\n",
       "      <td>0</td>\n",
       "      <td>0</td>\n",
       "      <td>0</td>\n",
       "      <td>0</td>\n",
       "      <td>0</td>\n",
       "      <td>0</td>\n",
       "      <td>0</td>\n",
       "      <td>0</td>\n",
       "      <td>0</td>\n",
       "    </tr>\n",
       "    <tr>\n",
       "      <th>2</th>\n",
       "      <td>0</td>\n",
       "      <td>0</td>\n",
       "      <td>0</td>\n",
       "      <td>0</td>\n",
       "      <td>0</td>\n",
       "      <td>0</td>\n",
       "      <td>0</td>\n",
       "      <td>0</td>\n",
       "      <td>0</td>\n",
       "      <td>0</td>\n",
       "      <td>...</td>\n",
       "      <td>0</td>\n",
       "      <td>0</td>\n",
       "      <td>0</td>\n",
       "      <td>0</td>\n",
       "      <td>0</td>\n",
       "      <td>0</td>\n",
       "      <td>0</td>\n",
       "      <td>0</td>\n",
       "      <td>0</td>\n",
       "      <td>0</td>\n",
       "    </tr>\n",
       "    <tr>\n",
       "      <th>3</th>\n",
       "      <td>0</td>\n",
       "      <td>0</td>\n",
       "      <td>0</td>\n",
       "      <td>0</td>\n",
       "      <td>0</td>\n",
       "      <td>0</td>\n",
       "      <td>0</td>\n",
       "      <td>0</td>\n",
       "      <td>0</td>\n",
       "      <td>0</td>\n",
       "      <td>...</td>\n",
       "      <td>0</td>\n",
       "      <td>0</td>\n",
       "      <td>0</td>\n",
       "      <td>0</td>\n",
       "      <td>0</td>\n",
       "      <td>0</td>\n",
       "      <td>0</td>\n",
       "      <td>0</td>\n",
       "      <td>0</td>\n",
       "      <td>0</td>\n",
       "    </tr>\n",
       "    <tr>\n",
       "      <th>4</th>\n",
       "      <td>0</td>\n",
       "      <td>0</td>\n",
       "      <td>0</td>\n",
       "      <td>0</td>\n",
       "      <td>0</td>\n",
       "      <td>0</td>\n",
       "      <td>0</td>\n",
       "      <td>0</td>\n",
       "      <td>0</td>\n",
       "      <td>0</td>\n",
       "      <td>...</td>\n",
       "      <td>0</td>\n",
       "      <td>0</td>\n",
       "      <td>0</td>\n",
       "      <td>0</td>\n",
       "      <td>0</td>\n",
       "      <td>0</td>\n",
       "      <td>0</td>\n",
       "      <td>0</td>\n",
       "      <td>0</td>\n",
       "      <td>0</td>\n",
       "    </tr>\n",
       "  </tbody>\n",
       "</table>\n",
       "<p>5 rows × 784 columns</p>\n",
       "</div>"
      ],
      "text/plain": [
       "   pixel0  pixel1  pixel2  pixel3  pixel4  pixel5  pixel6  pixel7  pixel8  \\\n",
       "0       0       0       0       0       0       0       0       0       0   \n",
       "1       0       0       0       0       0       0       0       0       0   \n",
       "2       0       0       0       0       0       0       0       0       0   \n",
       "3       0       0       0       0       0       0       0       0       0   \n",
       "4       0       0       0       0       0       0       0       0       0   \n",
       "\n",
       "   pixel9  ...  pixel774  pixel775  pixel776  pixel777  pixel778  pixel779  \\\n",
       "0       0  ...         0         0         0         0         0         0   \n",
       "1       0  ...         0         0         0         0         0         0   \n",
       "2       0  ...         0         0         0         0         0         0   \n",
       "3       0  ...         0         0         0         0         0         0   \n",
       "4       0  ...         0         0         0         0         0         0   \n",
       "\n",
       "   pixel780  pixel781  pixel782  pixel783  \n",
       "0         0         0         0         0  \n",
       "1         0         0         0         0  \n",
       "2         0         0         0         0  \n",
       "3         0         0         0         0  \n",
       "4         0         0         0         0  \n",
       "\n",
       "[5 rows x 784 columns]"
      ]
     },
     "execution_count": 15,
     "metadata": {},
     "output_type": "execute_result"
    }
   ],
   "source": [
    "data_test = pd.read_csv(\"/kaggle/input/digit-recognizer/test.csv\")\n",
    "data_test.head()\n"
   ]
  },
  {
   "cell_type": "code",
   "execution_count": 16,
   "id": "6035de04",
   "metadata": {
    "execution": {
     "iopub.execute_input": "2024-05-22T10:40:11.899389Z",
     "iopub.status.busy": "2024-05-22T10:40:11.899000Z",
     "iopub.status.idle": "2024-05-22T10:40:11.971143Z",
     "shell.execute_reply": "2024-05-22T10:40:11.970253Z"
    },
    "papermill": {
     "duration": 0.706522,
     "end_time": "2024-05-22T10:40:11.973249",
     "exception": false,
     "start_time": "2024-05-22T10:40:11.266727",
     "status": "completed"
    },
    "tags": []
   },
   "outputs": [
    {
     "data": {
      "text/plain": [
       "(28000, 28, 28)"
      ]
     },
     "execution_count": 16,
     "metadata": {},
     "output_type": "execute_result"
    }
   ],
   "source": [
    "features_test = data_test.iloc[:,:].values\n",
    "features_test = features_test/255\n",
    "features_test = features_test.reshape(-1,28,28)\n",
    "features_test.shape"
   ]
  },
  {
   "cell_type": "code",
   "execution_count": 17,
   "id": "12489bfa",
   "metadata": {
    "execution": {
     "iopub.execute_input": "2024-05-22T10:40:13.290259Z",
     "iopub.status.busy": "2024-05-22T10:40:13.289536Z",
     "iopub.status.idle": "2024-05-22T10:40:15.960953Z",
     "shell.execute_reply": "2024-05-22T10:40:15.960114Z"
    },
    "papermill": {
     "duration": 3.352514,
     "end_time": "2024-05-22T10:40:15.963370",
     "exception": false,
     "start_time": "2024-05-22T10:40:12.610856",
     "status": "completed"
    },
    "tags": []
   },
   "outputs": [
    {
     "name": "stdout",
     "output_type": "stream",
     "text": [
      "\u001b[1m875/875\u001b[0m \u001b[32m━━━━━━━━━━━━━━━━━━━━\u001b[0m\u001b[37m\u001b[0m \u001b[1m2s\u001b[0m 1ms/step\n"
     ]
    }
   ],
   "source": [
    "predictions = model.predict(features_test)"
   ]
  },
  {
   "cell_type": "code",
   "execution_count": 18,
   "id": "40bfc58c",
   "metadata": {
    "execution": {
     "iopub.execute_input": "2024-05-22T10:40:17.282068Z",
     "iopub.status.busy": "2024-05-22T10:40:17.281683Z",
     "iopub.status.idle": "2024-05-22T10:40:17.286553Z",
     "shell.execute_reply": "2024-05-22T10:40:17.285823Z"
    },
    "papermill": {
     "duration": 0.693705,
     "end_time": "2024-05-22T10:40:17.288490",
     "exception": false,
     "start_time": "2024-05-22T10:40:16.594785",
     "status": "completed"
    },
    "tags": []
   },
   "outputs": [],
   "source": [
    "predictions = np.argmax(predictions, axis=1)"
   ]
  },
  {
   "cell_type": "code",
   "execution_count": 19,
   "id": "c15a26b5",
   "metadata": {
    "execution": {
     "iopub.execute_input": "2024-05-22T10:40:18.569608Z",
     "iopub.status.busy": "2024-05-22T10:40:18.569237Z",
     "iopub.status.idle": "2024-05-22T10:40:18.575519Z",
     "shell.execute_reply": "2024-05-22T10:40:18.574659Z"
    },
    "papermill": {
     "duration": 0.651478,
     "end_time": "2024-05-22T10:40:18.577331",
     "exception": false,
     "start_time": "2024-05-22T10:40:17.925853",
     "status": "completed"
    },
    "tags": []
   },
   "outputs": [
    {
     "data": {
      "text/plain": [
       "array([2, 0, 9, ..., 3, 9, 2])"
      ]
     },
     "execution_count": 19,
     "metadata": {},
     "output_type": "execute_result"
    }
   ],
   "source": [
    "predictions"
   ]
  },
  {
   "cell_type": "code",
   "execution_count": 20,
   "id": "6cc6ad49",
   "metadata": {
    "execution": {
     "iopub.execute_input": "2024-05-22T10:40:19.895648Z",
     "iopub.status.busy": "2024-05-22T10:40:19.895307Z",
     "iopub.status.idle": "2024-05-22T10:40:19.932512Z",
     "shell.execute_reply": "2024-05-22T10:40:19.931591Z"
    },
    "papermill": {
     "duration": 0.724529,
     "end_time": "2024-05-22T10:40:19.934427",
     "exception": false,
     "start_time": "2024-05-22T10:40:19.209898",
     "status": "completed"
    },
    "tags": []
   },
   "outputs": [],
   "source": [
    "submission = pd.DataFrame({'ImageId': range(1, len(predictions) + 1), 'Label': predictions})\n",
    "submission.to_csv('submission.csv', index=False)"
   ]
  }
 ],
 "metadata": {
  "kaggle": {
   "accelerator": "none",
   "dataSources": [
    {
     "databundleVersionId": 861823,
     "sourceId": 3004,
     "sourceType": "competition"
    }
   ],
   "dockerImageVersionId": 30698,
   "isGpuEnabled": false,
   "isInternetEnabled": true,
   "language": "python",
   "sourceType": "notebook"
  },
  "kernelspec": {
   "display_name": "Python 3",
   "language": "python",
   "name": "python3"
  },
  "language_info": {
   "codemirror_mode": {
    "name": "ipython",
    "version": 3
   },
   "file_extension": ".py",
   "mimetype": "text/x-python",
   "name": "python",
   "nbconvert_exporter": "python",
   "pygments_lexer": "ipython3",
   "version": "3.10.13"
  },
  "papermill": {
   "default_parameters": {},
   "duration": 558.522663,
   "end_time": "2024-05-22T10:40:23.007531",
   "environment_variables": {},
   "exception": null,
   "input_path": "__notebook__.ipynb",
   "output_path": "__notebook__.ipynb",
   "parameters": {},
   "start_time": "2024-05-22T10:31:04.484868",
   "version": "2.5.0"
  }
 },
 "nbformat": 4,
 "nbformat_minor": 5
}
