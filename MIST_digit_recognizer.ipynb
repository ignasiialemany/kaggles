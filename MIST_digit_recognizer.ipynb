{
 "cells": [
  {
   "cell_type": "code",
   "execution_count": 1,
   "id": "d3d5752d",
   "metadata": {
    "_cell_guid": "b1076dfc-b9ad-4769-8c92-a6c4dae69d19",
    "_uuid": "8f2839f25d086af736a60e9eeb907d3b93b6e0e5",
    "execution": {
     "iopub.execute_input": "2024-05-22T10:43:56.470627Z",
     "iopub.status.busy": "2024-05-22T10:43:56.470320Z",
     "iopub.status.idle": "2024-05-22T10:44:08.808031Z",
     "shell.execute_reply": "2024-05-22T10:44:08.807026Z"
    },
    "papermill": {
     "duration": 12.347706,
     "end_time": "2024-05-22T10:44:08.810477",
     "exception": false,
     "start_time": "2024-05-22T10:43:56.462771",
     "status": "completed"
    },
    "tags": []
   },
   "outputs": [
    {
     "name": "stderr",
     "output_type": "stream",
     "text": [
      "2024-05-22 10:43:58.964265: E external/local_xla/xla/stream_executor/cuda/cuda_dnn.cc:9261] Unable to register cuDNN factory: Attempting to register factory for plugin cuDNN when one has already been registered\n",
      "2024-05-22 10:43:58.964363: E external/local_xla/xla/stream_executor/cuda/cuda_fft.cc:607] Unable to register cuFFT factory: Attempting to register factory for plugin cuFFT when one has already been registered\n",
      "2024-05-22 10:43:59.095380: E external/local_xla/xla/stream_executor/cuda/cuda_blas.cc:1515] Unable to register cuBLAS factory: Attempting to register factory for plugin cuBLAS when one has already been registered\n"
     ]
    }
   ],
   "source": [
    "import numpy as np\n",
    "import pandas as pd\n",
    "import matplotlib.pyplot as plt\n",
    "import tensorflow as tf"
   ]
  },
  {
   "cell_type": "code",
   "execution_count": 2,
   "id": "15bb2a65",
   "metadata": {
    "execution": {
     "iopub.execute_input": "2024-05-22T10:44:08.824623Z",
     "iopub.status.busy": "2024-05-22T10:44:08.824068Z",
     "iopub.status.idle": "2024-05-22T10:44:12.416742Z",
     "shell.execute_reply": "2024-05-22T10:44:12.415693Z"
    },
    "papermill": {
     "duration": 3.602353,
     "end_time": "2024-05-22T10:44:12.419317",
     "exception": false,
     "start_time": "2024-05-22T10:44:08.816964",
     "status": "completed"
    },
    "tags": []
   },
   "outputs": [],
   "source": [
    "data = pd.read_csv(\"/kaggle/input/digit-recognizer/train.csv\")"
   ]
  },
  {
   "cell_type": "code",
   "execution_count": 3,
   "id": "15894dd9",
   "metadata": {
    "execution": {
     "iopub.execute_input": "2024-05-22T10:44:12.433092Z",
     "iopub.status.busy": "2024-05-22T10:44:12.432781Z",
     "iopub.status.idle": "2024-05-22T10:44:14.363640Z",
     "shell.execute_reply": "2024-05-22T10:44:14.362759Z"
    },
    "papermill": {
     "duration": 1.939999,
     "end_time": "2024-05-22T10:44:14.365782",
     "exception": false,
     "start_time": "2024-05-22T10:44:12.425783",
     "status": "completed"
    },
    "tags": []
   },
   "outputs": [
    {
     "data": {
      "text/html": [
       "<div>\n",
       "<style scoped>\n",
       "    .dataframe tbody tr th:only-of-type {\n",
       "        vertical-align: middle;\n",
       "    }\n",
       "\n",
       "    .dataframe tbody tr th {\n",
       "        vertical-align: top;\n",
       "    }\n",
       "\n",
       "    .dataframe thead th {\n",
       "        text-align: right;\n",
       "    }\n",
       "</style>\n",
       "<table border=\"1\" class=\"dataframe\">\n",
       "  <thead>\n",
       "    <tr style=\"text-align: right;\">\n",
       "      <th></th>\n",
       "      <th>label</th>\n",
       "      <th>pixel0</th>\n",
       "      <th>pixel1</th>\n",
       "      <th>pixel2</th>\n",
       "      <th>pixel3</th>\n",
       "      <th>pixel4</th>\n",
       "      <th>pixel5</th>\n",
       "      <th>pixel6</th>\n",
       "      <th>pixel7</th>\n",
       "      <th>pixel8</th>\n",
       "      <th>...</th>\n",
       "      <th>pixel774</th>\n",
       "      <th>pixel775</th>\n",
       "      <th>pixel776</th>\n",
       "      <th>pixel777</th>\n",
       "      <th>pixel778</th>\n",
       "      <th>pixel779</th>\n",
       "      <th>pixel780</th>\n",
       "      <th>pixel781</th>\n",
       "      <th>pixel782</th>\n",
       "      <th>pixel783</th>\n",
       "    </tr>\n",
       "  </thead>\n",
       "  <tbody>\n",
       "    <tr>\n",
       "      <th>count</th>\n",
       "      <td>42000.000000</td>\n",
       "      <td>42000.0</td>\n",
       "      <td>42000.0</td>\n",
       "      <td>42000.0</td>\n",
       "      <td>42000.0</td>\n",
       "      <td>42000.0</td>\n",
       "      <td>42000.0</td>\n",
       "      <td>42000.0</td>\n",
       "      <td>42000.0</td>\n",
       "      <td>42000.0</td>\n",
       "      <td>...</td>\n",
       "      <td>42000.000000</td>\n",
       "      <td>42000.000000</td>\n",
       "      <td>42000.000000</td>\n",
       "      <td>42000.00000</td>\n",
       "      <td>42000.000000</td>\n",
       "      <td>42000.000000</td>\n",
       "      <td>42000.0</td>\n",
       "      <td>42000.0</td>\n",
       "      <td>42000.0</td>\n",
       "      <td>42000.0</td>\n",
       "    </tr>\n",
       "    <tr>\n",
       "      <th>mean</th>\n",
       "      <td>4.456643</td>\n",
       "      <td>0.0</td>\n",
       "      <td>0.0</td>\n",
       "      <td>0.0</td>\n",
       "      <td>0.0</td>\n",
       "      <td>0.0</td>\n",
       "      <td>0.0</td>\n",
       "      <td>0.0</td>\n",
       "      <td>0.0</td>\n",
       "      <td>0.0</td>\n",
       "      <td>...</td>\n",
       "      <td>0.219286</td>\n",
       "      <td>0.117095</td>\n",
       "      <td>0.059024</td>\n",
       "      <td>0.02019</td>\n",
       "      <td>0.017238</td>\n",
       "      <td>0.002857</td>\n",
       "      <td>0.0</td>\n",
       "      <td>0.0</td>\n",
       "      <td>0.0</td>\n",
       "      <td>0.0</td>\n",
       "    </tr>\n",
       "    <tr>\n",
       "      <th>std</th>\n",
       "      <td>2.887730</td>\n",
       "      <td>0.0</td>\n",
       "      <td>0.0</td>\n",
       "      <td>0.0</td>\n",
       "      <td>0.0</td>\n",
       "      <td>0.0</td>\n",
       "      <td>0.0</td>\n",
       "      <td>0.0</td>\n",
       "      <td>0.0</td>\n",
       "      <td>0.0</td>\n",
       "      <td>...</td>\n",
       "      <td>6.312890</td>\n",
       "      <td>4.633819</td>\n",
       "      <td>3.274488</td>\n",
       "      <td>1.75987</td>\n",
       "      <td>1.894498</td>\n",
       "      <td>0.414264</td>\n",
       "      <td>0.0</td>\n",
       "      <td>0.0</td>\n",
       "      <td>0.0</td>\n",
       "      <td>0.0</td>\n",
       "    </tr>\n",
       "    <tr>\n",
       "      <th>min</th>\n",
       "      <td>0.000000</td>\n",
       "      <td>0.0</td>\n",
       "      <td>0.0</td>\n",
       "      <td>0.0</td>\n",
       "      <td>0.0</td>\n",
       "      <td>0.0</td>\n",
       "      <td>0.0</td>\n",
       "      <td>0.0</td>\n",
       "      <td>0.0</td>\n",
       "      <td>0.0</td>\n",
       "      <td>...</td>\n",
       "      <td>0.000000</td>\n",
       "      <td>0.000000</td>\n",
       "      <td>0.000000</td>\n",
       "      <td>0.00000</td>\n",
       "      <td>0.000000</td>\n",
       "      <td>0.000000</td>\n",
       "      <td>0.0</td>\n",
       "      <td>0.0</td>\n",
       "      <td>0.0</td>\n",
       "      <td>0.0</td>\n",
       "    </tr>\n",
       "    <tr>\n",
       "      <th>25%</th>\n",
       "      <td>2.000000</td>\n",
       "      <td>0.0</td>\n",
       "      <td>0.0</td>\n",
       "      <td>0.0</td>\n",
       "      <td>0.0</td>\n",
       "      <td>0.0</td>\n",
       "      <td>0.0</td>\n",
       "      <td>0.0</td>\n",
       "      <td>0.0</td>\n",
       "      <td>0.0</td>\n",
       "      <td>...</td>\n",
       "      <td>0.000000</td>\n",
       "      <td>0.000000</td>\n",
       "      <td>0.000000</td>\n",
       "      <td>0.00000</td>\n",
       "      <td>0.000000</td>\n",
       "      <td>0.000000</td>\n",
       "      <td>0.0</td>\n",
       "      <td>0.0</td>\n",
       "      <td>0.0</td>\n",
       "      <td>0.0</td>\n",
       "    </tr>\n",
       "    <tr>\n",
       "      <th>50%</th>\n",
       "      <td>4.000000</td>\n",
       "      <td>0.0</td>\n",
       "      <td>0.0</td>\n",
       "      <td>0.0</td>\n",
       "      <td>0.0</td>\n",
       "      <td>0.0</td>\n",
       "      <td>0.0</td>\n",
       "      <td>0.0</td>\n",
       "      <td>0.0</td>\n",
       "      <td>0.0</td>\n",
       "      <td>...</td>\n",
       "      <td>0.000000</td>\n",
       "      <td>0.000000</td>\n",
       "      <td>0.000000</td>\n",
       "      <td>0.00000</td>\n",
       "      <td>0.000000</td>\n",
       "      <td>0.000000</td>\n",
       "      <td>0.0</td>\n",
       "      <td>0.0</td>\n",
       "      <td>0.0</td>\n",
       "      <td>0.0</td>\n",
       "    </tr>\n",
       "    <tr>\n",
       "      <th>75%</th>\n",
       "      <td>7.000000</td>\n",
       "      <td>0.0</td>\n",
       "      <td>0.0</td>\n",
       "      <td>0.0</td>\n",
       "      <td>0.0</td>\n",
       "      <td>0.0</td>\n",
       "      <td>0.0</td>\n",
       "      <td>0.0</td>\n",
       "      <td>0.0</td>\n",
       "      <td>0.0</td>\n",
       "      <td>...</td>\n",
       "      <td>0.000000</td>\n",
       "      <td>0.000000</td>\n",
       "      <td>0.000000</td>\n",
       "      <td>0.00000</td>\n",
       "      <td>0.000000</td>\n",
       "      <td>0.000000</td>\n",
       "      <td>0.0</td>\n",
       "      <td>0.0</td>\n",
       "      <td>0.0</td>\n",
       "      <td>0.0</td>\n",
       "    </tr>\n",
       "    <tr>\n",
       "      <th>max</th>\n",
       "      <td>9.000000</td>\n",
       "      <td>0.0</td>\n",
       "      <td>0.0</td>\n",
       "      <td>0.0</td>\n",
       "      <td>0.0</td>\n",
       "      <td>0.0</td>\n",
       "      <td>0.0</td>\n",
       "      <td>0.0</td>\n",
       "      <td>0.0</td>\n",
       "      <td>0.0</td>\n",
       "      <td>...</td>\n",
       "      <td>254.000000</td>\n",
       "      <td>254.000000</td>\n",
       "      <td>253.000000</td>\n",
       "      <td>253.00000</td>\n",
       "      <td>254.000000</td>\n",
       "      <td>62.000000</td>\n",
       "      <td>0.0</td>\n",
       "      <td>0.0</td>\n",
       "      <td>0.0</td>\n",
       "      <td>0.0</td>\n",
       "    </tr>\n",
       "  </tbody>\n",
       "</table>\n",
       "<p>8 rows × 785 columns</p>\n",
       "</div>"
      ],
      "text/plain": [
       "              label   pixel0   pixel1   pixel2   pixel3   pixel4   pixel5  \\\n",
       "count  42000.000000  42000.0  42000.0  42000.0  42000.0  42000.0  42000.0   \n",
       "mean       4.456643      0.0      0.0      0.0      0.0      0.0      0.0   \n",
       "std        2.887730      0.0      0.0      0.0      0.0      0.0      0.0   \n",
       "min        0.000000      0.0      0.0      0.0      0.0      0.0      0.0   \n",
       "25%        2.000000      0.0      0.0      0.0      0.0      0.0      0.0   \n",
       "50%        4.000000      0.0      0.0      0.0      0.0      0.0      0.0   \n",
       "75%        7.000000      0.0      0.0      0.0      0.0      0.0      0.0   \n",
       "max        9.000000      0.0      0.0      0.0      0.0      0.0      0.0   \n",
       "\n",
       "        pixel6   pixel7   pixel8  ...      pixel774      pixel775  \\\n",
       "count  42000.0  42000.0  42000.0  ...  42000.000000  42000.000000   \n",
       "mean       0.0      0.0      0.0  ...      0.219286      0.117095   \n",
       "std        0.0      0.0      0.0  ...      6.312890      4.633819   \n",
       "min        0.0      0.0      0.0  ...      0.000000      0.000000   \n",
       "25%        0.0      0.0      0.0  ...      0.000000      0.000000   \n",
       "50%        0.0      0.0      0.0  ...      0.000000      0.000000   \n",
       "75%        0.0      0.0      0.0  ...      0.000000      0.000000   \n",
       "max        0.0      0.0      0.0  ...    254.000000    254.000000   \n",
       "\n",
       "           pixel776     pixel777      pixel778      pixel779  pixel780  \\\n",
       "count  42000.000000  42000.00000  42000.000000  42000.000000   42000.0   \n",
       "mean       0.059024      0.02019      0.017238      0.002857       0.0   \n",
       "std        3.274488      1.75987      1.894498      0.414264       0.0   \n",
       "min        0.000000      0.00000      0.000000      0.000000       0.0   \n",
       "25%        0.000000      0.00000      0.000000      0.000000       0.0   \n",
       "50%        0.000000      0.00000      0.000000      0.000000       0.0   \n",
       "75%        0.000000      0.00000      0.000000      0.000000       0.0   \n",
       "max      253.000000    253.00000    254.000000     62.000000       0.0   \n",
       "\n",
       "       pixel781  pixel782  pixel783  \n",
       "count   42000.0   42000.0   42000.0  \n",
       "mean        0.0       0.0       0.0  \n",
       "std         0.0       0.0       0.0  \n",
       "min         0.0       0.0       0.0  \n",
       "25%         0.0       0.0       0.0  \n",
       "50%         0.0       0.0       0.0  \n",
       "75%         0.0       0.0       0.0  \n",
       "max         0.0       0.0       0.0  \n",
       "\n",
       "[8 rows x 785 columns]"
      ]
     },
     "execution_count": 3,
     "metadata": {},
     "output_type": "execute_result"
    }
   ],
   "source": [
    "data.describe()"
   ]
  },
  {
   "cell_type": "code",
   "execution_count": 4,
   "id": "65925c79",
   "metadata": {
    "execution": {
     "iopub.execute_input": "2024-05-22T10:44:14.380529Z",
     "iopub.status.busy": "2024-05-22T10:44:14.380012Z",
     "iopub.status.idle": "2024-05-22T10:44:14.778558Z",
     "shell.execute_reply": "2024-05-22T10:44:14.777554Z"
    },
    "papermill": {
     "duration": 0.408417,
     "end_time": "2024-05-22T10:44:14.781014",
     "exception": false,
     "start_time": "2024-05-22T10:44:14.372597",
     "status": "completed"
    },
    "tags": []
   },
   "outputs": [],
   "source": [
    "#normalized pixel values\n",
    "pixel_vars = [var for var in data.columns if var.startswith(\"pixel\")]\n",
    "for var in pixel_vars:\n",
    "    data[var] /= 255"
   ]
  },
  {
   "cell_type": "code",
   "execution_count": 5,
   "id": "d080b044",
   "metadata": {
    "execution": {
     "iopub.execute_input": "2024-05-22T10:44:14.795450Z",
     "iopub.status.busy": "2024-05-22T10:44:14.795158Z",
     "iopub.status.idle": "2024-05-22T10:44:15.165507Z",
     "shell.execute_reply": "2024-05-22T10:44:15.164728Z"
    },
    "papermill": {
     "duration": 0.380119,
     "end_time": "2024-05-22T10:44:15.167755",
     "exception": false,
     "start_time": "2024-05-22T10:44:14.787636",
     "status": "completed"
    },
    "tags": []
   },
   "outputs": [],
   "source": [
    "features = data.iloc[:, 1:].values  # Excludes the label if it's the first column\n",
    "labels = data.iloc[:,0].values"
   ]
  },
  {
   "cell_type": "code",
   "execution_count": 6,
   "id": "8aece13e",
   "metadata": {
    "execution": {
     "iopub.execute_input": "2024-05-22T10:44:15.181995Z",
     "iopub.status.busy": "2024-05-22T10:44:15.181675Z",
     "iopub.status.idle": "2024-05-22T10:44:15.448966Z",
     "shell.execute_reply": "2024-05-22T10:44:15.448076Z"
    },
    "papermill": {
     "duration": 0.276679,
     "end_time": "2024-05-22T10:44:15.451018",
     "exception": false,
     "start_time": "2024-05-22T10:44:15.174339",
     "status": "completed"
    },
    "tags": []
   },
   "outputs": [
    {
     "data": {
      "text/plain": [
       "<matplotlib.image.AxesImage at 0x796d88b4f250>"
      ]
     },
     "execution_count": 6,
     "metadata": {},
     "output_type": "execute_result"
    },
    {
     "data": {
      "image/png": "[encoded data removed]",
      "text/plain": [
       "<Figure size 640x480 with 1 Axes>"
      ]
     },
     "metadata": {},
     "output_type": "display_data"
    }
   ],
   "source": [
    "features_reshaped = features.reshape(-1,28,28,1)\n",
    "\n",
    "#plot one dataset\n",
    "plt.imshow(features_reshaped[10,:,:])"
   ]
  },
  {
   "cell_type": "code",
   "execution_count": 7,
   "id": "29c8ed77",
   "metadata": {
    "execution": {
     "iopub.execute_input": "2024-05-22T10:44:15.465710Z",
     "iopub.status.busy": "2024-05-22T10:44:15.465444Z",
     "iopub.status.idle": "2024-05-22T10:44:16.393393Z",
     "shell.execute_reply": "2024-05-22T10:44:16.392348Z"
    },
    "papermill": {
     "duration": 0.937995,
     "end_time": "2024-05-22T10:44:16.395855",
     "exception": false,
     "start_time": "2024-05-22T10:44:15.457860",
     "status": "completed"
    },
    "tags": []
   },
   "outputs": [],
   "source": [
    "#convert dataset to tensor\n",
    "features_tensor = tf.convert_to_tensor(features_reshaped, dtype=tf.float32)\n",
    "labels_tensor = tf.convert_to_tensor(labels, dtype=tf.int32)\n"
   ]
  },
  {
   "cell_type": "code",
   "execution_count": 8,
   "id": "96916d9a",
   "metadata": {
    "execution": {
     "iopub.execute_input": "2024-05-22T10:44:16.411036Z",
     "iopub.status.busy": "2024-05-22T10:44:16.410702Z",
     "iopub.status.idle": "2024-05-22T10:44:16.443472Z",
     "shell.execute_reply": "2024-05-22T10:44:16.442766Z"
    },
    "papermill": {
     "duration": 0.042516,
     "end_time": "2024-05-22T10:44:16.445416",
     "exception": false,
     "start_time": "2024-05-22T10:44:16.402900",
     "status": "completed"
    },
    "tags": []
   },
   "outputs": [],
   "source": [
    "# Assuming features_tensor and labels_tensor are your datasets\n",
    "N_exp = features_tensor.shape[0]\n",
    "indices = tf.range(start=0, limit=N_exp, dtype=tf.int32)\n",
    "shuffled_indices = tf.random.shuffle(indices)\n",
    "\n",
    "features_tensor = tf.gather(features_tensor, shuffled_indices)\n",
    "labels_tensor = tf.gather(labels_tensor, shuffled_indices)\n",
    "\n",
    "# Calculate the number of training examples\n",
    "train_size = int(0.8 * N_exp)\n",
    "\n",
    "# Split the features and labels into training and validation sets\n",
    "X_train = features_tensor[:train_size]\n",
    "y_train = labels_tensor[:train_size]\n",
    "X_valid = features_tensor[train_size:]\n",
    "y_valid = labels_tensor[train_size:]"
   ]
  },
  {
   "cell_type": "code",
   "execution_count": 9,
   "id": "33ca9770",
   "metadata": {
    "execution": {
     "iopub.execute_input": "2024-05-22T10:44:16.459990Z",
     "iopub.status.busy": "2024-05-22T10:44:16.459697Z",
     "iopub.status.idle": "2024-05-22T10:44:16.584509Z",
     "shell.execute_reply": "2024-05-22T10:44:16.583408Z"
    },
    "papermill": {
     "duration": 0.13511,
     "end_time": "2024-05-22T10:44:16.587474",
     "exception": false,
     "start_time": "2024-05-22T10:44:16.452364",
     "status": "completed"
    },
    "tags": []
   },
   "outputs": [],
   "source": [
    "from tensorflow.keras.preprocessing.image import ImageDataGenerator\n",
    "\n",
    "# Training data generator with augmentation\n",
    "augmented_data_gen = ImageDataGenerator(\n",
    "    rotation_range=30,\n",
    "    width_shift_range=0.1,\n",
    "    height_shift_range=0.1,\n",
    "    shear_range=0.15,\n",
    "    zoom_range=0.2,\n",
    "    fill_mode='nearest'\n",
    ")\n",
    "\n",
    "# Training data without augmentation for comparison (only in debug mode set Shuffle to False for comparison in next cell)\n",
    "train_data_gen = ImageDataGenerator()\n",
    "\n",
    "# Validation data generator without augmentation\n",
    "validation_datagen = ImageDataGenerator()  # No augmentation for validation data\n",
    "\n",
    "# Configure generators to load data\n",
    "train_generator = train_data_gen.flow(X_train, y_train, batch_size=45)\n",
    "augmented_data_gen = augmented_data_gen.flow(X_train, y_train, batch_size=45)\n",
    "validation_generator = validation_datagen.flow(X_valid, y_valid, batch_size=45)\n"
   ]
  },
  {
   "cell_type": "code",
   "execution_count": 10,
   "id": "b73dcb68",
   "metadata": {
    "execution": {
     "iopub.execute_input": "2024-05-22T10:44:16.602515Z",
     "iopub.status.busy": "2024-05-22T10:44:16.602236Z",
     "iopub.status.idle": "2024-05-22T10:44:17.138595Z",
     "shell.execute_reply": "2024-05-22T10:44:17.136812Z"
    },
    "papermill": {
     "duration": 0.547984,
     "end_time": "2024-05-22T10:44:17.142619",
     "exception": false,
     "start_time": "2024-05-22T10:44:16.594635",
     "status": "completed"
    },
    "tags": []
   },
   "outputs": [
    {
     "data": {
      "image/png": "[encoded data removed]",
      "text/plain": [
       "<Figure size 2000x500 with 5 Axes>"
      ]
     },
     "metadata": {},
     "output_type": "display_data"
    },
    {
     "data": {
      "image/png": "[encoded data removed]",
      "text/plain": [
       "<Figure size 2000x500 with 5 Axes>"
      ]
     },
     "metadata": {},
     "output_type": "display_data"
    }
   ],
   "source": [
    "# Get a batch of images\n",
    "x_batch, y_batch = next(train_generator)\n",
    "x_batch2, y_batch2 = next(augmented_data_gen)\n",
    "\n",
    "# Function to plot images in a grid\n",
    "def plot_images(images_arr):\n",
    "    fig, axes = plt.subplots(1, 5, figsize=(20, 5))\n",
    "    axes = axes.flatten()\n",
    "    for img, ax in zip(images_arr, axes):\n",
    "        ax.imshow(img.squeeze(), cmap='gray')  # Assuming grayscale images; remove 'cmap' for RGB\n",
    "        ax.axis('off')\n",
    "    plt.show()\n",
    "\n",
    "# Plot the images\n",
    "plot_images(x_batch[:5])  # Plot the first 5 images from the batch\n",
    "plot_images(x_batch2[:5])  # Plot the first 5 images from the batch\n"
   ]
  },
  {
   "cell_type": "code",
   "execution_count": 11,
   "id": "bc236c53",
   "metadata": {
    "execution": {
     "iopub.execute_input": "2024-05-22T10:44:17.177036Z",
     "iopub.status.busy": "2024-05-22T10:44:17.176772Z",
     "iopub.status.idle": "2024-05-22T10:44:17.309356Z",
     "shell.execute_reply": "2024-05-22T10:44:17.308235Z"
    },
    "papermill": {
     "duration": 0.153253,
     "end_time": "2024-05-22T10:44:17.311467",
     "exception": false,
     "start_time": "2024-05-22T10:44:17.158214",
     "status": "completed"
    },
    "tags": []
   },
   "outputs": [
    {
     "name": "stderr",
     "output_type": "stream",
     "text": [
      "/opt/conda/lib/python3.10/site-packages/keras/src/layers/convolutional/base_conv.py:99: UserWarning: Do not pass an `input_shape`/`input_dim` argument to a layer. When using Sequential models, prefer using an `Input(shape)` object as the first layer in the model instead.\n",
      "  super().__init__(\n"
     ]
    }
   ],
   "source": [
    "from tensorflow.keras.models import Sequential\n",
    "from tensorflow.keras.layers import Conv2D, MaxPooling2D, Flatten, Dense, Dropout, Activation\n",
    "from tensorflow.keras.preprocessing.image import ImageDataGenerator\n",
    "from tensorflow.keras.layers import BatchNormalization\n",
    "\n",
    "# Create a Sequential model\n",
    "model = Sequential([\n",
    "    # Convolutional layer: 32 filters, kernel size of 3x3\n",
    "    Conv2D(128, kernel_size=(3, 3), input_shape=(28, 28, 1)),\n",
    "    BatchNormalization(),\n",
    "    Activation('relu'),\n",
    "    # MaxPooling layer: Pooling size of 2x2\n",
    "    MaxPooling2D(pool_size=(2, 2)),\n",
    "    \n",
    "    Conv2D(32, kernel_size=(3, 3)),\n",
    "    BatchNormalization(),\n",
    "    Activation('relu'),\n",
    "    \n",
    "    Conv2D(16, kernel_size=(3, 3)),\n",
    "    BatchNormalization(),\n",
    "    Activation('relu'),\n",
    "    \n",
    "    # Flatten layer to flatten the output of the previous layers into a single vector\n",
    "    Flatten(),\n",
    "    # Dense layer with increased capacity\n",
    "    Dense(256, activation='relu'),\n",
    "    BatchNormalization(),\n",
    "    # Dropout layer to reduce overfitting\n",
    "    Dropout(0.5),\n",
    "    # Output layer with 10 units (for 10 classes of digits 0-9) and softmax activation\n",
    "    Dense(10, activation='softmax')\n",
    "])\n",
    "\n",
    "\n",
    "# Compile the model\n",
    "model.compile(optimizer='adam', loss='sparse_categorical_crossentropy', metrics=['accuracy'])"
   ]
  },
  {
   "cell_type": "code",
   "execution_count": 12,
   "id": "98e61f9e",
   "metadata": {
    "execution": {
     "iopub.execute_input": "2024-05-22T10:44:17.327143Z",
     "iopub.status.busy": "2024-05-22T10:44:17.326859Z",
     "iopub.status.idle": "2024-05-22T10:44:17.332409Z",
     "shell.execute_reply": "2024-05-22T10:44:17.331524Z"
    },
    "papermill": {
     "duration": 0.015394,
     "end_time": "2024-05-22T10:44:17.334177",
     "exception": false,
     "start_time": "2024-05-22T10:44:17.318783",
     "status": "completed"
    },
    "tags": []
   },
   "outputs": [
    {
     "data": {
      "text/plain": [
       "1050"
      ]
     },
     "execution_count": 12,
     "metadata": {},
     "output_type": "execute_result"
    }
   ],
   "source": [
    "len(X_train)//32"
   ]
  },
  {
   "cell_type": "code",
   "execution_count": 13,
   "id": "43f4bd1b",
   "metadata": {
    "execution": {
     "iopub.execute_input": "2024-05-22T10:44:17.349986Z",
     "iopub.status.busy": "2024-05-22T10:44:17.349688Z",
     "iopub.status.idle": "2024-05-22T11:04:32.585227Z",
     "shell.execute_reply": "2024-05-22T11:04:32.584282Z"
    },
    "papermill": {
     "duration": 1215.245719,
     "end_time": "2024-05-22T11:04:32.587305",
     "exception": false,
     "start_time": "2024-05-22T10:44:17.341586",
     "status": "completed"
    },
    "tags": []
   },
   "outputs": [
    {
     "name": "stdout",
     "output_type": "stream",
     "text": [
      "Epoch 1/100\n"
     ]
    },
    {
     "name": "stderr",
     "output_type": "stream",
     "text": [
      "/opt/conda/lib/python3.10/site-packages/keras/src/trainers/data_adapters/py_dataset_adapter.py:120: UserWarning: Your `PyDataset` class should call `super().__init__(**kwargs)` in its constructor. `**kwargs` can include `workers`, `use_multiprocessing`, `max_queue_size`. Do not pass these arguments to `fit()`, as they will be ignored.\n",
      "  self._warn_if_super_not_called()\n"
     ]
    },
    {
     "name": "stdout",
     "output_type": "stream",
     "text": [
      "\u001b[1m 13/747\u001b[0m \u001b[37m━━━━━━━━━━━━━━━━━━━━\u001b[0m \u001b[1m10s\u001b[0m 15ms/step - accuracy: 0.1746 - loss: 3.2364"
     ]
    },
    {
     "name": "stderr",
     "output_type": "stream",
     "text": [
      "WARNING: All log messages before absl::InitializeLog() is called are written to STDERR\n",
      "I0000 00:00:1716374665.691331      65 device_compiler.h:186] Compiled cluster using XLA!  This line is logged at most once for the lifetime of the process.\n"
     ]
    },
    {
     "name": "stdout",
     "output_type": "stream",
     "text": [
      "\u001b[1m747/747\u001b[0m \u001b[32m━━━━━━━━━━━━━━━━━━━━\u001b[0m\u001b[37m\u001b[0m \u001b[1m26s\u001b[0m 24ms/step - accuracy: 0.7125 - loss: 0.9490 - val_accuracy: 0.9092 - val_loss: 0.2715\n",
      "Epoch 2/100\n",
      "\u001b[1m747/747\u001b[0m \u001b[32m━━━━━━━━━━━━━━━━━━━━\u001b[0m\u001b[37m\u001b[0m \u001b[1m12s\u001b[0m 16ms/step - accuracy: 0.9279 - loss: 0.2317 - val_accuracy: 0.9724 - val_loss: 0.0917\n",
      "Epoch 3/100\n",
      "\u001b[1m747/747\u001b[0m \u001b[32m━━━━━━━━━━━━━━━━━━━━\u001b[0m\u001b[37m\u001b[0m \u001b[1m21s\u001b[0m 16ms/step - accuracy: 0.9446 - loss: 0.1778 - val_accuracy: 0.9689 - val_loss: 0.1040\n",
      "Epoch 4/100\n",
      "\u001b[1m747/747\u001b[0m \u001b[32m━━━━━━━━━━━━━━━━━━━━\u001b[0m\u001b[37m\u001b[0m \u001b[1m12s\u001b[0m 15ms/step - accuracy: 0.9566 - loss: 0.1465 - val_accuracy: 0.9632 - val_loss: 0.1269\n",
      "Epoch 5/100\n",
      "\u001b[1m747/747\u001b[0m \u001b[32m━━━━━━━━━━━━━━━━━━━━\u001b[0m\u001b[37m\u001b[0m \u001b[1m12s\u001b[0m 16ms/step - accuracy: 0.9585 - loss: 0.1354 - val_accuracy: 0.9346 - val_loss: 0.2252\n",
      "Epoch 6/100\n",
      "\u001b[1m747/747\u001b[0m \u001b[32m━━━━━━━━━━━━━━━━━━━━\u001b[0m\u001b[37m\u001b[0m \u001b[1m12s\u001b[0m 15ms/step - accuracy: 0.9637 - loss: 0.1213 - val_accuracy: 0.9787 - val_loss: 0.0684\n",
      "Epoch 7/100\n",
      "\u001b[1m747/747\u001b[0m \u001b[32m━━━━━━━━━━━━━━━━━━━━\u001b[0m\u001b[37m\u001b[0m \u001b[1m12s\u001b[0m 16ms/step - accuracy: 0.9664 - loss: 0.1107 - val_accuracy: 0.9804 - val_loss: 0.0701\n",
      "Epoch 8/100\n",
      "\u001b[1m747/747\u001b[0m \u001b[32m━━━━━━━━━━━━━━━━━━━━\u001b[0m\u001b[37m\u001b[0m \u001b[1m12s\u001b[0m 16ms/step - accuracy: 0.9673 - loss: 0.1057 - val_accuracy: 0.9840 - val_loss: 0.0519\n",
      "Epoch 9/100\n",
      "\u001b[1m747/747\u001b[0m \u001b[32m━━━━━━━━━━━━━━━━━━━━\u001b[0m\u001b[37m\u001b[0m \u001b[1m12s\u001b[0m 15ms/step - accuracy: 0.9699 - loss: 0.0989 - val_accuracy: 0.9888 - val_loss: 0.0399\n",
      "Epoch 10/100\n",
      "\u001b[1m747/747\u001b[0m \u001b[32m━━━━━━━━━━━━━━━━━━━━\u001b[0m\u001b[37m\u001b[0m \u001b[1m12s\u001b[0m 16ms/step - accuracy: 0.9689 - loss: 0.1015 - val_accuracy: 0.9837 - val_loss: 0.0497\n",
      "Epoch 11/100\n",
      "\u001b[1m747/747\u001b[0m \u001b[32m━━━━━━━━━━━━━━━━━━━━\u001b[0m\u001b[37m\u001b[0m \u001b[1m12s\u001b[0m 15ms/step - accuracy: 0.9717 - loss: 0.0915 - val_accuracy: 0.9899 - val_loss: 0.0335\n",
      "Epoch 12/100\n",
      "\u001b[1m747/747\u001b[0m \u001b[32m━━━━━━━━━━━━━━━━━━━━\u001b[0m\u001b[37m\u001b[0m \u001b[1m12s\u001b[0m 16ms/step - accuracy: 0.9742 - loss: 0.0883 - val_accuracy: 0.9823 - val_loss: 0.0642\n",
      "Epoch 13/100\n",
      "\u001b[1m747/747\u001b[0m \u001b[32m━━━━━━━━━━━━━━━━━━━━\u001b[0m\u001b[37m\u001b[0m \u001b[1m12s\u001b[0m 16ms/step - accuracy: 0.9732 - loss: 0.0888 - val_accuracy: 0.9769 - val_loss: 0.0726\n",
      "Epoch 14/100\n",
      "\u001b[1m747/747\u001b[0m \u001b[32m━━━━━━━━━━━━━━━━━━━━\u001b[0m\u001b[37m\u001b[0m \u001b[1m12s\u001b[0m 16ms/step - accuracy: 0.9746 - loss: 0.0830 - val_accuracy: 0.9640 - val_loss: 0.1171\n",
      "Epoch 15/100\n",
      "\u001b[1m747/747\u001b[0m \u001b[32m━━━━━━━━━━━━━━━━━━━━\u001b[0m\u001b[37m\u001b[0m \u001b[1m12s\u001b[0m 16ms/step - accuracy: 0.9741 - loss: 0.0860 - val_accuracy: 0.9892 - val_loss: 0.0349\n",
      "Epoch 16/100\n",
      "\u001b[1m747/747\u001b[0m \u001b[32m━━━━━━━━━━━━━━━━━━━━\u001b[0m\u001b[37m\u001b[0m \u001b[1m12s\u001b[0m 16ms/step - accuracy: 0.9757 - loss: 0.0813 - val_accuracy: 0.9827 - val_loss: 0.0570\n",
      "Epoch 17/100\n",
      "\u001b[1m747/747\u001b[0m \u001b[32m━━━━━━━━━━━━━━━━━━━━\u001b[0m\u001b[37m\u001b[0m \u001b[1m12s\u001b[0m 16ms/step - accuracy: 0.9752 - loss: 0.0796 - val_accuracy: 0.9830 - val_loss: 0.0590\n",
      "Epoch 18/100\n",
      "\u001b[1m747/747\u001b[0m \u001b[32m━━━━━━━━━━━━━━━━━━━━\u001b[0m\u001b[37m\u001b[0m \u001b[1m12s\u001b[0m 16ms/step - accuracy: 0.9778 - loss: 0.0723 - val_accuracy: 0.9889 - val_loss: 0.0351\n",
      "Epoch 19/100\n",
      "\u001b[1m747/747\u001b[0m \u001b[32m━━━━━━━━━━━━━━━━━━━━\u001b[0m\u001b[37m\u001b[0m \u001b[1m12s\u001b[0m 15ms/step - accuracy: 0.9785 - loss: 0.0707 - val_accuracy: 0.9917 - val_loss: 0.0332\n",
      "Epoch 20/100\n",
      "\u001b[1m747/747\u001b[0m \u001b[32m━━━━━━━━━━━━━━━━━━━━\u001b[0m\u001b[37m\u001b[0m \u001b[1m12s\u001b[0m 16ms/step - accuracy: 0.9791 - loss: 0.0733 - val_accuracy: 0.9902 - val_loss: 0.0354\n",
      "Epoch 21/100\n",
      "\u001b[1m747/747\u001b[0m \u001b[32m━━━━━━━━━━━━━━━━━━━━\u001b[0m\u001b[37m\u001b[0m \u001b[1m12s\u001b[0m 16ms/step - accuracy: 0.9789 - loss: 0.0731 - val_accuracy: 0.9857 - val_loss: 0.0478\n",
      "Epoch 22/100\n",
      "\u001b[1m747/747\u001b[0m \u001b[32m━━━━━━━━━━━━━━━━━━━━\u001b[0m\u001b[37m\u001b[0m \u001b[1m12s\u001b[0m 16ms/step - accuracy: 0.9784 - loss: 0.0666 - val_accuracy: 0.9882 - val_loss: 0.0360\n",
      "Epoch 23/100\n",
      "\u001b[1m747/747\u001b[0m \u001b[32m━━━━━━━━━━━━━━━━━━━━\u001b[0m\u001b[37m\u001b[0m \u001b[1m12s\u001b[0m 16ms/step - accuracy: 0.9818 - loss: 0.0624 - val_accuracy: 0.9919 - val_loss: 0.0302\n",
      "Epoch 24/100\n",
      "\u001b[1m747/747\u001b[0m \u001b[32m━━━━━━━━━━━━━━━━━━━━\u001b[0m\u001b[37m\u001b[0m \u001b[1m12s\u001b[0m 16ms/step - accuracy: 0.9806 - loss: 0.0627 - val_accuracy: 0.9727 - val_loss: 0.0896\n",
      "Epoch 25/100\n",
      "\u001b[1m747/747\u001b[0m \u001b[32m━━━━━━━━━━━━━━━━━━━━\u001b[0m\u001b[37m\u001b[0m \u001b[1m12s\u001b[0m 16ms/step - accuracy: 0.9801 - loss: 0.0640 - val_accuracy: 0.9914 - val_loss: 0.0320\n",
      "Epoch 26/100\n",
      "\u001b[1m747/747\u001b[0m \u001b[32m━━━━━━━━━━━━━━━━━━━━\u001b[0m\u001b[37m\u001b[0m \u001b[1m12s\u001b[0m 16ms/step - accuracy: 0.9819 - loss: 0.0591 - val_accuracy: 0.9880 - val_loss: 0.0425\n",
      "Epoch 27/100\n",
      "\u001b[1m747/747\u001b[0m \u001b[32m━━━━━━━━━━━━━━━━━━━━\u001b[0m\u001b[37m\u001b[0m \u001b[1m12s\u001b[0m 16ms/step - accuracy: 0.9805 - loss: 0.0648 - val_accuracy: 0.9938 - val_loss: 0.0251\n",
      "Epoch 28/100\n",
      "\u001b[1m747/747\u001b[0m \u001b[32m━━━━━━━━━━━━━━━━━━━━\u001b[0m\u001b[37m\u001b[0m \u001b[1m12s\u001b[0m 16ms/step - accuracy: 0.9818 - loss: 0.0604 - val_accuracy: 0.9899 - val_loss: 0.0390\n",
      "Epoch 29/100\n",
      "\u001b[1m747/747\u001b[0m \u001b[32m━━━━━━━━━━━━━━━━━━━━\u001b[0m\u001b[37m\u001b[0m \u001b[1m12s\u001b[0m 16ms/step - accuracy: 0.9818 - loss: 0.0590 - val_accuracy: 0.9919 - val_loss: 0.0305\n",
      "Epoch 30/100\n",
      "\u001b[1m747/747\u001b[0m \u001b[32m━━━━━━━━━━━━━━━━━━━━\u001b[0m\u001b[37m\u001b[0m \u001b[1m11s\u001b[0m 15ms/step - accuracy: 0.9814 - loss: 0.0598 - val_accuracy: 0.9901 - val_loss: 0.0378\n",
      "Epoch 31/100\n",
      "\u001b[1m747/747\u001b[0m \u001b[32m━━━━━━━━━━━━━━━━━━━━\u001b[0m\u001b[37m\u001b[0m \u001b[1m12s\u001b[0m 15ms/step - accuracy: 0.9820 - loss: 0.0564 - val_accuracy: 0.9892 - val_loss: 0.0371\n",
      "Epoch 32/100\n",
      "\u001b[1m747/747\u001b[0m \u001b[32m━━━━━━━━━━━━━━━━━━━━\u001b[0m\u001b[37m\u001b[0m \u001b[1m12s\u001b[0m 15ms/step - accuracy: 0.9839 - loss: 0.0522 - val_accuracy: 0.9898 - val_loss: 0.0328\n",
      "Epoch 33/100\n",
      "\u001b[1m747/747\u001b[0m \u001b[32m━━━━━━━━━━━━━━━━━━━━\u001b[0m\u001b[37m\u001b[0m \u001b[1m12s\u001b[0m 15ms/step - accuracy: 0.9847 - loss: 0.0509 - val_accuracy: 0.9898 - val_loss: 0.0342\n",
      "Epoch 34/100\n",
      "\u001b[1m747/747\u001b[0m \u001b[32m━━━━━━━━━━━━━━━━━━━━\u001b[0m\u001b[37m\u001b[0m \u001b[1m12s\u001b[0m 16ms/step - accuracy: 0.9834 - loss: 0.0522 - val_accuracy: 0.9927 - val_loss: 0.0270\n",
      "Epoch 35/100\n",
      "\u001b[1m747/747\u001b[0m \u001b[32m━━━━━━━━━━━━━━━━━━━━\u001b[0m\u001b[37m\u001b[0m \u001b[1m12s\u001b[0m 15ms/step - accuracy: 0.9855 - loss: 0.0498 - val_accuracy: 0.9905 - val_loss: 0.0334\n",
      "Epoch 36/100\n",
      "\u001b[1m747/747\u001b[0m \u001b[32m━━━━━━━━━━━━━━━━━━━━\u001b[0m\u001b[37m\u001b[0m \u001b[1m12s\u001b[0m 16ms/step - accuracy: 0.9845 - loss: 0.0470 - val_accuracy: 0.9870 - val_loss: 0.0427\n",
      "Epoch 37/100\n",
      "\u001b[1m747/747\u001b[0m \u001b[32m━━━━━━━━━━━━━━━━━━━━\u001b[0m\u001b[37m\u001b[0m \u001b[1m12s\u001b[0m 16ms/step - accuracy: 0.9827 - loss: 0.0529 - val_accuracy: 0.9908 - val_loss: 0.0315\n",
      "Epoch 38/100\n",
      "\u001b[1m747/747\u001b[0m \u001b[32m━━━━━━━━━━━━━━━━━━━━\u001b[0m\u001b[37m\u001b[0m \u001b[1m12s\u001b[0m 15ms/step - accuracy: 0.9840 - loss: 0.0487 - val_accuracy: 0.9877 - val_loss: 0.0420\n",
      "Epoch 39/100\n",
      "\u001b[1m747/747\u001b[0m \u001b[32m━━━━━━━━━━━━━━━━━━━━\u001b[0m\u001b[37m\u001b[0m \u001b[1m12s\u001b[0m 16ms/step - accuracy: 0.9839 - loss: 0.0515 - val_accuracy: 0.9886 - val_loss: 0.0412\n",
      "Epoch 40/100\n",
      "\u001b[1m747/747\u001b[0m \u001b[32m━━━━━━━━━━━━━━━━━━━━\u001b[0m\u001b[37m\u001b[0m \u001b[1m12s\u001b[0m 16ms/step - accuracy: 0.9838 - loss: 0.0520 - val_accuracy: 0.9867 - val_loss: 0.0460\n",
      "Epoch 41/100\n",
      "\u001b[1m747/747\u001b[0m \u001b[32m━━━━━━━━━━━━━━━━━━━━\u001b[0m\u001b[37m\u001b[0m \u001b[1m12s\u001b[0m 15ms/step - accuracy: 0.9856 - loss: 0.0493 - val_accuracy: 0.9919 - val_loss: 0.0349\n",
      "Epoch 42/100\n",
      "\u001b[1m747/747\u001b[0m \u001b[32m━━━━━━━━━━━━━━━━━━━━\u001b[0m\u001b[37m\u001b[0m \u001b[1m12s\u001b[0m 16ms/step - accuracy: 0.9851 - loss: 0.0481 - val_accuracy: 0.9902 - val_loss: 0.0339\n",
      "Epoch 43/100\n",
      "\u001b[1m747/747\u001b[0m \u001b[32m━━━━━━━━━━━━━━━━━━━━\u001b[0m\u001b[37m\u001b[0m \u001b[1m12s\u001b[0m 16ms/step - accuracy: 0.9830 - loss: 0.0524 - val_accuracy: 0.9918 - val_loss: 0.0286\n",
      "Epoch 44/100\n",
      "\u001b[1m747/747\u001b[0m \u001b[32m━━━━━━━━━━━━━━━━━━━━\u001b[0m\u001b[37m\u001b[0m \u001b[1m12s\u001b[0m 16ms/step - accuracy: 0.9840 - loss: 0.0541 - val_accuracy: 0.9923 - val_loss: 0.0314\n",
      "Epoch 45/100\n",
      "\u001b[1m747/747\u001b[0m \u001b[32m━━━━━━━━━━━━━━━━━━━━\u001b[0m\u001b[37m\u001b[0m \u001b[1m12s\u001b[0m 15ms/step - accuracy: 0.9853 - loss: 0.0514 - val_accuracy: 0.9919 - val_loss: 0.0294\n",
      "Epoch 46/100\n",
      "\u001b[1m747/747\u001b[0m \u001b[32m━━━━━━━━━━━━━━━━━━━━\u001b[0m\u001b[37m\u001b[0m \u001b[1m12s\u001b[0m 15ms/step - accuracy: 0.9853 - loss: 0.0434 - val_accuracy: 0.9729 - val_loss: 0.0893\n",
      "Epoch 47/100\n",
      "\u001b[1m747/747\u001b[0m \u001b[32m━━━━━━━━━━━━━━━━━━━━\u001b[0m\u001b[37m\u001b[0m \u001b[1m12s\u001b[0m 15ms/step - accuracy: 0.9851 - loss: 0.0488 - val_accuracy: 0.9898 - val_loss: 0.0357\n",
      "Epoch 48/100\n",
      "\u001b[1m747/747\u001b[0m \u001b[32m━━━━━━━━━━━━━━━━━━━━\u001b[0m\u001b[37m\u001b[0m \u001b[1m12s\u001b[0m 16ms/step - accuracy: 0.9869 - loss: 0.0441 - val_accuracy: 0.9886 - val_loss: 0.0422\n",
      "Epoch 49/100\n",
      "\u001b[1m747/747\u001b[0m \u001b[32m━━━━━━━━━━━━━━━━━━━━\u001b[0m\u001b[37m\u001b[0m \u001b[1m12s\u001b[0m 16ms/step - accuracy: 0.9865 - loss: 0.0419 - val_accuracy: 0.9907 - val_loss: 0.0363\n",
      "Epoch 50/100\n",
      "\u001b[1m747/747\u001b[0m \u001b[32m━━━━━━━━━━━━━━━━━━━━\u001b[0m\u001b[37m\u001b[0m \u001b[1m12s\u001b[0m 16ms/step - accuracy: 0.9860 - loss: 0.0457 - val_accuracy: 0.9915 - val_loss: 0.0279\n",
      "Epoch 51/100\n",
      "\u001b[1m747/747\u001b[0m \u001b[32m━━━━━━━━━━━━━━━━━━━━\u001b[0m\u001b[37m\u001b[0m \u001b[1m12s\u001b[0m 15ms/step - accuracy: 0.9854 - loss: 0.0484 - val_accuracy: 0.9935 - val_loss: 0.0244\n",
      "Epoch 52/100\n",
      "\u001b[1m747/747\u001b[0m \u001b[32m━━━━━━━━━━━━━━━━━━━━\u001b[0m\u001b[37m\u001b[0m \u001b[1m12s\u001b[0m 15ms/step - accuracy: 0.9861 - loss: 0.0434 - val_accuracy: 0.9929 - val_loss: 0.0279\n",
      "Epoch 53/100\n",
      "\u001b[1m747/747\u001b[0m \u001b[32m━━━━━━━━━━━━━━━━━━━━\u001b[0m\u001b[37m\u001b[0m \u001b[1m12s\u001b[0m 16ms/step - accuracy: 0.9859 - loss: 0.0460 - val_accuracy: 0.9905 - val_loss: 0.0395\n",
      "Epoch 54/100\n",
      "\u001b[1m747/747\u001b[0m \u001b[32m━━━━━━━━━━━━━━━━━━━━\u001b[0m\u001b[37m\u001b[0m \u001b[1m12s\u001b[0m 16ms/step - accuracy: 0.9856 - loss: 0.0458 - val_accuracy: 0.9918 - val_loss: 0.0279\n",
      "Epoch 55/100\n",
      "\u001b[1m747/747\u001b[0m \u001b[32m━━━━━━━━━━━━━━━━━━━━\u001b[0m\u001b[37m\u001b[0m \u001b[1m12s\u001b[0m 16ms/step - accuracy: 0.9858 - loss: 0.0451 - val_accuracy: 0.9927 - val_loss: 0.0285\n",
      "Epoch 56/100\n",
      "\u001b[1m747/747\u001b[0m \u001b[32m━━━━━━━━━━━━━━━━━━━━\u001b[0m\u001b[37m\u001b[0m \u001b[1m12s\u001b[0m 16ms/step - accuracy: 0.9861 - loss: 0.0449 - val_accuracy: 0.9912 - val_loss: 0.0298\n",
      "Epoch 57/100\n",
      "\u001b[1m747/747\u001b[0m \u001b[32m━━━━━━━━━━━━━━━━━━━━\u001b[0m\u001b[37m\u001b[0m \u001b[1m12s\u001b[0m 16ms/step - accuracy: 0.9857 - loss: 0.0432 - val_accuracy: 0.9921 - val_loss: 0.0278\n",
      "Epoch 58/100\n",
      "\u001b[1m747/747\u001b[0m \u001b[32m━━━━━━━━━━━━━━━━━━━━\u001b[0m\u001b[37m\u001b[0m \u001b[1m12s\u001b[0m 16ms/step - accuracy: 0.9857 - loss: 0.0464 - val_accuracy: 0.9926 - val_loss: 0.0293\n",
      "Epoch 59/100\n",
      "\u001b[1m747/747\u001b[0m \u001b[32m━━━━━━━━━━━━━━━━━━━━\u001b[0m\u001b[37m\u001b[0m \u001b[1m12s\u001b[0m 16ms/step - accuracy: 0.9871 - loss: 0.0421 - val_accuracy: 0.9930 - val_loss: 0.0281\n",
      "Epoch 60/100\n",
      "\u001b[1m747/747\u001b[0m \u001b[32m━━━━━━━━━━━━━━━━━━━━\u001b[0m\u001b[37m\u001b[0m \u001b[1m11s\u001b[0m 15ms/step - accuracy: 0.9873 - loss: 0.0406 - val_accuracy: 0.9927 - val_loss: 0.0269\n",
      "Epoch 61/100\n",
      "\u001b[1m747/747\u001b[0m \u001b[32m━━━━━━━━━━━━━━━━━━━━\u001b[0m\u001b[37m\u001b[0m \u001b[1m12s\u001b[0m 16ms/step - accuracy: 0.9866 - loss: 0.0455 - val_accuracy: 0.9926 - val_loss: 0.0288\n",
      "Epoch 62/100\n",
      "\u001b[1m747/747\u001b[0m \u001b[32m━━━━━━━━━━━━━━━━━━━━\u001b[0m\u001b[37m\u001b[0m \u001b[1m12s\u001b[0m 15ms/step - accuracy: 0.9872 - loss: 0.0434 - val_accuracy: 0.9886 - val_loss: 0.0336\n",
      "Epoch 63/100\n",
      "\u001b[1m747/747\u001b[0m \u001b[32m━━━━━━━━━━━━━━━━━━━━\u001b[0m\u001b[37m\u001b[0m \u001b[1m11s\u001b[0m 15ms/step - accuracy: 0.9877 - loss: 0.0378 - val_accuracy: 0.9921 - val_loss: 0.0270\n",
      "Epoch 64/100\n",
      "\u001b[1m747/747\u001b[0m \u001b[32m━━━━━━━━━━━━━━━━━━━━\u001b[0m\u001b[37m\u001b[0m \u001b[1m12s\u001b[0m 16ms/step - accuracy: 0.9870 - loss: 0.0415 - val_accuracy: 0.9931 - val_loss: 0.0255\n",
      "Epoch 65/100\n",
      "\u001b[1m747/747\u001b[0m \u001b[32m━━━━━━━━━━━━━━━━━━━━\u001b[0m\u001b[37m\u001b[0m \u001b[1m12s\u001b[0m 16ms/step - accuracy: 0.9875 - loss: 0.0407 - val_accuracy: 0.9925 - val_loss: 0.0314\n",
      "Epoch 66/100\n",
      "\u001b[1m747/747\u001b[0m \u001b[32m━━━━━━━━━━━━━━━━━━━━\u001b[0m\u001b[37m\u001b[0m \u001b[1m12s\u001b[0m 16ms/step - accuracy: 0.9895 - loss: 0.0372 - val_accuracy: 0.9910 - val_loss: 0.0346\n",
      "Epoch 67/100\n",
      "\u001b[1m747/747\u001b[0m \u001b[32m━━━━━━━━━━━━━━━━━━━━\u001b[0m\u001b[37m\u001b[0m \u001b[1m12s\u001b[0m 15ms/step - accuracy: 0.9877 - loss: 0.0387 - val_accuracy: 0.9931 - val_loss: 0.0244\n",
      "Epoch 68/100\n",
      "\u001b[1m747/747\u001b[0m \u001b[32m━━━━━━━━━━━━━━━━━━━━\u001b[0m\u001b[37m\u001b[0m \u001b[1m12s\u001b[0m 16ms/step - accuracy: 0.9885 - loss: 0.0386 - val_accuracy: 0.9921 - val_loss: 0.0316\n",
      "Epoch 69/100\n",
      "\u001b[1m747/747\u001b[0m \u001b[32m━━━━━━━━━━━━━━━━━━━━\u001b[0m\u001b[37m\u001b[0m \u001b[1m12s\u001b[0m 16ms/step - accuracy: 0.9859 - loss: 0.0467 - val_accuracy: 0.9923 - val_loss: 0.0276\n",
      "Epoch 70/100\n",
      "\u001b[1m747/747\u001b[0m \u001b[32m━━━━━━━━━━━━━━━━━━━━\u001b[0m\u001b[37m\u001b[0m \u001b[1m12s\u001b[0m 16ms/step - accuracy: 0.9895 - loss: 0.0363 - val_accuracy: 0.9918 - val_loss: 0.0274\n",
      "Epoch 71/100\n",
      "\u001b[1m747/747\u001b[0m \u001b[32m━━━━━━━━━━━━━━━━━━━━\u001b[0m\u001b[37m\u001b[0m \u001b[1m12s\u001b[0m 16ms/step - accuracy: 0.9868 - loss: 0.0399 - val_accuracy: 0.9907 - val_loss: 0.0366\n",
      "Epoch 72/100\n",
      "\u001b[1m747/747\u001b[0m \u001b[32m━━━━━━━━━━━━━━━━━━━━\u001b[0m\u001b[37m\u001b[0m \u001b[1m12s\u001b[0m 16ms/step - accuracy: 0.9891 - loss: 0.0386 - val_accuracy: 0.9925 - val_loss: 0.0290\n",
      "Epoch 73/100\n",
      "\u001b[1m747/747\u001b[0m \u001b[32m━━━━━━━━━━━━━━━━━━━━\u001b[0m\u001b[37m\u001b[0m \u001b[1m12s\u001b[0m 16ms/step - accuracy: 0.9882 - loss: 0.0393 - val_accuracy: 0.9920 - val_loss: 0.0299\n",
      "Epoch 74/100\n",
      "\u001b[1m747/747\u001b[0m \u001b[32m━━━━━━━━━━━━━━━━━━━━\u001b[0m\u001b[37m\u001b[0m \u001b[1m12s\u001b[0m 16ms/step - accuracy: 0.9871 - loss: 0.0405 - val_accuracy: 0.9919 - val_loss: 0.0289\n",
      "Epoch 75/100\n",
      "\u001b[1m747/747\u001b[0m \u001b[32m━━━━━━━━━━━━━━━━━━━━\u001b[0m\u001b[37m\u001b[0m \u001b[1m11s\u001b[0m 15ms/step - accuracy: 0.9886 - loss: 0.0408 - val_accuracy: 0.9912 - val_loss: 0.0292\n",
      "Epoch 76/100\n",
      "\u001b[1m747/747\u001b[0m \u001b[32m━━━━━━━━━━━━━━━━━━━━\u001b[0m\u001b[37m\u001b[0m \u001b[1m11s\u001b[0m 15ms/step - accuracy: 0.9871 - loss: 0.0405 - val_accuracy: 0.9929 - val_loss: 0.0252\n",
      "Epoch 77/100\n",
      "\u001b[1m747/747\u001b[0m \u001b[32m━━━━━━━━━━━━━━━━━━━━\u001b[0m\u001b[37m\u001b[0m \u001b[1m12s\u001b[0m 16ms/step - accuracy: 0.9875 - loss: 0.0409 - val_accuracy: 0.9927 - val_loss: 0.0292\n",
      "Epoch 78/100\n",
      "\u001b[1m747/747\u001b[0m \u001b[32m━━━━━━━━━━━━━━━━━━━━\u001b[0m\u001b[37m\u001b[0m \u001b[1m11s\u001b[0m 15ms/step - accuracy: 0.9869 - loss: 0.0395 - val_accuracy: 0.9935 - val_loss: 0.0300\n",
      "Epoch 79/100\n",
      "\u001b[1m747/747\u001b[0m \u001b[32m━━━━━━━━━━━━━━━━━━━━\u001b[0m\u001b[37m\u001b[0m \u001b[1m11s\u001b[0m 15ms/step - accuracy: 0.9867 - loss: 0.0426 - val_accuracy: 0.9902 - val_loss: 0.0363\n",
      "Epoch 80/100\n",
      "\u001b[1m747/747\u001b[0m \u001b[32m━━━━━━━━━━━━━━━━━━━━\u001b[0m\u001b[37m\u001b[0m \u001b[1m12s\u001b[0m 16ms/step - accuracy: 0.9872 - loss: 0.0449 - val_accuracy: 0.9929 - val_loss: 0.0258\n",
      "Epoch 81/100\n",
      "\u001b[1m747/747\u001b[0m \u001b[32m━━━━━━━━━━━━━━━━━━━━\u001b[0m\u001b[37m\u001b[0m \u001b[1m11s\u001b[0m 15ms/step - accuracy: 0.9880 - loss: 0.0364 - val_accuracy: 0.9919 - val_loss: 0.0306\n",
      "Epoch 82/100\n",
      "\u001b[1m747/747\u001b[0m \u001b[32m━━━━━━━━━━━━━━━━━━━━\u001b[0m\u001b[37m\u001b[0m \u001b[1m12s\u001b[0m 16ms/step - accuracy: 0.9875 - loss: 0.0383 - val_accuracy: 0.9919 - val_loss: 0.0342\n",
      "Epoch 83/100\n",
      "\u001b[1m747/747\u001b[0m \u001b[32m━━━━━━━━━━━━━━━━━━━━\u001b[0m\u001b[37m\u001b[0m \u001b[1m11s\u001b[0m 15ms/step - accuracy: 0.9878 - loss: 0.0375 - val_accuracy: 0.9926 - val_loss: 0.0316\n",
      "Epoch 84/100\n",
      "\u001b[1m747/747\u001b[0m \u001b[32m━━━━━━━━━━━━━━━━━━━━\u001b[0m\u001b[37m\u001b[0m \u001b[1m11s\u001b[0m 15ms/step - accuracy: 0.9879 - loss: 0.0377 - val_accuracy: 0.9919 - val_loss: 0.0279\n",
      "Epoch 85/100\n",
      "\u001b[1m747/747\u001b[0m \u001b[32m━━━━━━━━━━━━━━━━━━━━\u001b[0m\u001b[37m\u001b[0m \u001b[1m12s\u001b[0m 16ms/step - accuracy: 0.9880 - loss: 0.0342 - val_accuracy: 0.9923 - val_loss: 0.0309\n",
      "Epoch 86/100\n",
      "\u001b[1m747/747\u001b[0m \u001b[32m━━━━━━━━━━━━━━━━━━━━\u001b[0m\u001b[37m\u001b[0m \u001b[1m11s\u001b[0m 15ms/step - accuracy: 0.9879 - loss: 0.0407 - val_accuracy: 0.9915 - val_loss: 0.0310\n",
      "Epoch 87/100\n",
      "\u001b[1m747/747\u001b[0m \u001b[32m━━━━━━━━━━━━━━━━━━━━\u001b[0m\u001b[37m\u001b[0m \u001b[1m11s\u001b[0m 15ms/step - accuracy: 0.9893 - loss: 0.0355 - val_accuracy: 0.9913 - val_loss: 0.0337\n",
      "Epoch 88/100\n",
      "\u001b[1m747/747\u001b[0m \u001b[32m━━━━━━━━━━━━━━━━━━━━\u001b[0m\u001b[37m\u001b[0m \u001b[1m21s\u001b[0m 15ms/step - accuracy: 0.9896 - loss: 0.0323 - val_accuracy: 0.9910 - val_loss: 0.0349\n",
      "Epoch 89/100\n",
      "\u001b[1m747/747\u001b[0m \u001b[32m━━━━━━━━━━━━━━━━━━━━\u001b[0m\u001b[37m\u001b[0m \u001b[1m11s\u001b[0m 15ms/step - accuracy: 0.9900 - loss: 0.0338 - val_accuracy: 0.9935 - val_loss: 0.0279\n",
      "Epoch 90/100\n",
      "\u001b[1m747/747\u001b[0m \u001b[32m━━━━━━━━━━━━━━━━━━━━\u001b[0m\u001b[37m\u001b[0m \u001b[1m12s\u001b[0m 16ms/step - accuracy: 0.9887 - loss: 0.0369 - val_accuracy: 0.9921 - val_loss: 0.0273\n",
      "Epoch 91/100\n",
      "\u001b[1m747/747\u001b[0m \u001b[32m━━━━━━━━━━━━━━━━━━━━\u001b[0m\u001b[37m\u001b[0m \u001b[1m11s\u001b[0m 15ms/step - accuracy: 0.9889 - loss: 0.0381 - val_accuracy: 0.9936 - val_loss: 0.0256\n",
      "Epoch 92/100\n",
      "\u001b[1m747/747\u001b[0m \u001b[32m━━━━━━━━━━━━━━━━━━━━\u001b[0m\u001b[37m\u001b[0m \u001b[1m12s\u001b[0m 16ms/step - accuracy: 0.9904 - loss: 0.0314 - val_accuracy: 0.9913 - val_loss: 0.0346\n",
      "Epoch 93/100\n",
      "\u001b[1m747/747\u001b[0m \u001b[32m━━━━━━━━━━━━━━━━━━━━\u001b[0m\u001b[37m\u001b[0m \u001b[1m12s\u001b[0m 16ms/step - accuracy: 0.9889 - loss: 0.0350 - val_accuracy: 0.9926 - val_loss: 0.0312\n",
      "Epoch 94/100\n",
      "\u001b[1m747/747\u001b[0m \u001b[32m━━━━━━━━━━━━━━━━━━━━\u001b[0m\u001b[37m\u001b[0m \u001b[1m12s\u001b[0m 15ms/step - accuracy: 0.9900 - loss: 0.0364 - val_accuracy: 0.9913 - val_loss: 0.0300\n",
      "Epoch 95/100\n",
      "\u001b[1m747/747\u001b[0m \u001b[32m━━━━━━━━━━━━━━━━━━━━\u001b[0m\u001b[37m\u001b[0m \u001b[1m12s\u001b[0m 16ms/step - accuracy: 0.9890 - loss: 0.0396 - val_accuracy: 0.9915 - val_loss: 0.0310\n",
      "Epoch 96/100\n",
      "\u001b[1m747/747\u001b[0m \u001b[32m━━━━━━━━━━━━━━━━━━━━\u001b[0m\u001b[37m\u001b[0m \u001b[1m12s\u001b[0m 16ms/step - accuracy: 0.9879 - loss: 0.0360 - val_accuracy: 0.9940 - val_loss: 0.0257\n",
      "Epoch 97/100\n",
      "\u001b[1m747/747\u001b[0m \u001b[32m━━━━━━━━━━━━━━━━━━━━\u001b[0m\u001b[37m\u001b[0m \u001b[1m12s\u001b[0m 16ms/step - accuracy: 0.9882 - loss: 0.0384 - val_accuracy: 0.9917 - val_loss: 0.0348\n",
      "Epoch 98/100\n",
      "\u001b[1m747/747\u001b[0m \u001b[32m━━━━━━━━━━━━━━━━━━━━\u001b[0m\u001b[37m\u001b[0m \u001b[1m12s\u001b[0m 16ms/step - accuracy: 0.9899 - loss: 0.0351 - val_accuracy: 0.9913 - val_loss: 0.0363\n",
      "Epoch 99/100\n",
      "\u001b[1m747/747\u001b[0m \u001b[32m━━━━━━━━━━━━━━━━━━━━\u001b[0m\u001b[37m\u001b[0m \u001b[1m20s\u001b[0m 15ms/step - accuracy: 0.9892 - loss: 0.0353 - val_accuracy: 0.9933 - val_loss: 0.0263\n",
      "Epoch 100/100\n",
      "\u001b[1m747/747\u001b[0m \u001b[32m━━━━━━━━━━━━━━━━━━━━\u001b[0m\u001b[37m\u001b[0m \u001b[1m12s\u001b[0m 16ms/step - accuracy: 0.9891 - loss: 0.0340 - val_accuracy: 0.9936 - val_loss: 0.0258\n"
     ]
    }
   ],
   "source": [
    "# Model setup as previously defined\n",
    "history = model.fit(\n",
    "    augmented_data_gen,\n",
    "    epochs=100,\n",
    "    validation_data=validation_generator)"
   ]
  },
  {
   "cell_type": "code",
   "execution_count": 14,
   "id": "68ac1433",
   "metadata": {
    "execution": {
     "iopub.execute_input": "2024-05-22T11:04:35.795539Z",
     "iopub.status.busy": "2024-05-22T11:04:35.794665Z",
     "iopub.status.idle": "2024-05-22T11:04:36.295166Z",
     "shell.execute_reply": "2024-05-22T11:04:36.294259Z"
    },
    "papermill": {
     "duration": 2.105618,
     "end_time": "2024-05-22T11:04:36.297228",
     "exception": false,
     "start_time": "2024-05-22T11:04:34.191610",
     "status": "completed"
    },
    "tags": []
   },
   "outputs": [
    {
     "data": {
      "image/png": "[encoded data removed]",
      "text/plain": [
       "<Figure size 1200x500 with 2 Axes>"
      ]
     },
     "metadata": {},
     "output_type": "display_data"
    }
   ],
   "source": [
    "import matplotlib.pyplot as plt\n",
    "\n",
    "# Accessing the history data\n",
    "acc = history.history['accuracy']\n",
    "val_acc = history.history['val_accuracy']\n",
    "loss = history.history['loss']\n",
    "val_loss = history.history['val_loss']\n",
    "epochs = range(1, len(acc) + 1)\n",
    "\n",
    "# Plot training and validation accuracy\n",
    "plt.figure(figsize=(12, 5))\n",
    "plt.subplot(1, 2, 1)\n",
    "plt.plot(epochs, acc, 'bo', label='Training accuracy')\n",
    "plt.plot(epochs, val_acc, 'b', label='Validation accuracy')\n",
    "plt.title('Training and Validation accuracy')\n",
    "plt.xlabel('Epochs')\n",
    "plt.ylabel('Accuracy')\n",
    "plt.legend()\n",
    "\n",
    "# Plot training and validation loss\n",
    "plt.subplot(1, 2, 2)\n",
    "plt.plot(epochs, loss, 'bo', label='Training loss')\n",
    "plt.plot(epochs, val_loss, 'b', label='Validation loss')\n",
    "plt.title('Training and Validation loss')\n",
    "plt.xlabel('Epochs')\n",
    "plt.ylabel('Loss')\n",
    "plt.legend()\n",
    "\n",
    "plt.show()"
   ]
  },
  {
   "cell_type": "code",
   "execution_count": 15,
   "id": "f153f0da",
   "metadata": {
    "execution": {
     "iopub.execute_input": "2024-05-22T11:04:39.447475Z",
     "iopub.status.busy": "2024-05-22T11:04:39.446793Z",
     "iopub.status.idle": "2024-05-22T11:04:43.035881Z",
     "shell.execute_reply": "2024-05-22T11:04:43.034971Z"
    },
    "papermill": {
     "duration": 5.184546,
     "end_time": "2024-05-22T11:04:43.038015",
     "exception": false,
     "start_time": "2024-05-22T11:04:37.853469",
     "status": "completed"
    },
    "tags": []
   },
   "outputs": [
    {
     "data": {
      "text/html": [
       "<div>\n",
       "<style scoped>\n",
       "    .dataframe tbody tr th:only-of-type {\n",
       "        vertical-align: middle;\n",
       "    }\n",
       "\n",
       "    .dataframe tbody tr th {\n",
       "        vertical-align: top;\n",
       "    }\n",
       "\n",
       "    .dataframe thead th {\n",
       "        text-align: right;\n",
       "    }\n",
       "</style>\n",
       "<table border=\"1\" class=\"dataframe\">\n",
       "  <thead>\n",
       "    <tr style=\"text-align: right;\">\n",
       "      <th></th>\n",
       "      <th>pixel0</th>\n",
       "      <th>pixel1</th>\n",
       "      <th>pixel2</th>\n",
       "      <th>pixel3</th>\n",
       "      <th>pixel4</th>\n",
       "      <th>pixel5</th>\n",
       "      <th>pixel6</th>\n",
       "      <th>pixel7</th>\n",
       "      <th>pixel8</th>\n",
       "      <th>pixel9</th>\n",
       "      <th>...</th>\n",
       "      <th>pixel774</th>\n",
       "      <th>pixel775</th>\n",
       "      <th>pixel776</th>\n",
       "      <th>pixel777</th>\n",
       "      <th>pixel778</th>\n",
       "      <th>pixel779</th>\n",
       "      <th>pixel780</th>\n",
       "      <th>pixel781</th>\n",
       "      <th>pixel782</th>\n",
       "      <th>pixel783</th>\n",
       "    </tr>\n",
       "  </thead>\n",
       "  <tbody>\n",
       "    <tr>\n",
       "      <th>0</th>\n",
       "      <td>0</td>\n",
       "      <td>0</td>\n",
       "      <td>0</td>\n",
       "      <td>0</td>\n",
       "      <td>0</td>\n",
       "      <td>0</td>\n",
       "      <td>0</td>\n",
       "      <td>0</td>\n",
       "      <td>0</td>\n",
       "      <td>0</td>\n",
       "      <td>...</td>\n",
       "      <td>0</td>\n",
       "      <td>0</td>\n",
       "      <td>0</td>\n",
       "      <td>0</td>\n",
       "      <td>0</td>\n",
       "      <td>0</td>\n",
       "      <td>0</td>\n",
       "      <td>0</td>\n",
       "      <td>0</td>\n",
       "      <td>0</td>\n",
       "    </tr>\n",
       "    <tr>\n",
       "      <th>1</th>\n",
       "      <td>0</td>\n",
       "      <td>0</td>\n",
       "      <td>0</td>\n",
       "      <td>0</td>\n",
       "      <td>0</td>\n",
       "      <td>0</td>\n",
       "      <td>0</td>\n",
       "      <td>0</td>\n",
       "      <td>0</td>\n",
       "      <td>0</td>\n",
       "      <td>...</td>\n",
       "      <td>0</td>\n",
       "      <td>0</td>\n",
       "      <td>0</td>\n",
       "      <td>0</td>\n",
       "      <td>0</td>\n",
       "      <td>0</td>\n",
       "      <td>0</td>\n",
       "      <td>0</td>\n",
       "      <td>0</td>\n",
       "      <td>0</td>\n",
       "    </tr>\n",
       "    <tr>\n",
       "      <th>2</th>\n",
       "      <td>0</td>\n",
       "      <td>0</td>\n",
       "      <td>0</td>\n",
       "      <td>0</td>\n",
       "      <td>0</td>\n",
       "      <td>0</td>\n",
       "      <td>0</td>\n",
       "      <td>0</td>\n",
       "      <td>0</td>\n",
       "      <td>0</td>\n",
       "      <td>...</td>\n",
       "      <td>0</td>\n",
       "      <td>0</td>\n",
       "      <td>0</td>\n",
       "      <td>0</td>\n",
       "      <td>0</td>\n",
       "      <td>0</td>\n",
       "      <td>0</td>\n",
       "      <td>0</td>\n",
       "      <td>0</td>\n",
       "      <td>0</td>\n",
       "    </tr>\n",
       "    <tr>\n",
       "      <th>3</th>\n",
       "      <td>0</td>\n",
       "      <td>0</td>\n",
       "      <td>0</td>\n",
       "      <td>0</td>\n",
       "      <td>0</td>\n",
       "      <td>0</td>\n",
       "      <td>0</td>\n",
       "      <td>0</td>\n",
       "      <td>0</td>\n",
       "      <td>0</td>\n",
       "      <td>...</td>\n",
       "      <td>0</td>\n",
       "      <td>0</td>\n",
       "      <td>0</td>\n",
       "      <td>0</td>\n",
       "      <td>0</td>\n",
       "      <td>0</td>\n",
       "      <td>0</td>\n",
       "      <td>0</td>\n",
       "      <td>0</td>\n",
       "      <td>0</td>\n",
       "    </tr>\n",
       "    <tr>\n",
       "      <th>4</th>\n",
       "      <td>0</td>\n",
       "      <td>0</td>\n",
       "      <td>0</td>\n",
       "      <td>0</td>\n",
       "      <td>0</td>\n",
       "      <td>0</td>\n",
       "      <td>0</td>\n",
       "      <td>0</td>\n",
       "      <td>0</td>\n",
       "      <td>0</td>\n",
       "      <td>...</td>\n",
       "      <td>0</td>\n",
       "      <td>0</td>\n",
       "      <td>0</td>\n",
       "      <td>0</td>\n",
       "      <td>0</td>\n",
       "      <td>0</td>\n",
       "      <td>0</td>\n",
       "      <td>0</td>\n",
       "      <td>0</td>\n",
       "      <td>0</td>\n",
       "    </tr>\n",
       "  </tbody>\n",
       "</table>\n",
       "<p>5 rows × 784 columns</p>\n",
       "</div>"
      ],
      "text/plain": [
       "   pixel0  pixel1  pixel2  pixel3  pixel4  pixel5  pixel6  pixel7  pixel8  \\\n",
       "0       0       0       0       0       0       0       0       0       0   \n",
       "1       0       0       0       0       0       0       0       0       0   \n",
       "2       0       0       0       0       0       0       0       0       0   \n",
       "3       0       0       0       0       0       0       0       0       0   \n",
       "4       0       0       0       0       0       0       0       0       0   \n",
       "\n",
       "   pixel9  ...  pixel774  pixel775  pixel776  pixel777  pixel778  pixel779  \\\n",
       "0       0  ...         0         0         0         0         0         0   \n",
       "1       0  ...         0         0         0         0         0         0   \n",
       "2       0  ...         0         0         0         0         0         0   \n",
       "3       0  ...         0         0         0         0         0         0   \n",
       "4       0  ...         0         0         0         0         0         0   \n",
       "\n",
       "   pixel780  pixel781  pixel782  pixel783  \n",
       "0         0         0         0         0  \n",
       "1         0         0         0         0  \n",
       "2         0         0         0         0  \n",
       "3         0         0         0         0  \n",
       "4         0         0         0         0  \n",
       "\n",
       "[5 rows x 784 columns]"
      ]
     },
     "execution_count": 15,
     "metadata": {},
     "output_type": "execute_result"
    }
   ],
   "source": [
    "data_test = pd.read_csv(\"/kaggle/input/digit-recognizer/test.csv\")\n",
    "data_test.head()\n"
   ]
  },
  {
   "cell_type": "code",
   "execution_count": 16,
   "id": "de1eaba2",
   "metadata": {
    "execution": {
     "iopub.execute_input": "2024-05-22T11:04:46.218028Z",
     "iopub.status.busy": "2024-05-22T11:04:46.217681Z",
     "iopub.status.idle": "2024-05-22T11:04:46.288300Z",
     "shell.execute_reply": "2024-05-22T11:04:46.287430Z"
    },
    "papermill": {
     "duration": 1.656724,
     "end_time": "2024-05-22T11:04:46.290340",
     "exception": false,
     "start_time": "2024-05-22T11:04:44.633616",
     "status": "completed"
    },
    "tags": []
   },
   "outputs": [
    {
     "data": {
      "text/plain": [
       "(28000, 28, 28)"
      ]
     },
     "execution_count": 16,
     "metadata": {},
     "output_type": "execute_result"
    }
   ],
   "source": [
    "features_test = data_test.iloc[:,:].values\n",
    "features_test = features_test/255\n",
    "features_test = features_test.reshape(-1,28,28)\n",
    "features_test.shape"
   ]
  },
  {
   "cell_type": "code",
   "execution_count": 17,
   "id": "e046b9f6",
   "metadata": {
    "execution": {
     "iopub.execute_input": "2024-05-22T11:04:49.417786Z",
     "iopub.status.busy": "2024-05-22T11:04:49.417418Z",
     "iopub.status.idle": "2024-05-22T11:04:52.074061Z",
     "shell.execute_reply": "2024-05-22T11:04:52.073230Z"
    },
    "papermill": {
     "duration": 4.190883,
     "end_time": "2024-05-22T11:04:52.076352",
     "exception": false,
     "start_time": "2024-05-22T11:04:47.885469",
     "status": "completed"
    },
    "tags": []
   },
   "outputs": [
    {
     "name": "stdout",
     "output_type": "stream",
     "text": [
      "\u001b[1m875/875\u001b[0m \u001b[32m━━━━━━━━━━━━━━━━━━━━\u001b[0m\u001b[37m\u001b[0m \u001b[1m2s\u001b[0m 1ms/step\n"
     ]
    }
   ],
   "source": [
    "predictions = model.predict(features_test)"
   ]
  },
  {
   "cell_type": "code",
   "execution_count": 18,
   "id": "728fb22b",
   "metadata": {
    "execution": {
     "iopub.execute_input": "2024-05-22T11:04:55.314962Z",
     "iopub.status.busy": "2024-05-22T11:04:55.314621Z",
     "iopub.status.idle": "2024-05-22T11:04:55.319366Z",
     "shell.execute_reply": "2024-05-22T11:04:55.318581Z"
    },
    "papermill": {
     "duration": 1.609946,
     "end_time": "2024-05-22T11:04:55.321136",
     "exception": false,
     "start_time": "2024-05-22T11:04:53.711190",
     "status": "completed"
    },
    "tags": []
   },
   "outputs": [],
   "source": [
    "predictions = np.argmax(predictions, axis=1)"
   ]
  },
  {
   "cell_type": "code",
   "execution_count": 19,
   "id": "42787a32",
   "metadata": {
    "execution": {
     "iopub.execute_input": "2024-05-22T11:04:58.444678Z",
     "iopub.status.busy": "2024-05-22T11:04:58.444319Z",
     "iopub.status.idle": "2024-05-22T11:04:58.450713Z",
     "shell.execute_reply": "2024-05-22T11:04:58.449787Z"
    },
    "papermill": {
     "duration": 1.599727,
     "end_time": "2024-05-22T11:04:58.452810",
     "exception": false,
     "start_time": "2024-05-22T11:04:56.853083",
     "status": "completed"
    },
    "tags": []
   },
   "outputs": [
    {
     "data": {
      "text/plain": [
       "array([2, 0, 9, ..., 3, 9, 2])"
      ]
     },
     "execution_count": 19,
     "metadata": {},
     "output_type": "execute_result"
    }
   ],
   "source": [
    "predictions"
   ]
  },
  {
   "cell_type": "code",
   "execution_count": 20,
   "id": "db116bd2",
   "metadata": {
    "execution": {
     "iopub.execute_input": "2024-05-22T11:05:01.750203Z",
     "iopub.status.busy": "2024-05-22T11:05:01.749848Z",
     "iopub.status.idle": "2024-05-22T11:05:01.786824Z",
     "shell.execute_reply": "2024-05-22T11:05:01.786100Z"
    },
    "papermill": {
     "duration": 1.652566,
     "end_time": "2024-05-22T11:05:01.788701",
     "exception": false,
     "start_time": "2024-05-22T11:05:00.136135",
     "status": "completed"
    },
    "tags": []
   },
   "outputs": [],
   "source": [
    "submission = pd.DataFrame({'ImageId': range(1, len(predictions) + 1), 'Label': predictions})\n",
    "submission.to_csv('submission.csv', index=False)"
   ]
  }
 ],
 "metadata": {
  "kaggle": {
   "accelerator": "none",
   "dataSources": [
    {
     "databundleVersionId": 861823,
     "sourceId": 3004,
     "sourceType": "competition"
    }
   ],
   "dockerImageVersionId": 30698,
   "isGpuEnabled": false,
   "isInternetEnabled": true,
   "language": "python",
   "sourceType": "notebook"
  },
  "kernelspec": {
   "display_name": "Python 3",
   "language": "python",
   "name": "python3"
  },
  "language_info": {
   "codemirror_mode": {
    "name": "ipython",
    "version": 3
   },
   "file_extension": ".py",
   "mimetype": "text/x-python",
   "name": "python",
   "nbconvert_exporter": "python",
   "pygments_lexer": "ipython3",
   "version": "3.10.13"
  },
  "papermill": {
   "default_parameters": {},
   "duration": 1272.494784,
   "end_time": "2024-05-22T11:05:06.200698",
   "environment_variables": {},
   "exception": null,
   "input_path": "__notebook__.ipynb",
   "output_path": "__notebook__.ipynb",
   "parameters": {},
   "start_time": "2024-05-22T10:43:53.705914",
   "version": "2.5.0"
  }
 },
 "nbformat": 4,
 "nbformat_minor": 5
}
