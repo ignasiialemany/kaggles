{
 "cells": [
  {
   "cell_type": "code",
   "execution_count": 1,
   "id": "733c19e6",
   "metadata": {
    "_cell_guid": "b1076dfc-b9ad-4769-8c92-a6c4dae69d19",
    "_uuid": "8f2839f25d086af736a60e9eeb907d3b93b6e0e5",
    "execution": {
     "iopub.execute_input": "2024-05-22T07:35:30.021862Z",
     "iopub.status.busy": "2024-05-22T07:35:30.020900Z",
     "iopub.status.idle": "2024-05-22T07:35:43.371136Z",
     "shell.execute_reply": "2024-05-22T07:35:43.370304Z"
    },
    "papermill": {
     "duration": 13.36178,
     "end_time": "2024-05-22T07:35:43.373569",
     "exception": false,
     "start_time": "2024-05-22T07:35:30.011789",
     "status": "completed"
    },
    "tags": []
   },
   "outputs": [
    {
     "name": "stderr",
     "output_type": "stream",
     "text": [
      "2024-05-22 07:35:32.651234: E external/local_xla/xla/stream_executor/cuda/cuda_dnn.cc:9261] Unable to register cuDNN factory: Attempting to register factory for plugin cuDNN when one has already been registered\n",
      "2024-05-22 07:35:32.651346: E external/local_xla/xla/stream_executor/cuda/cuda_fft.cc:607] Unable to register cuFFT factory: Attempting to register factory for plugin cuFFT when one has already been registered\n",
      "2024-05-22 07:35:32.792703: E external/local_xla/xla/stream_executor/cuda/cuda_blas.cc:1515] Unable to register cuBLAS factory: Attempting to register factory for plugin cuBLAS when one has already been registered\n"
     ]
    }
   ],
   "source": [
    "import numpy as np\n",
    "import pandas as pd\n",
    "import matplotlib.pyplot as plt\n",
    "import tensorflow as tf"
   ]
  },
  {
   "cell_type": "code",
   "execution_count": 2,
   "id": "949a47eb",
   "metadata": {
    "execution": {
     "iopub.execute_input": "2024-05-22T07:35:43.389159Z",
     "iopub.status.busy": "2024-05-22T07:35:43.388064Z",
     "iopub.status.idle": "2024-05-22T07:35:47.352948Z",
     "shell.execute_reply": "2024-05-22T07:35:47.351953Z"
    },
    "papermill": {
     "duration": 3.97515,
     "end_time": "2024-05-22T07:35:47.355729",
     "exception": false,
     "start_time": "2024-05-22T07:35:43.380579",
     "status": "completed"
    },
    "tags": []
   },
   "outputs": [],
   "source": [
    "data = pd.read_csv(\"/kaggle/input/digit-recognizer/train.csv\")"
   ]
  },
  {
   "cell_type": "code",
   "execution_count": 3,
   "id": "b955f8fb",
   "metadata": {
    "execution": {
     "iopub.execute_input": "2024-05-22T07:35:47.370875Z",
     "iopub.status.busy": "2024-05-22T07:35:47.370161Z",
     "iopub.status.idle": "2024-05-22T07:35:49.504545Z",
     "shell.execute_reply": "2024-05-22T07:35:49.503578Z"
    },
    "papermill": {
     "duration": 2.144703,
     "end_time": "2024-05-22T07:35:49.507171",
     "exception": false,
     "start_time": "2024-05-22T07:35:47.362468",
     "status": "completed"
    },
    "tags": []
   },
   "outputs": [
    {
     "data": {
      "text/html": [
       "<div>\n",
       "<style scoped>\n",
       "    .dataframe tbody tr th:only-of-type {\n",
       "        vertical-align: middle;\n",
       "    }\n",
       "\n",
       "    .dataframe tbody tr th {\n",
       "        vertical-align: top;\n",
       "    }\n",
       "\n",
       "    .dataframe thead th {\n",
       "        text-align: right;\n",
       "    }\n",
       "</style>\n",
       "<table border=\"1\" class=\"dataframe\">\n",
       "  <thead>\n",
       "    <tr style=\"text-align: right;\">\n",
       "      <th></th>\n",
       "      <th>label</th>\n",
       "      <th>pixel0</th>\n",
       "      <th>pixel1</th>\n",
       "      <th>pixel2</th>\n",
       "      <th>pixel3</th>\n",
       "      <th>pixel4</th>\n",
       "      <th>pixel5</th>\n",
       "      <th>pixel6</th>\n",
       "      <th>pixel7</th>\n",
       "      <th>pixel8</th>\n",
       "      <th>...</th>\n",
       "      <th>pixel774</th>\n",
       "      <th>pixel775</th>\n",
       "      <th>pixel776</th>\n",
       "      <th>pixel777</th>\n",
       "      <th>pixel778</th>\n",
       "      <th>pixel779</th>\n",
       "      <th>pixel780</th>\n",
       "      <th>pixel781</th>\n",
       "      <th>pixel782</th>\n",
       "      <th>pixel783</th>\n",
       "    </tr>\n",
       "  </thead>\n",
       "  <tbody>\n",
       "    <tr>\n",
       "      <th>count</th>\n",
       "      <td>42000.000000</td>\n",
       "      <td>42000.0</td>\n",
       "      <td>42000.0</td>\n",
       "      <td>42000.0</td>\n",
       "      <td>42000.0</td>\n",
       "      <td>42000.0</td>\n",
       "      <td>42000.0</td>\n",
       "      <td>42000.0</td>\n",
       "      <td>42000.0</td>\n",
       "      <td>42000.0</td>\n",
       "      <td>...</td>\n",
       "      <td>42000.000000</td>\n",
       "      <td>42000.000000</td>\n",
       "      <td>42000.000000</td>\n",
       "      <td>42000.00000</td>\n",
       "      <td>42000.000000</td>\n",
       "      <td>42000.000000</td>\n",
       "      <td>42000.0</td>\n",
       "      <td>42000.0</td>\n",
       "      <td>42000.0</td>\n",
       "      <td>42000.0</td>\n",
       "    </tr>\n",
       "    <tr>\n",
       "      <th>mean</th>\n",
       "      <td>4.456643</td>\n",
       "      <td>0.0</td>\n",
       "      <td>0.0</td>\n",
       "      <td>0.0</td>\n",
       "      <td>0.0</td>\n",
       "      <td>0.0</td>\n",
       "      <td>0.0</td>\n",
       "      <td>0.0</td>\n",
       "      <td>0.0</td>\n",
       "      <td>0.0</td>\n",
       "      <td>...</td>\n",
       "      <td>0.219286</td>\n",
       "      <td>0.117095</td>\n",
       "      <td>0.059024</td>\n",
       "      <td>0.02019</td>\n",
       "      <td>0.017238</td>\n",
       "      <td>0.002857</td>\n",
       "      <td>0.0</td>\n",
       "      <td>0.0</td>\n",
       "      <td>0.0</td>\n",
       "      <td>0.0</td>\n",
       "    </tr>\n",
       "    <tr>\n",
       "      <th>std</th>\n",
       "      <td>2.887730</td>\n",
       "      <td>0.0</td>\n",
       "      <td>0.0</td>\n",
       "      <td>0.0</td>\n",
       "      <td>0.0</td>\n",
       "      <td>0.0</td>\n",
       "      <td>0.0</td>\n",
       "      <td>0.0</td>\n",
       "      <td>0.0</td>\n",
       "      <td>0.0</td>\n",
       "      <td>...</td>\n",
       "      <td>6.312890</td>\n",
       "      <td>4.633819</td>\n",
       "      <td>3.274488</td>\n",
       "      <td>1.75987</td>\n",
       "      <td>1.894498</td>\n",
       "      <td>0.414264</td>\n",
       "      <td>0.0</td>\n",
       "      <td>0.0</td>\n",
       "      <td>0.0</td>\n",
       "      <td>0.0</td>\n",
       "    </tr>\n",
       "    <tr>\n",
       "      <th>min</th>\n",
       "      <td>0.000000</td>\n",
       "      <td>0.0</td>\n",
       "      <td>0.0</td>\n",
       "      <td>0.0</td>\n",
       "      <td>0.0</td>\n",
       "      <td>0.0</td>\n",
       "      <td>0.0</td>\n",
       "      <td>0.0</td>\n",
       "      <td>0.0</td>\n",
       "      <td>0.0</td>\n",
       "      <td>...</td>\n",
       "      <td>0.000000</td>\n",
       "      <td>0.000000</td>\n",
       "      <td>0.000000</td>\n",
       "      <td>0.00000</td>\n",
       "      <td>0.000000</td>\n",
       "      <td>0.000000</td>\n",
       "      <td>0.0</td>\n",
       "      <td>0.0</td>\n",
       "      <td>0.0</td>\n",
       "      <td>0.0</td>\n",
       "    </tr>\n",
       "    <tr>\n",
       "      <th>25%</th>\n",
       "      <td>2.000000</td>\n",
       "      <td>0.0</td>\n",
       "      <td>0.0</td>\n",
       "      <td>0.0</td>\n",
       "      <td>0.0</td>\n",
       "      <td>0.0</td>\n",
       "      <td>0.0</td>\n",
       "      <td>0.0</td>\n",
       "      <td>0.0</td>\n",
       "      <td>0.0</td>\n",
       "      <td>...</td>\n",
       "      <td>0.000000</td>\n",
       "      <td>0.000000</td>\n",
       "      <td>0.000000</td>\n",
       "      <td>0.00000</td>\n",
       "      <td>0.000000</td>\n",
       "      <td>0.000000</td>\n",
       "      <td>0.0</td>\n",
       "      <td>0.0</td>\n",
       "      <td>0.0</td>\n",
       "      <td>0.0</td>\n",
       "    </tr>\n",
       "    <tr>\n",
       "      <th>50%</th>\n",
       "      <td>4.000000</td>\n",
       "      <td>0.0</td>\n",
       "      <td>0.0</td>\n",
       "      <td>0.0</td>\n",
       "      <td>0.0</td>\n",
       "      <td>0.0</td>\n",
       "      <td>0.0</td>\n",
       "      <td>0.0</td>\n",
       "      <td>0.0</td>\n",
       "      <td>0.0</td>\n",
       "      <td>...</td>\n",
       "      <td>0.000000</td>\n",
       "      <td>0.000000</td>\n",
       "      <td>0.000000</td>\n",
       "      <td>0.00000</td>\n",
       "      <td>0.000000</td>\n",
       "      <td>0.000000</td>\n",
       "      <td>0.0</td>\n",
       "      <td>0.0</td>\n",
       "      <td>0.0</td>\n",
       "      <td>0.0</td>\n",
       "    </tr>\n",
       "    <tr>\n",
       "      <th>75%</th>\n",
       "      <td>7.000000</td>\n",
       "      <td>0.0</td>\n",
       "      <td>0.0</td>\n",
       "      <td>0.0</td>\n",
       "      <td>0.0</td>\n",
       "      <td>0.0</td>\n",
       "      <td>0.0</td>\n",
       "      <td>0.0</td>\n",
       "      <td>0.0</td>\n",
       "      <td>0.0</td>\n",
       "      <td>...</td>\n",
       "      <td>0.000000</td>\n",
       "      <td>0.000000</td>\n",
       "      <td>0.000000</td>\n",
       "      <td>0.00000</td>\n",
       "      <td>0.000000</td>\n",
       "      <td>0.000000</td>\n",
       "      <td>0.0</td>\n",
       "      <td>0.0</td>\n",
       "      <td>0.0</td>\n",
       "      <td>0.0</td>\n",
       "    </tr>\n",
       "    <tr>\n",
       "      <th>max</th>\n",
       "      <td>9.000000</td>\n",
       "      <td>0.0</td>\n",
       "      <td>0.0</td>\n",
       "      <td>0.0</td>\n",
       "      <td>0.0</td>\n",
       "      <td>0.0</td>\n",
       "      <td>0.0</td>\n",
       "      <td>0.0</td>\n",
       "      <td>0.0</td>\n",
       "      <td>0.0</td>\n",
       "      <td>...</td>\n",
       "      <td>254.000000</td>\n",
       "      <td>254.000000</td>\n",
       "      <td>253.000000</td>\n",
       "      <td>253.00000</td>\n",
       "      <td>254.000000</td>\n",
       "      <td>62.000000</td>\n",
       "      <td>0.0</td>\n",
       "      <td>0.0</td>\n",
       "      <td>0.0</td>\n",
       "      <td>0.0</td>\n",
       "    </tr>\n",
       "  </tbody>\n",
       "</table>\n",
       "<p>8 rows × 785 columns</p>\n",
       "</div>"
      ],
      "text/plain": [
       "              label   pixel0   pixel1   pixel2   pixel3   pixel4   pixel5  \\\n",
       "count  42000.000000  42000.0  42000.0  42000.0  42000.0  42000.0  42000.0   \n",
       "mean       4.456643      0.0      0.0      0.0      0.0      0.0      0.0   \n",
       "std        2.887730      0.0      0.0      0.0      0.0      0.0      0.0   \n",
       "min        0.000000      0.0      0.0      0.0      0.0      0.0      0.0   \n",
       "25%        2.000000      0.0      0.0      0.0      0.0      0.0      0.0   \n",
       "50%        4.000000      0.0      0.0      0.0      0.0      0.0      0.0   \n",
       "75%        7.000000      0.0      0.0      0.0      0.0      0.0      0.0   \n",
       "max        9.000000      0.0      0.0      0.0      0.0      0.0      0.0   \n",
       "\n",
       "        pixel6   pixel7   pixel8  ...      pixel774      pixel775  \\\n",
       "count  42000.0  42000.0  42000.0  ...  42000.000000  42000.000000   \n",
       "mean       0.0      0.0      0.0  ...      0.219286      0.117095   \n",
       "std        0.0      0.0      0.0  ...      6.312890      4.633819   \n",
       "min        0.0      0.0      0.0  ...      0.000000      0.000000   \n",
       "25%        0.0      0.0      0.0  ...      0.000000      0.000000   \n",
       "50%        0.0      0.0      0.0  ...      0.000000      0.000000   \n",
       "75%        0.0      0.0      0.0  ...      0.000000      0.000000   \n",
       "max        0.0      0.0      0.0  ...    254.000000    254.000000   \n",
       "\n",
       "           pixel776     pixel777      pixel778      pixel779  pixel780  \\\n",
       "count  42000.000000  42000.00000  42000.000000  42000.000000   42000.0   \n",
       "mean       0.059024      0.02019      0.017238      0.002857       0.0   \n",
       "std        3.274488      1.75987      1.894498      0.414264       0.0   \n",
       "min        0.000000      0.00000      0.000000      0.000000       0.0   \n",
       "25%        0.000000      0.00000      0.000000      0.000000       0.0   \n",
       "50%        0.000000      0.00000      0.000000      0.000000       0.0   \n",
       "75%        0.000000      0.00000      0.000000      0.000000       0.0   \n",
       "max      253.000000    253.00000    254.000000     62.000000       0.0   \n",
       "\n",
       "       pixel781  pixel782  pixel783  \n",
       "count   42000.0   42000.0   42000.0  \n",
       "mean        0.0       0.0       0.0  \n",
       "std         0.0       0.0       0.0  \n",
       "min         0.0       0.0       0.0  \n",
       "25%         0.0       0.0       0.0  \n",
       "50%         0.0       0.0       0.0  \n",
       "75%         0.0       0.0       0.0  \n",
       "max         0.0       0.0       0.0  \n",
       "\n",
       "[8 rows x 785 columns]"
      ]
     },
     "execution_count": 3,
     "metadata": {},
     "output_type": "execute_result"
    }
   ],
   "source": [
    "data.describe()"
   ]
  },
  {
   "cell_type": "code",
   "execution_count": 4,
   "id": "7de206b5",
   "metadata": {
    "execution": {
     "iopub.execute_input": "2024-05-22T07:35:49.522048Z",
     "iopub.status.busy": "2024-05-22T07:35:49.521731Z",
     "iopub.status.idle": "2024-05-22T07:35:49.933537Z",
     "shell.execute_reply": "2024-05-22T07:35:49.932629Z"
    },
    "papermill": {
     "duration": 0.421871,
     "end_time": "2024-05-22T07:35:49.936168",
     "exception": false,
     "start_time": "2024-05-22T07:35:49.514297",
     "status": "completed"
    },
    "tags": []
   },
   "outputs": [],
   "source": [
    "#normalized pixel values\n",
    "pixel_vars = [var for var in data.columns if var.startswith(\"pixel\")]\n",
    "for var in pixel_vars:\n",
    "    data[var] /= 255"
   ]
  },
  {
   "cell_type": "code",
   "execution_count": 5,
   "id": "a7ab125c",
   "metadata": {
    "execution": {
     "iopub.execute_input": "2024-05-22T07:35:49.951486Z",
     "iopub.status.busy": "2024-05-22T07:35:49.951089Z",
     "iopub.status.idle": "2024-05-22T07:35:50.323660Z",
     "shell.execute_reply": "2024-05-22T07:35:50.322469Z"
    },
    "papermill": {
     "duration": 0.383343,
     "end_time": "2024-05-22T07:35:50.326255",
     "exception": false,
     "start_time": "2024-05-22T07:35:49.942912",
     "status": "completed"
    },
    "tags": []
   },
   "outputs": [],
   "source": [
    "features = data.iloc[:, 1:].values  # Excludes the label if it's the first column\n",
    "labels = data.iloc[:,0].values"
   ]
  },
  {
   "cell_type": "code",
   "execution_count": 6,
   "id": "f0d79228",
   "metadata": {
    "execution": {
     "iopub.execute_input": "2024-05-22T07:35:50.341845Z",
     "iopub.status.busy": "2024-05-22T07:35:50.341533Z",
     "iopub.status.idle": "2024-05-22T07:35:50.629967Z",
     "shell.execute_reply": "2024-05-22T07:35:50.628942Z"
    },
    "papermill": {
     "duration": 0.298645,
     "end_time": "2024-05-22T07:35:50.631971",
     "exception": false,
     "start_time": "2024-05-22T07:35:50.333326",
     "status": "completed"
    },
    "tags": []
   },
   "outputs": [
    {
     "data": {
      "text/plain": [
       "<matplotlib.image.AxesImage at 0x786a95d0bb50>"
      ]
     },
     "execution_count": 6,
     "metadata": {},
     "output_type": "execute_result"
    },
    {
     "data": {
      "image/png": "[encoded data removed]",
      "text/plain": [
       "<Figure size 640x480 with 1 Axes>"
      ]
     },
     "metadata": {},
     "output_type": "display_data"
    }
   ],
   "source": [
    "features_reshaped = features.reshape(-1,28,28,1)\n",
    "\n",
    "#plot one dataset\n",
    "plt.imshow(features_reshaped[10,:,:])"
   ]
  },
  {
   "cell_type": "code",
   "execution_count": 7,
   "id": "3f17967f",
   "metadata": {
    "execution": {
     "iopub.execute_input": "2024-05-22T07:35:50.647515Z",
     "iopub.status.busy": "2024-05-22T07:35:50.647234Z",
     "iopub.status.idle": "2024-05-22T07:35:51.630301Z",
     "shell.execute_reply": "2024-05-22T07:35:51.629338Z"
    },
    "papermill": {
     "duration": 0.993546,
     "end_time": "2024-05-22T07:35:51.632937",
     "exception": false,
     "start_time": "2024-05-22T07:35:50.639391",
     "status": "completed"
    },
    "tags": []
   },
   "outputs": [],
   "source": [
    "#convert dataset to tensor\n",
    "features_tensor = tf.convert_to_tensor(features_reshaped, dtype=tf.float32)\n",
    "labels_tensor = tf.convert_to_tensor(labels, dtype=tf.int32)\n"
   ]
  },
  {
   "cell_type": "code",
   "execution_count": 8,
   "id": "7b3f08e3",
   "metadata": {
    "execution": {
     "iopub.execute_input": "2024-05-22T07:35:51.650526Z",
     "iopub.status.busy": "2024-05-22T07:35:51.650205Z",
     "iopub.status.idle": "2024-05-22T07:35:51.685659Z",
     "shell.execute_reply": "2024-05-22T07:35:51.684777Z"
    },
    "papermill": {
     "duration": 0.046866,
     "end_time": "2024-05-22T07:35:51.688135",
     "exception": false,
     "start_time": "2024-05-22T07:35:51.641269",
     "status": "completed"
    },
    "tags": []
   },
   "outputs": [],
   "source": [
    "# Assuming features_tensor and labels_tensor are your datasets\n",
    "N_exp = features_tensor.shape[0]\n",
    "indices = tf.range(start=0, limit=N_exp, dtype=tf.int32)\n",
    "shuffled_indices = tf.random.shuffle(indices)\n",
    "\n",
    "features_tensor = tf.gather(features_tensor, shuffled_indices)\n",
    "labels_tensor = tf.gather(labels_tensor, shuffled_indices)\n",
    "\n",
    "# Calculate the number of training examples\n",
    "train_size = int(0.8 * N_exp)\n",
    "\n",
    "# Split the features and labels into training and validation sets\n",
    "X_train = features_tensor[:train_size]\n",
    "y_train = labels_tensor[:train_size]\n",
    "X_valid = features_tensor[train_size:]\n",
    "y_valid = labels_tensor[train_size:]"
   ]
  },
  {
   "cell_type": "code",
   "execution_count": 9,
   "id": "83f0c057",
   "metadata": {
    "execution": {
     "iopub.execute_input": "2024-05-22T07:35:51.704585Z",
     "iopub.status.busy": "2024-05-22T07:35:51.703714Z",
     "iopub.status.idle": "2024-05-22T07:35:51.823283Z",
     "shell.execute_reply": "2024-05-22T07:35:51.822137Z"
    },
    "papermill": {
     "duration": 0.13048,
     "end_time": "2024-05-22T07:35:51.826050",
     "exception": false,
     "start_time": "2024-05-22T07:35:51.695570",
     "status": "completed"
    },
    "tags": []
   },
   "outputs": [],
   "source": [
    "from tensorflow.keras.preprocessing.image import ImageDataGenerator\n",
    "\n",
    "# Training data generator with augmentation\n",
    "augmented_data_gen = ImageDataGenerator(\n",
    "    rotation_range=30,\n",
    "    width_shift_range=0.1,\n",
    "    height_shift_range=0.1,\n",
    "    shear_range=0.15,\n",
    "    zoom_range=0.2,\n",
    "    fill_mode='nearest'\n",
    ")\n",
    "\n",
    "# Training data without augmentation for comparison (only in debug mode set Shuffle to False for comparison in next cell)\n",
    "train_data_gen = ImageDataGenerator()\n",
    "\n",
    "# Validation data generator without augmentation\n",
    "validation_datagen = ImageDataGenerator()  # No augmentation for validation data\n",
    "\n",
    "# Configure generators to load data\n",
    "train_generator = train_data_gen.flow(X_train, y_train, batch_size=32)\n",
    "augmented_data_gen = augmented_data_gen.flow(X_train, y_train, batch_size=32)\n",
    "validation_generator = validation_datagen.flow(X_valid, y_valid, batch_size=32)\n"
   ]
  },
  {
   "cell_type": "code",
   "execution_count": 10,
   "id": "b7af5d84",
   "metadata": {
    "execution": {
     "iopub.execute_input": "2024-05-22T07:35:51.843241Z",
     "iopub.status.busy": "2024-05-22T07:35:51.842880Z",
     "iopub.status.idle": "2024-05-22T07:35:52.462162Z",
     "shell.execute_reply": "2024-05-22T07:35:52.460559Z"
    },
    "papermill": {
     "duration": 0.632485,
     "end_time": "2024-05-22T07:35:52.466643",
     "exception": false,
     "start_time": "2024-05-22T07:35:51.834158",
     "status": "completed"
    },
    "tags": []
   },
   "outputs": [
    {
     "data": {
      "image/png": "[encoded data removed]",
      "text/plain": [
       "<Figure size 2000x500 with 5 Axes>"
      ]
     },
     "metadata": {},
     "output_type": "display_data"
    },
    {
     "data": {
      "image/png": "[encoded data removed]",
      "text/plain": [
       "<Figure size 2000x500 with 5 Axes>"
      ]
     },
     "metadata": {},
     "output_type": "display_data"
    }
   ],
   "source": [
    "# Get a batch of images\n",
    "x_batch, y_batch = next(train_generator)\n",
    "x_batch2, y_batch2 = next(augmented_data_gen)\n",
    "\n",
    "# Function to plot images in a grid\n",
    "def plot_images(images_arr):\n",
    "    fig, axes = plt.subplots(1, 5, figsize=(20, 5))\n",
    "    axes = axes.flatten()\n",
    "    for img, ax in zip(images_arr, axes):\n",
    "        ax.imshow(img.squeeze(), cmap='gray')  # Assuming grayscale images; remove 'cmap' for RGB\n",
    "        ax.axis('off')\n",
    "    plt.show()\n",
    "\n",
    "# Plot the images\n",
    "plot_images(x_batch[:5])  # Plot the first 5 images from the batch\n",
    "plot_images(x_batch2[:5])  # Plot the first 5 images from the batch\n"
   ]
  },
  {
   "cell_type": "code",
   "execution_count": 11,
   "id": "6327aa51",
   "metadata": {
    "execution": {
     "iopub.execute_input": "2024-05-22T07:35:52.495460Z",
     "iopub.status.busy": "2024-05-22T07:35:52.495081Z",
     "iopub.status.idle": "2024-05-22T07:35:52.644167Z",
     "shell.execute_reply": "2024-05-22T07:35:52.643075Z"
    },
    "papermill": {
     "duration": 0.162013,
     "end_time": "2024-05-22T07:35:52.646454",
     "exception": false,
     "start_time": "2024-05-22T07:35:52.484441",
     "status": "completed"
    },
    "tags": []
   },
   "outputs": [
    {
     "name": "stderr",
     "output_type": "stream",
     "text": [
      "/opt/conda/lib/python3.10/site-packages/keras/src/layers/convolutional/base_conv.py:99: UserWarning: Do not pass an `input_shape`/`input_dim` argument to a layer. When using Sequential models, prefer using an `Input(shape)` object as the first layer in the model instead.\n",
      "  super().__init__(\n"
     ]
    }
   ],
   "source": [
    "from tensorflow.keras.models import Sequential\n",
    "from tensorflow.keras.layers import Conv2D, MaxPooling2D, Flatten, Dense, Dropout, Activation\n",
    "from tensorflow.keras.preprocessing.image import ImageDataGenerator\n",
    "from tensorflow.keras.layers import BatchNormalization\n",
    "\n",
    "# Create a Sequential model\n",
    "model = Sequential([\n",
    "    # Convolutional layer: 32 filters, kernel size of 3x3\n",
    "    Conv2D(64, kernel_size=(3, 3), input_shape=(28, 28, 1)),\n",
    "    BatchNormalization(),\n",
    "    Activation('relu'),\n",
    "    # MaxPooling layer: Pooling size of 2x2\n",
    "    MaxPooling2D(pool_size=(2, 2)),\n",
    "    \n",
    "    Conv2D(32, kernel_size=(3, 3)),\n",
    "    BatchNormalization(),\n",
    "    Activation('relu'),\n",
    "    \n",
    "    Conv2D(16, kernel_size=(3, 3)),\n",
    "    BatchNormalization(),\n",
    "    Activation('relu'),\n",
    "    \n",
    "    # Flatten layer to flatten the output of the previous layers into a single vector\n",
    "    Flatten(),\n",
    "    # Dense layer with increased capacity\n",
    "    Dense(128, activation='relu'),\n",
    "    BatchNormalization(),\n",
    "    # Dropout layer to reduce overfitting\n",
    "    Dropout(0.5),\n",
    "    # Output layer with 10 units (for 10 classes of digits 0-9) and softmax activation\n",
    "    Dense(10, activation='softmax')\n",
    "])\n",
    "\n",
    "\n",
    "# Compile the model\n",
    "model.compile(optimizer='adam', loss='sparse_categorical_crossentropy', metrics=['accuracy'])"
   ]
  },
  {
   "cell_type": "code",
   "execution_count": 12,
   "id": "c6236f3f",
   "metadata": {
    "execution": {
     "iopub.execute_input": "2024-05-22T07:35:52.665300Z",
     "iopub.status.busy": "2024-05-22T07:35:52.664920Z",
     "iopub.status.idle": "2024-05-22T07:35:52.671250Z",
     "shell.execute_reply": "2024-05-22T07:35:52.670326Z"
    },
    "papermill": {
     "duration": 0.018238,
     "end_time": "2024-05-22T07:35:52.673519",
     "exception": false,
     "start_time": "2024-05-22T07:35:52.655281",
     "status": "completed"
    },
    "tags": []
   },
   "outputs": [
    {
     "data": {
      "text/plain": [
       "1050"
      ]
     },
     "execution_count": 12,
     "metadata": {},
     "output_type": "execute_result"
    }
   ],
   "source": [
    "len(X_train)//32"
   ]
  },
  {
   "cell_type": "code",
   "execution_count": 13,
   "id": "330e03e1",
   "metadata": {
    "execution": {
     "iopub.execute_input": "2024-05-22T07:35:52.692568Z",
     "iopub.status.busy": "2024-05-22T07:35:52.692237Z",
     "iopub.status.idle": "2024-05-22T07:38:49.658305Z",
     "shell.execute_reply": "2024-05-22T07:38:49.657192Z"
    },
    "papermill": {
     "duration": 176.978763,
     "end_time": "2024-05-22T07:38:49.661037",
     "exception": false,
     "start_time": "2024-05-22T07:35:52.682274",
     "status": "completed"
    },
    "tags": []
   },
   "outputs": [
    {
     "name": "stdout",
     "output_type": "stream",
     "text": [
      "Epoch 1/10\n"
     ]
    },
    {
     "name": "stderr",
     "output_type": "stream",
     "text": [
      "/opt/conda/lib/python3.10/site-packages/keras/src/trainers/data_adapters/py_dataset_adapter.py:120: UserWarning: Your `PyDataset` class should call `super().__init__(**kwargs)` in its constructor. `**kwargs` can include `workers`, `use_multiprocessing`, `max_queue_size`. Do not pass these arguments to `fit()`, as they will be ignored.\n",
      "  self._warn_if_super_not_called()\n"
     ]
    },
    {
     "name": "stdout",
     "output_type": "stream",
     "text": [
      "\u001b[1m  13/1050\u001b[0m \u001b[37m━━━━━━━━━━━━━━━━━━━━\u001b[0m \u001b[1m14s\u001b[0m 14ms/step - accuracy: 0.1294 - loss: 3.0873"
     ]
    },
    {
     "name": "stderr",
     "output_type": "stream",
     "text": [
      "WARNING: All log messages before absl::InitializeLog() is called are written to STDERR\n",
      "I0000 00:00:1716363362.578251      65 device_compiler.h:186] Compiled cluster using XLA!  This line is logged at most once for the lifetime of the process.\n"
     ]
    },
    {
     "name": "stdout",
     "output_type": "stream",
     "text": [
      "\u001b[1m1050/1050\u001b[0m \u001b[32m━━━━━━━━━━━━━━━━━━━━\u001b[0m\u001b[37m\u001b[0m \u001b[1m27s\u001b[0m 17ms/step - accuracy: 0.7005 - loss: 0.9561 - val_accuracy: 0.9268 - val_loss: 0.2451\n",
      "Epoch 2/10\n",
      "\u001b[1m1050/1050\u001b[0m \u001b[32m━━━━━━━━━━━━━━━━━━━━\u001b[0m\u001b[37m\u001b[0m \u001b[1m16s\u001b[0m 15ms/step - accuracy: 0.9224 - loss: 0.2576 - val_accuracy: 0.9754 - val_loss: 0.0752\n",
      "Epoch 3/10\n",
      "\u001b[1m1050/1050\u001b[0m \u001b[32m━━━━━━━━━━━━━━━━━━━━\u001b[0m\u001b[37m\u001b[0m \u001b[1m16s\u001b[0m 15ms/step - accuracy: 0.9406 - loss: 0.1974 - val_accuracy: 0.9814 - val_loss: 0.0606\n",
      "Epoch 4/10\n",
      "\u001b[1m1050/1050\u001b[0m \u001b[32m━━━━━━━━━━━━━━━━━━━━\u001b[0m\u001b[37m\u001b[0m \u001b[1m16s\u001b[0m 15ms/step - accuracy: 0.9513 - loss: 0.1579 - val_accuracy: 0.9486 - val_loss: 0.1670\n",
      "Epoch 5/10\n",
      "\u001b[1m1050/1050\u001b[0m \u001b[32m━━━━━━━━━━━━━━━━━━━━\u001b[0m\u001b[37m\u001b[0m \u001b[1m16s\u001b[0m 15ms/step - accuracy: 0.9516 - loss: 0.1557 - val_accuracy: 0.9775 - val_loss: 0.0703\n",
      "Epoch 6/10\n",
      "\u001b[1m1050/1050\u001b[0m \u001b[32m━━━━━━━━━━━━━━━━━━━━\u001b[0m\u001b[37m\u001b[0m \u001b[1m16s\u001b[0m 15ms/step - accuracy: 0.9537 - loss: 0.1492 - val_accuracy: 0.9802 - val_loss: 0.0699\n",
      "Epoch 7/10\n",
      "\u001b[1m1050/1050\u001b[0m \u001b[32m━━━━━━━━━━━━━━━━━━━━\u001b[0m\u001b[37m\u001b[0m \u001b[1m16s\u001b[0m 16ms/step - accuracy: 0.9611 - loss: 0.1261 - val_accuracy: 0.9812 - val_loss: 0.0566\n",
      "Epoch 8/10\n",
      "\u001b[1m1050/1050\u001b[0m \u001b[32m━━━━━━━━━━━━━━━━━━━━\u001b[0m\u001b[37m\u001b[0m \u001b[1m20s\u001b[0m 15ms/step - accuracy: 0.9627 - loss: 0.1243 - val_accuracy: 0.9681 - val_loss: 0.1013\n",
      "Epoch 9/10\n",
      "\u001b[1m1050/1050\u001b[0m \u001b[32m━━━━━━━━━━━━━━━━━━━━\u001b[0m\u001b[37m\u001b[0m \u001b[1m16s\u001b[0m 15ms/step - accuracy: 0.9650 - loss: 0.1197 - val_accuracy: 0.9764 - val_loss: 0.0709\n",
      "Epoch 10/10\n",
      "\u001b[1m1050/1050\u001b[0m \u001b[32m━━━━━━━━━━━━━━━━━━━━\u001b[0m\u001b[37m\u001b[0m \u001b[1m16s\u001b[0m 15ms/step - accuracy: 0.9653 - loss: 0.1148 - val_accuracy: 0.9708 - val_loss: 0.0893\n"
     ]
    }
   ],
   "source": [
    "# Model setup as previously defined\n",
    "history = model.fit(\n",
    "    augmented_data_gen,\n",
    "    epochs=10,\n",
    "    validation_data=validation_generator)"
   ]
  },
  {
   "cell_type": "code",
   "execution_count": 14,
   "id": "c9a5a35a",
   "metadata": {
    "execution": {
     "iopub.execute_input": "2024-05-22T07:38:50.180029Z",
     "iopub.status.busy": "2024-05-22T07:38:50.179141Z",
     "iopub.status.idle": "2024-05-22T07:38:50.782006Z",
     "shell.execute_reply": "2024-05-22T07:38:50.780988Z"
    },
    "papermill": {
     "duration": 0.866915,
     "end_time": "2024-05-22T07:38:50.784330",
     "exception": false,
     "start_time": "2024-05-22T07:38:49.917415",
     "status": "completed"
    },
    "tags": []
   },
   "outputs": [
    {
     "data": {
      "image/png": "[encoded data removed]",
      "text/plain": [
       "<Figure size 1200x500 with 2 Axes>"
      ]
     },
     "metadata": {},
     "output_type": "display_data"
    }
   ],
   "source": [
    "import matplotlib.pyplot as plt\n",
    "\n",
    "# Accessing the history data\n",
    "acc = history.history['accuracy']\n",
    "val_acc = history.history['val_accuracy']\n",
    "loss = history.history['loss']\n",
    "val_loss = history.history['val_loss']\n",
    "epochs = range(1, len(acc) + 1)\n",
    "\n",
    "# Plot training and validation accuracy\n",
    "plt.figure(figsize=(12, 5))\n",
    "plt.subplot(1, 2, 1)\n",
    "plt.plot(epochs, acc, 'bo', label='Training accuracy')\n",
    "plt.plot(epochs, val_acc, 'b', label='Validation accuracy')\n",
    "plt.title('Training and Validation accuracy')\n",
    "plt.xlabel('Epochs')\n",
    "plt.ylabel('Accuracy')\n",
    "plt.legend()\n",
    "\n",
    "# Plot training and validation loss\n",
    "plt.subplot(1, 2, 2)\n",
    "plt.plot(epochs, loss, 'bo', label='Training loss')\n",
    "plt.plot(epochs, val_loss, 'b', label='Validation loss')\n",
    "plt.title('Training and Validation loss')\n",
    "plt.xlabel('Epochs')\n",
    "plt.ylabel('Loss')\n",
    "plt.legend()\n",
    "\n",
    "plt.show()"
   ]
  },
  {
   "cell_type": "code",
   "execution_count": 15,
   "id": "36878f7f",
   "metadata": {
    "execution": {
     "iopub.execute_input": "2024-05-22T07:38:51.302246Z",
     "iopub.status.busy": "2024-05-22T07:38:51.301818Z",
     "iopub.status.idle": "2024-05-22T07:38:53.942228Z",
     "shell.execute_reply": "2024-05-22T07:38:53.941236Z"
    },
    "papermill": {
     "duration": 2.902178,
     "end_time": "2024-05-22T07:38:53.944594",
     "exception": false,
     "start_time": "2024-05-22T07:38:51.042416",
     "status": "completed"
    },
    "tags": []
   },
   "outputs": [
    {
     "data": {
      "text/html": [
       "<div>\n",
       "<style scoped>\n",
       "    .dataframe tbody tr th:only-of-type {\n",
       "        vertical-align: middle;\n",
       "    }\n",
       "\n",
       "    .dataframe tbody tr th {\n",
       "        vertical-align: top;\n",
       "    }\n",
       "\n",
       "    .dataframe thead th {\n",
       "        text-align: right;\n",
       "    }\n",
       "</style>\n",
       "<table border=\"1\" class=\"dataframe\">\n",
       "  <thead>\n",
       "    <tr style=\"text-align: right;\">\n",
       "      <th></th>\n",
       "      <th>pixel0</th>\n",
       "      <th>pixel1</th>\n",
       "      <th>pixel2</th>\n",
       "      <th>pixel3</th>\n",
       "      <th>pixel4</th>\n",
       "      <th>pixel5</th>\n",
       "      <th>pixel6</th>\n",
       "      <th>pixel7</th>\n",
       "      <th>pixel8</th>\n",
       "      <th>pixel9</th>\n",
       "      <th>...</th>\n",
       "      <th>pixel774</th>\n",
       "      <th>pixel775</th>\n",
       "      <th>pixel776</th>\n",
       "      <th>pixel777</th>\n",
       "      <th>pixel778</th>\n",
       "      <th>pixel779</th>\n",
       "      <th>pixel780</th>\n",
       "      <th>pixel781</th>\n",
       "      <th>pixel782</th>\n",
       "      <th>pixel783</th>\n",
       "    </tr>\n",
       "  </thead>\n",
       "  <tbody>\n",
       "    <tr>\n",
       "      <th>0</th>\n",
       "      <td>0</td>\n",
       "      <td>0</td>\n",
       "      <td>0</td>\n",
       "      <td>0</td>\n",
       "      <td>0</td>\n",
       "      <td>0</td>\n",
       "      <td>0</td>\n",
       "      <td>0</td>\n",
       "      <td>0</td>\n",
       "      <td>0</td>\n",
       "      <td>...</td>\n",
       "      <td>0</td>\n",
       "      <td>0</td>\n",
       "      <td>0</td>\n",
       "      <td>0</td>\n",
       "      <td>0</td>\n",
       "      <td>0</td>\n",
       "      <td>0</td>\n",
       "      <td>0</td>\n",
       "      <td>0</td>\n",
       "      <td>0</td>\n",
       "    </tr>\n",
       "    <tr>\n",
       "      <th>1</th>\n",
       "      <td>0</td>\n",
       "      <td>0</td>\n",
       "      <td>0</td>\n",
       "      <td>0</td>\n",
       "      <td>0</td>\n",
       "      <td>0</td>\n",
       "      <td>0</td>\n",
       "      <td>0</td>\n",
       "      <td>0</td>\n",
       "      <td>0</td>\n",
       "      <td>...</td>\n",
       "      <td>0</td>\n",
       "      <td>0</td>\n",
       "      <td>0</td>\n",
       "      <td>0</td>\n",
       "      <td>0</td>\n",
       "      <td>0</td>\n",
       "      <td>0</td>\n",
       "      <td>0</td>\n",
       "      <td>0</td>\n",
       "      <td>0</td>\n",
       "    </tr>\n",
       "    <tr>\n",
       "      <th>2</th>\n",
       "      <td>0</td>\n",
       "      <td>0</td>\n",
       "      <td>0</td>\n",
       "      <td>0</td>\n",
       "      <td>0</td>\n",
       "      <td>0</td>\n",
       "      <td>0</td>\n",
       "      <td>0</td>\n",
       "      <td>0</td>\n",
       "      <td>0</td>\n",
       "      <td>...</td>\n",
       "      <td>0</td>\n",
       "      <td>0</td>\n",
       "      <td>0</td>\n",
       "      <td>0</td>\n",
       "      <td>0</td>\n",
       "      <td>0</td>\n",
       "      <td>0</td>\n",
       "      <td>0</td>\n",
       "      <td>0</td>\n",
       "      <td>0</td>\n",
       "    </tr>\n",
       "    <tr>\n",
       "      <th>3</th>\n",
       "      <td>0</td>\n",
       "      <td>0</td>\n",
       "      <td>0</td>\n",
       "      <td>0</td>\n",
       "      <td>0</td>\n",
       "      <td>0</td>\n",
       "      <td>0</td>\n",
       "      <td>0</td>\n",
       "      <td>0</td>\n",
       "      <td>0</td>\n",
       "      <td>...</td>\n",
       "      <td>0</td>\n",
       "      <td>0</td>\n",
       "      <td>0</td>\n",
       "      <td>0</td>\n",
       "      <td>0</td>\n",
       "      <td>0</td>\n",
       "      <td>0</td>\n",
       "      <td>0</td>\n",
       "      <td>0</td>\n",
       "      <td>0</td>\n",
       "    </tr>\n",
       "    <tr>\n",
       "      <th>4</th>\n",
       "      <td>0</td>\n",
       "      <td>0</td>\n",
       "      <td>0</td>\n",
       "      <td>0</td>\n",
       "      <td>0</td>\n",
       "      <td>0</td>\n",
       "      <td>0</td>\n",
       "      <td>0</td>\n",
       "      <td>0</td>\n",
       "      <td>0</td>\n",
       "      <td>...</td>\n",
       "      <td>0</td>\n",
       "      <td>0</td>\n",
       "      <td>0</td>\n",
       "      <td>0</td>\n",
       "      <td>0</td>\n",
       "      <td>0</td>\n",
       "      <td>0</td>\n",
       "      <td>0</td>\n",
       "      <td>0</td>\n",
       "      <td>0</td>\n",
       "    </tr>\n",
       "  </tbody>\n",
       "</table>\n",
       "<p>5 rows × 784 columns</p>\n",
       "</div>"
      ],
      "text/plain": [
       "   pixel0  pixel1  pixel2  pixel3  pixel4  pixel5  pixel6  pixel7  pixel8  \\\n",
       "0       0       0       0       0       0       0       0       0       0   \n",
       "1       0       0       0       0       0       0       0       0       0   \n",
       "2       0       0       0       0       0       0       0       0       0   \n",
       "3       0       0       0       0       0       0       0       0       0   \n",
       "4       0       0       0       0       0       0       0       0       0   \n",
       "\n",
       "   pixel9  ...  pixel774  pixel775  pixel776  pixel777  pixel778  pixel779  \\\n",
       "0       0  ...         0         0         0         0         0         0   \n",
       "1       0  ...         0         0         0         0         0         0   \n",
       "2       0  ...         0         0         0         0         0         0   \n",
       "3       0  ...         0         0         0         0         0         0   \n",
       "4       0  ...         0         0         0         0         0         0   \n",
       "\n",
       "   pixel780  pixel781  pixel782  pixel783  \n",
       "0         0         0         0         0  \n",
       "1         0         0         0         0  \n",
       "2         0         0         0         0  \n",
       "3         0         0         0         0  \n",
       "4         0         0         0         0  \n",
       "\n",
       "[5 rows x 784 columns]"
      ]
     },
     "execution_count": 15,
     "metadata": {},
     "output_type": "execute_result"
    }
   ],
   "source": [
    "data_test = pd.read_csv(\"/kaggle/input/digit-recognizer/test.csv\")\n",
    "data_test.head()\n"
   ]
  },
  {
   "cell_type": "code",
   "execution_count": 16,
   "id": "f9864e70",
   "metadata": {
    "execution": {
     "iopub.execute_input": "2024-05-22T07:38:54.500292Z",
     "iopub.status.busy": "2024-05-22T07:38:54.499857Z",
     "iopub.status.idle": "2024-05-22T07:38:54.577179Z",
     "shell.execute_reply": "2024-05-22T07:38:54.576207Z"
    },
    "papermill": {
     "duration": 0.337945,
     "end_time": "2024-05-22T07:38:54.579535",
     "exception": false,
     "start_time": "2024-05-22T07:38:54.241590",
     "status": "completed"
    },
    "tags": []
   },
   "outputs": [
    {
     "data": {
      "text/plain": [
       "(28000, 28, 28)"
      ]
     },
     "execution_count": 16,
     "metadata": {},
     "output_type": "execute_result"
    }
   ],
   "source": [
    "features_test = data_test.iloc[:,:].values\n",
    "features_test = features_test/255\n",
    "features_test = features_test.reshape(-1,28,28)\n",
    "features_test.shape"
   ]
  },
  {
   "cell_type": "code",
   "execution_count": 17,
   "id": "8b4decfb",
   "metadata": {
    "execution": {
     "iopub.execute_input": "2024-05-22T07:38:55.095990Z",
     "iopub.status.busy": "2024-05-22T07:38:55.095552Z",
     "iopub.status.idle": "2024-05-22T07:38:57.873719Z",
     "shell.execute_reply": "2024-05-22T07:38:57.872778Z"
    },
    "papermill": {
     "duration": 3.037659,
     "end_time": "2024-05-22T07:38:57.876314",
     "exception": false,
     "start_time": "2024-05-22T07:38:54.838655",
     "status": "completed"
    },
    "tags": []
   },
   "outputs": [
    {
     "name": "stdout",
     "output_type": "stream",
     "text": [
      "\u001b[1m875/875\u001b[0m \u001b[32m━━━━━━━━━━━━━━━━━━━━\u001b[0m\u001b[37m\u001b[0m \u001b[1m2s\u001b[0m 2ms/step\n"
     ]
    }
   ],
   "source": [
    "predictions = model.predict(features_test)"
   ]
  },
  {
   "cell_type": "code",
   "execution_count": 18,
   "id": "eaaccf6d",
   "metadata": {
    "execution": {
     "iopub.execute_input": "2024-05-22T07:38:58.400569Z",
     "iopub.status.busy": "2024-05-22T07:38:58.399801Z",
     "iopub.status.idle": "2024-05-22T07:38:58.405463Z",
     "shell.execute_reply": "2024-05-22T07:38:58.404588Z"
    },
    "papermill": {
     "duration": 0.27188,
     "end_time": "2024-05-22T07:38:58.407700",
     "exception": false,
     "start_time": "2024-05-22T07:38:58.135820",
     "status": "completed"
    },
    "tags": []
   },
   "outputs": [],
   "source": [
    "predictions = np.argmax(predictions, axis=1)"
   ]
  },
  {
   "cell_type": "code",
   "execution_count": 19,
   "id": "a64eda64",
   "metadata": {
    "execution": {
     "iopub.execute_input": "2024-05-22T07:38:58.929026Z",
     "iopub.status.busy": "2024-05-22T07:38:58.928230Z",
     "iopub.status.idle": "2024-05-22T07:38:58.934986Z",
     "shell.execute_reply": "2024-05-22T07:38:58.933875Z"
    },
    "papermill": {
     "duration": 0.272396,
     "end_time": "2024-05-22T07:38:58.937842",
     "exception": false,
     "start_time": "2024-05-22T07:38:58.665446",
     "status": "completed"
    },
    "tags": []
   },
   "outputs": [
    {
     "data": {
      "text/plain": [
       "array([2, 0, 9, ..., 3, 9, 2])"
      ]
     },
     "execution_count": 19,
     "metadata": {},
     "output_type": "execute_result"
    }
   ],
   "source": [
    "predictions"
   ]
  },
  {
   "cell_type": "code",
   "execution_count": 20,
   "id": "4bfed636",
   "metadata": {
    "execution": {
     "iopub.execute_input": "2024-05-22T07:38:59.535400Z",
     "iopub.status.busy": "2024-05-22T07:38:59.534978Z",
     "iopub.status.idle": "2024-05-22T07:38:59.579221Z",
     "shell.execute_reply": "2024-05-22T07:38:59.578237Z"
    },
    "papermill": {
     "duration": 0.370632,
     "end_time": "2024-05-22T07:38:59.581872",
     "exception": false,
     "start_time": "2024-05-22T07:38:59.211240",
     "status": "completed"
    },
    "tags": []
   },
   "outputs": [],
   "source": [
    "submission = pd.DataFrame({'ImageId': range(1, len(predictions) + 1), 'Label': predictions})\n",
    "submission.to_csv('submission.csv', index=False)"
   ]
  }
 ],
 "metadata": {
  "kaggle": {
   "accelerator": "none",
   "dataSources": [
    {
     "databundleVersionId": 861823,
     "sourceId": 3004,
     "sourceType": "competition"
    }
   ],
   "dockerImageVersionId": 30698,
   "isGpuEnabled": false,
   "isInternetEnabled": true,
   "language": "python",
   "sourceType": "notebook"
  },
  "kernelspec": {
   "display_name": "Python 3",
   "language": "python",
   "name": "python3"
  },
  "language_info": {
   "codemirror_mode": {
    "name": "ipython",
    "version": 3
   },
   "file_extension": ".py",
   "mimetype": "text/x-python",
   "name": "python",
   "nbconvert_exporter": "python",
   "pygments_lexer": "ipython3",
   "version": "3.10.13"
  },
  "papermill": {
   "default_parameters": {},
   "duration": 215.504096,
   "end_time": "2024-05-22T07:39:02.376940",
   "environment_variables": {},
   "exception": null,
   "input_path": "__notebook__.ipynb",
   "output_path": "__notebook__.ipynb",
   "parameters": {},
   "start_time": "2024-05-22T07:35:26.872844",
   "version": "2.5.0"
  }
 },
 "nbformat": 4,
 "nbformat_minor": 5
}
